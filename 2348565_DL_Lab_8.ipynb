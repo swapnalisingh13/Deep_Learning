{
  "cells": [
    {
      "cell_type": "markdown",
      "metadata": {
        "id": "bGQoiTIZkKQ9"
      },
      "source": [
        "## YOLO Algortihm with Custom Data Training"
      ]
    },
    {
      "cell_type": "code",
      "execution_count": 1,
      "metadata": {
        "id": "ajO9S1mNkXja"
      },
      "outputs": [],
      "source": [
        "from ultralytics import YOLO\n",
        "import cv2\n",
        "import math"
      ]
    },
    {
      "cell_type": "code",
      "execution_count": 2,
      "metadata": {
        "colab": {
          "base_uri": "https://localhost:8080/",
          "height": 1000
        },
        "id": "tdr4tGhaHqku",
        "outputId": "05686db8-9b1c-41fd-d1ff-8ef81253876b"
      },
      "outputs": [
        {
          "name": "stdout",
          "output_type": "stream",
          "text": [
            "New https://pypi.org/project/ultralytics/8.2.2 available  Update with 'pip install -U ultralytics'\n",
            "Ultralytics YOLOv8.1.45  Python-3.11.1 torch-2.2.2+cpu CPU (AMD Ryzen 5 3500U with Radeon Vega Mobile Gfx)\n",
            "\u001b[34m\u001b[1mengine\\trainer: \u001b[0mtask=detect, mode=train, model=yolov8n.yaml, data=yolo.yaml, epochs=5, time=None, patience=100, batch=16, imgsz=640, save=True, save_period=-1, cache=False, device=None, workers=8, project=None, name=train3, exist_ok=False, pretrained=True, optimizer=auto, verbose=True, seed=0, deterministic=True, single_cls=False, rect=False, cos_lr=False, close_mosaic=10, resume=False, amp=True, fraction=1.0, profile=False, freeze=None, multi_scale=False, overlap_mask=True, mask_ratio=4, dropout=0.0, val=True, split=val, save_json=False, save_hybrid=False, conf=None, iou=0.7, max_det=300, half=False, dnn=False, plots=True, source=None, vid_stride=1, stream_buffer=False, visualize=False, augment=False, agnostic_nms=False, classes=None, retina_masks=False, embed=None, show=False, save_frames=False, save_txt=False, save_conf=False, save_crop=False, show_labels=True, show_conf=True, show_boxes=True, line_width=None, format=torchscript, keras=False, optimize=False, int8=False, dynamic=False, simplify=False, opset=None, workspace=4, nms=False, lr0=0.01, lrf=0.01, momentum=0.937, weight_decay=0.0005, warmup_epochs=3.0, warmup_momentum=0.8, warmup_bias_lr=0.1, box=7.5, cls=0.5, dfl=1.5, pose=12.0, kobj=1.0, label_smoothing=0.0, nbs=64, hsv_h=0.015, hsv_s=0.7, hsv_v=0.4, degrees=0.0, translate=0.1, scale=0.5, shear=0.0, perspective=0.0, flipud=0.0, fliplr=0.5, bgr=0.0, mosaic=1.0, mixup=0.0, copy_paste=0.0, auto_augment=randaugment, erasing=0.4, crop_fraction=1.0, cfg=None, tracker=botsort.yaml, save_dir=runs\\detect\\train3\n"
          ]
        }
      ],
      "source": [
        "from ultralytics import YOLO\n",
        "\n",
        "# Load a model\n",
        "model = YOLO(\"yolov8n.yaml\")  # build a new model from scratch\n",
        "\n",
        "# Use the model\n",
        "model.train(data=\"yolo.yaml\", epochs=5)  # train the model\n",
        "metrics = model.val()  # evaluate model performance on the validation set"
      ]
    },
    {
      "cell_type": "code",
      "execution_count": 3,
      "metadata": {
        "colab": {
          "base_uri": "https://localhost:8080/",
          "height": 854
        },
        "id": "2B3wRKqw2iKc",
        "outputId": "60095eac-2849-4c49-97ec-5c15fd635e24"
      },
      "outputs": [
        {
          "name": "stdout",
          "output_type": "stream",
          "text": [
            "Downloading https://github.com/ultralytics/assets/releases/download/v8.1.0/yolov8n.pt to 'yolov8n.pt'...\n"
          ]
        },
        {
          "name": "stderr",
          "output_type": "stream",
          "text": [
            "  3%|▎         | 160k/6.23M [00:00<00:34, 185kB/s]  "
          ]
        },
        {
          "name": "stderr",
          "output_type": "stream",
          "text": [
            "100%|██████████| 6.23M/6.23M [00:28<00:00, 227kB/s] \n"
          ]
        },
        {
          "name": "stdout",
          "output_type": "stream",
          "text": [
            "\n",
            "0: 640x448 1 person, 1 truck, 2121.9ms\n",
            "Speed: 4.6ms preprocess, 2121.9ms inference, 56.9ms postprocess per image at shape (1, 3, 640, 448)\n",
            "Confidence ---> 0.85\n",
            "Class name --> Unknown\n",
            "Confidence ---> 0.53\n",
            "Class name --> bus\n"
          ]
        }
      ],
      "source": [
        "import cv2\n",
        "import math\n",
        "import yaml\n",
        "from ultralytics import YOLO\n",
        "import matplotlib.pyplot as pt\n",
        "with open(\"yolo.yaml\", \"r\") as file:\n",
        "    config = yaml.safe_load(file)\n",
        "img = cv2.imread(r\"D:\\\\Datasets\\\\vehicles\\\\images\\\\train\\\\pexels-efrem-efre-18185665.jpg\")\n",
        "fig, ax = pt.subplots(nrows=1, ncols=2, figsize=(8,8))\n",
        "ax[0].imshow(img)\n",
        "model = YOLO(\"yolov8n.pt\")\n",
        "classNames = config['names']\n",
        "results = model(img)\n",
        "# Coordinates\n",
        "for r in results:\n",
        "    boxes = r.boxes\n",
        "    for box in boxes:\n",
        "        # Bounding box\n",
        "        x1, y1, x2, y2 = box.xyxy[0]\n",
        "        x1, y1, x2, y2 = int(x1), int(y1), int(x2), int(y2)  # Convert to int values\n",
        "        # Put box in image\n",
        "        cv2.rectangle(img, (x1, y1), (x2, y2), (255, 0, 255), 3)\n",
        "        # Confidence\n",
        "        confidence = math.ceil((box.conf[0] * 100)) / 100\n",
        "        print(\"Confidence --->\", confidence)\n",
        "        # Class name\n",
        "        cls = int(box.cls[0])\n",
        "        class_name = classNames[cls] if 0 <= cls < len(classNames) else \"Unknown\"\n",
        "        print(\"Class name -->\", class_name)\n",
        "        # Object details\n",
        "        org = [x1, y1]\n",
        "        font = cv2.FONT_HERSHEY_SIMPLEX\n",
        "        fontScale = 1\n",
        "        color = (255, 0, 0)\n",
        "        thickness = 2\n",
        "        cv2.putText(img, class_name, org, font, fontScale, color, thickness)\n",
        "ax[1].imshow(img);"
      ]
    },
    {
      "cell_type": "code",
      "execution_count": null,
      "metadata": {
        "id": "eNyZdv3z1JHG"
      },
      "outputs": [],
      "source": []
    }
  ],
  "metadata": {
    "colab": {
      "provenance": []
    },
    "kernelspec": {
      "display_name": "Python 3",
      "name": "python3"
    },
    "language_info": {
      "codemirror_mode": {
        "name": "ipython",
        "version": 3
      },
      "file_extension": ".py",
      "mimetype": "text/x-python",
      "name": "python",
      "nbconvert_exporter": "python",
      "pygments_lexer": "ipython3",
      "version": "3.11.1"
    }
  },
  "nbformat": 4,
  "nbformat_minor": 0
}
