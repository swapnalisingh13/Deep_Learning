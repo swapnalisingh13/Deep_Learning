{
  "nbformat": 4,
  "nbformat_minor": 0,
  "metadata": {
    "colab": {
      "provenance": [],
      "authorship_tag": "ABX9TyNJYakGrBTeZia+DlCjUVjW",
      "include_colab_link": true
    },
    "kernelspec": {
      "name": "python3",
      "display_name": "Python 3"
    },
    "language_info": {
      "name": "python"
    }
  },
  "cells": [
    {
      "cell_type": "markdown",
      "metadata": {
        "id": "view-in-github",
        "colab_type": "text"
      },
      "source": [
        "<a href=\"https://colab.research.google.com/github/swapnalisingh13/Deep_Learning/blob/main/DL_Lab3_2348565.ipynb\" target=\"_parent\"><img src=\"https://colab.research.google.com/assets/colab-badge.svg\" alt=\"Open In Colab\"/></a>"
      ]
    },
    {
      "cell_type": "markdown",
      "source": [
        "Q1."
      ],
      "metadata": {
        "id": "g0LEW7wNUjPP"
      }
    },
    {
      "cell_type": "code",
      "execution_count": null,
      "metadata": {
        "colab": {
          "base_uri": "https://localhost:8080/"
        },
        "id": "Sx8DqjyeHmgs",
        "outputId": "e9e69964-f981-4cf1-b19f-f3ccdb0203e3"
      },
      "outputs": [
        {
          "output_type": "stream",
          "name": "stdout",
          "text": [
            "For iteration  1  Price:  20.1  Revenue cost:  -300.995\n",
            "For iteration  2  Price:  20.289  Revenue cost:  -302.84823950000003\n",
            "For iteration  3  Price:  20.55621  Revenue cost:  -305.40741521794996\n"
          ]
        }
      ],
      "source": [
        "import numpy as np\n",
        "\n",
        "def eqxn(x):\n",
        "    return (0.5*(x**2))-(30*x)+(100)\n",
        "\n",
        "# derivative\n",
        "def eqxn_derivative(x):\n",
        "    return x - 30\n",
        "\n",
        "#starting value, momentum term\n",
        "x = 20\n",
        "A = 0.1\n",
        "m = 0.9\n",
        "\n",
        "#momentum initializing it to 0\n",
        "iv=0\n",
        "#for 3 iterations\n",
        "i=3\n",
        "for iter in range(i):\n",
        "\n",
        "    a1 = eqxn_derivative(x)\n",
        "    #updating momentum\n",
        "    iv = m * iv + (1-m) * a1\n",
        "\n",
        "    x = x - A * iv\n",
        "    cost = eqxn(x)\n",
        "    #to print 3 iterations.\n",
        "    print(\"For iteration \",iter+1,\" Price: \",x, \" Revenue cost: \",cost)\n"
      ]
    },
    {
      "cell_type": "code",
      "source": [
        "#to find the optimal price\n",
        "i=500\n",
        "for iter in range(i):\n",
        "\n",
        "    a1 = eqxn_derivative(x)\n",
        "    #updating momentum\n",
        "    iv = m * iv + (1-m) * a1\n",
        "\n",
        "    x = x - A * iv\n",
        "    cost = eqxn(x)\n",
        "\n",
        "print(\"Optimal Price:\", x)"
      ],
      "metadata": {
        "colab": {
          "base_uri": "https://localhost:8080/"
        },
        "id": "1SZDwMkLRKOl",
        "outputId": "5eb39935-1cdf-497c-82a0-e91e562021c6"
      },
      "execution_count": null,
      "outputs": [
        {
          "output_type": "stream",
          "name": "stdout",
          "text": [
            "Optimal Price: 29.999999999965066\n"
          ]
        }
      ]
    },
    {
      "cell_type": "markdown",
      "source": [
        "Q2."
      ],
      "metadata": {
        "id": "XmWOTwpsUhH8"
      }
    },
    {
      "cell_type": "code",
      "source": [
        "import pandas as pd\n",
        "import matplotlib.pyplot as plt\n",
        "import seaborn as sns\n",
        "from sklearn.preprocessing import LabelEncoder, StandardScaler\n",
        "from sklearn.model_selection import train_test_split\n",
        "from sklearn.metrics import accuracy_score, precision_score, recall_score, f1_score, confusion_matrix, roc_curve, auc\n",
        "import tensorflow as tf\n",
        "from tensorflow.keras.models import Sequential\n",
        "from tensorflow.keras.regularizers import l1, l2, l1_l2\n",
        "from tensorflow.keras.layers import Dense\n",
        "from tensorflow.keras import regularizers"
      ],
      "metadata": {
        "id": "ojn-EhQwOko8"
      },
      "execution_count": 80,
      "outputs": []
    },
    {
      "cell_type": "code",
      "source": [
        "df=pd.read_csv('/content/breast-cancer.csv')\n",
        "df"
      ],
      "metadata": {
        "colab": {
          "base_uri": "https://localhost:8080/",
          "height": 461
        },
        "id": "_pEwEuE-0SVt",
        "outputId": "06f9d789-a3cc-44c9-a93b-57b5bc8b2989"
      },
      "execution_count": null,
      "outputs": [
        {
          "output_type": "execute_result",
          "data": {
            "text/plain": [
              "           id diagnosis  radius_mean  texture_mean  perimeter_mean  area_mean  \\\n",
              "0      842302         M        17.99         10.38          122.80     1001.0   \n",
              "1      842517         M        20.57         17.77          132.90     1326.0   \n",
              "2    84300903         M        19.69         21.25          130.00     1203.0   \n",
              "3    84348301         M        11.42         20.38           77.58      386.1   \n",
              "4    84358402         M        20.29         14.34          135.10     1297.0   \n",
              "..        ...       ...          ...           ...             ...        ...   \n",
              "564    926424         M        21.56         22.39          142.00     1479.0   \n",
              "565    926682         M        20.13         28.25          131.20     1261.0   \n",
              "566    926954         M        16.60         28.08          108.30      858.1   \n",
              "567    927241         M        20.60         29.33          140.10     1265.0   \n",
              "568     92751         B         7.76         24.54           47.92      181.0   \n",
              "\n",
              "     smoothness_mean  compactness_mean  concavity_mean  concave points_mean  \\\n",
              "0            0.11840           0.27760         0.30010              0.14710   \n",
              "1            0.08474           0.07864         0.08690              0.07017   \n",
              "2            0.10960           0.15990         0.19740              0.12790   \n",
              "3            0.14250           0.28390         0.24140              0.10520   \n",
              "4            0.10030           0.13280         0.19800              0.10430   \n",
              "..               ...               ...             ...                  ...   \n",
              "564          0.11100           0.11590         0.24390              0.13890   \n",
              "565          0.09780           0.10340         0.14400              0.09791   \n",
              "566          0.08455           0.10230         0.09251              0.05302   \n",
              "567          0.11780           0.27700         0.35140              0.15200   \n",
              "568          0.05263           0.04362         0.00000              0.00000   \n",
              "\n",
              "     ...  radius_worst  texture_worst  perimeter_worst  area_worst  \\\n",
              "0    ...        25.380          17.33           184.60      2019.0   \n",
              "1    ...        24.990          23.41           158.80      1956.0   \n",
              "2    ...        23.570          25.53           152.50      1709.0   \n",
              "3    ...        14.910          26.50            98.87       567.7   \n",
              "4    ...        22.540          16.67           152.20      1575.0   \n",
              "..   ...           ...            ...              ...         ...   \n",
              "564  ...        25.450          26.40           166.10      2027.0   \n",
              "565  ...        23.690          38.25           155.00      1731.0   \n",
              "566  ...        18.980          34.12           126.70      1124.0   \n",
              "567  ...        25.740          39.42           184.60      1821.0   \n",
              "568  ...         9.456          30.37            59.16       268.6   \n",
              "\n",
              "     smoothness_worst  compactness_worst  concavity_worst  \\\n",
              "0             0.16220            0.66560           0.7119   \n",
              "1             0.12380            0.18660           0.2416   \n",
              "2             0.14440            0.42450           0.4504   \n",
              "3             0.20980            0.86630           0.6869   \n",
              "4             0.13740            0.20500           0.4000   \n",
              "..                ...                ...              ...   \n",
              "564           0.14100            0.21130           0.4107   \n",
              "565           0.11660            0.19220           0.3215   \n",
              "566           0.11390            0.30940           0.3403   \n",
              "567           0.16500            0.86810           0.9387   \n",
              "568           0.08996            0.06444           0.0000   \n",
              "\n",
              "     concave points_worst  symmetry_worst  fractal_dimension_worst  \n",
              "0                  0.2654          0.4601                  0.11890  \n",
              "1                  0.1860          0.2750                  0.08902  \n",
              "2                  0.2430          0.3613                  0.08758  \n",
              "3                  0.2575          0.6638                  0.17300  \n",
              "4                  0.1625          0.2364                  0.07678  \n",
              "..                    ...             ...                      ...  \n",
              "564                0.2216          0.2060                  0.07115  \n",
              "565                0.1628          0.2572                  0.06637  \n",
              "566                0.1418          0.2218                  0.07820  \n",
              "567                0.2650          0.4087                  0.12400  \n",
              "568                0.0000          0.2871                  0.07039  \n",
              "\n",
              "[569 rows x 32 columns]"
            ],
            "text/html": [
              "\n",
              "  <div id=\"df-38427df9-2b7b-4c65-8f86-374b86f9fc5e\" class=\"colab-df-container\">\n",
              "    <div>\n",
              "<style scoped>\n",
              "    .dataframe tbody tr th:only-of-type {\n",
              "        vertical-align: middle;\n",
              "    }\n",
              "\n",
              "    .dataframe tbody tr th {\n",
              "        vertical-align: top;\n",
              "    }\n",
              "\n",
              "    .dataframe thead th {\n",
              "        text-align: right;\n",
              "    }\n",
              "</style>\n",
              "<table border=\"1\" class=\"dataframe\">\n",
              "  <thead>\n",
              "    <tr style=\"text-align: right;\">\n",
              "      <th></th>\n",
              "      <th>id</th>\n",
              "      <th>diagnosis</th>\n",
              "      <th>radius_mean</th>\n",
              "      <th>texture_mean</th>\n",
              "      <th>perimeter_mean</th>\n",
              "      <th>area_mean</th>\n",
              "      <th>smoothness_mean</th>\n",
              "      <th>compactness_mean</th>\n",
              "      <th>concavity_mean</th>\n",
              "      <th>concave points_mean</th>\n",
              "      <th>...</th>\n",
              "      <th>radius_worst</th>\n",
              "      <th>texture_worst</th>\n",
              "      <th>perimeter_worst</th>\n",
              "      <th>area_worst</th>\n",
              "      <th>smoothness_worst</th>\n",
              "      <th>compactness_worst</th>\n",
              "      <th>concavity_worst</th>\n",
              "      <th>concave points_worst</th>\n",
              "      <th>symmetry_worst</th>\n",
              "      <th>fractal_dimension_worst</th>\n",
              "    </tr>\n",
              "  </thead>\n",
              "  <tbody>\n",
              "    <tr>\n",
              "      <th>0</th>\n",
              "      <td>842302</td>\n",
              "      <td>M</td>\n",
              "      <td>17.99</td>\n",
              "      <td>10.38</td>\n",
              "      <td>122.80</td>\n",
              "      <td>1001.0</td>\n",
              "      <td>0.11840</td>\n",
              "      <td>0.27760</td>\n",
              "      <td>0.30010</td>\n",
              "      <td>0.14710</td>\n",
              "      <td>...</td>\n",
              "      <td>25.380</td>\n",
              "      <td>17.33</td>\n",
              "      <td>184.60</td>\n",
              "      <td>2019.0</td>\n",
              "      <td>0.16220</td>\n",
              "      <td>0.66560</td>\n",
              "      <td>0.7119</td>\n",
              "      <td>0.2654</td>\n",
              "      <td>0.4601</td>\n",
              "      <td>0.11890</td>\n",
              "    </tr>\n",
              "    <tr>\n",
              "      <th>1</th>\n",
              "      <td>842517</td>\n",
              "      <td>M</td>\n",
              "      <td>20.57</td>\n",
              "      <td>17.77</td>\n",
              "      <td>132.90</td>\n",
              "      <td>1326.0</td>\n",
              "      <td>0.08474</td>\n",
              "      <td>0.07864</td>\n",
              "      <td>0.08690</td>\n",
              "      <td>0.07017</td>\n",
              "      <td>...</td>\n",
              "      <td>24.990</td>\n",
              "      <td>23.41</td>\n",
              "      <td>158.80</td>\n",
              "      <td>1956.0</td>\n",
              "      <td>0.12380</td>\n",
              "      <td>0.18660</td>\n",
              "      <td>0.2416</td>\n",
              "      <td>0.1860</td>\n",
              "      <td>0.2750</td>\n",
              "      <td>0.08902</td>\n",
              "    </tr>\n",
              "    <tr>\n",
              "      <th>2</th>\n",
              "      <td>84300903</td>\n",
              "      <td>M</td>\n",
              "      <td>19.69</td>\n",
              "      <td>21.25</td>\n",
              "      <td>130.00</td>\n",
              "      <td>1203.0</td>\n",
              "      <td>0.10960</td>\n",
              "      <td>0.15990</td>\n",
              "      <td>0.19740</td>\n",
              "      <td>0.12790</td>\n",
              "      <td>...</td>\n",
              "      <td>23.570</td>\n",
              "      <td>25.53</td>\n",
              "      <td>152.50</td>\n",
              "      <td>1709.0</td>\n",
              "      <td>0.14440</td>\n",
              "      <td>0.42450</td>\n",
              "      <td>0.4504</td>\n",
              "      <td>0.2430</td>\n",
              "      <td>0.3613</td>\n",
              "      <td>0.08758</td>\n",
              "    </tr>\n",
              "    <tr>\n",
              "      <th>3</th>\n",
              "      <td>84348301</td>\n",
              "      <td>M</td>\n",
              "      <td>11.42</td>\n",
              "      <td>20.38</td>\n",
              "      <td>77.58</td>\n",
              "      <td>386.1</td>\n",
              "      <td>0.14250</td>\n",
              "      <td>0.28390</td>\n",
              "      <td>0.24140</td>\n",
              "      <td>0.10520</td>\n",
              "      <td>...</td>\n",
              "      <td>14.910</td>\n",
              "      <td>26.50</td>\n",
              "      <td>98.87</td>\n",
              "      <td>567.7</td>\n",
              "      <td>0.20980</td>\n",
              "      <td>0.86630</td>\n",
              "      <td>0.6869</td>\n",
              "      <td>0.2575</td>\n",
              "      <td>0.6638</td>\n",
              "      <td>0.17300</td>\n",
              "    </tr>\n",
              "    <tr>\n",
              "      <th>4</th>\n",
              "      <td>84358402</td>\n",
              "      <td>M</td>\n",
              "      <td>20.29</td>\n",
              "      <td>14.34</td>\n",
              "      <td>135.10</td>\n",
              "      <td>1297.0</td>\n",
              "      <td>0.10030</td>\n",
              "      <td>0.13280</td>\n",
              "      <td>0.19800</td>\n",
              "      <td>0.10430</td>\n",
              "      <td>...</td>\n",
              "      <td>22.540</td>\n",
              "      <td>16.67</td>\n",
              "      <td>152.20</td>\n",
              "      <td>1575.0</td>\n",
              "      <td>0.13740</td>\n",
              "      <td>0.20500</td>\n",
              "      <td>0.4000</td>\n",
              "      <td>0.1625</td>\n",
              "      <td>0.2364</td>\n",
              "      <td>0.07678</td>\n",
              "    </tr>\n",
              "    <tr>\n",
              "      <th>...</th>\n",
              "      <td>...</td>\n",
              "      <td>...</td>\n",
              "      <td>...</td>\n",
              "      <td>...</td>\n",
              "      <td>...</td>\n",
              "      <td>...</td>\n",
              "      <td>...</td>\n",
              "      <td>...</td>\n",
              "      <td>...</td>\n",
              "      <td>...</td>\n",
              "      <td>...</td>\n",
              "      <td>...</td>\n",
              "      <td>...</td>\n",
              "      <td>...</td>\n",
              "      <td>...</td>\n",
              "      <td>...</td>\n",
              "      <td>...</td>\n",
              "      <td>...</td>\n",
              "      <td>...</td>\n",
              "      <td>...</td>\n",
              "      <td>...</td>\n",
              "    </tr>\n",
              "    <tr>\n",
              "      <th>564</th>\n",
              "      <td>926424</td>\n",
              "      <td>M</td>\n",
              "      <td>21.56</td>\n",
              "      <td>22.39</td>\n",
              "      <td>142.00</td>\n",
              "      <td>1479.0</td>\n",
              "      <td>0.11100</td>\n",
              "      <td>0.11590</td>\n",
              "      <td>0.24390</td>\n",
              "      <td>0.13890</td>\n",
              "      <td>...</td>\n",
              "      <td>25.450</td>\n",
              "      <td>26.40</td>\n",
              "      <td>166.10</td>\n",
              "      <td>2027.0</td>\n",
              "      <td>0.14100</td>\n",
              "      <td>0.21130</td>\n",
              "      <td>0.4107</td>\n",
              "      <td>0.2216</td>\n",
              "      <td>0.2060</td>\n",
              "      <td>0.07115</td>\n",
              "    </tr>\n",
              "    <tr>\n",
              "      <th>565</th>\n",
              "      <td>926682</td>\n",
              "      <td>M</td>\n",
              "      <td>20.13</td>\n",
              "      <td>28.25</td>\n",
              "      <td>131.20</td>\n",
              "      <td>1261.0</td>\n",
              "      <td>0.09780</td>\n",
              "      <td>0.10340</td>\n",
              "      <td>0.14400</td>\n",
              "      <td>0.09791</td>\n",
              "      <td>...</td>\n",
              "      <td>23.690</td>\n",
              "      <td>38.25</td>\n",
              "      <td>155.00</td>\n",
              "      <td>1731.0</td>\n",
              "      <td>0.11660</td>\n",
              "      <td>0.19220</td>\n",
              "      <td>0.3215</td>\n",
              "      <td>0.1628</td>\n",
              "      <td>0.2572</td>\n",
              "      <td>0.06637</td>\n",
              "    </tr>\n",
              "    <tr>\n",
              "      <th>566</th>\n",
              "      <td>926954</td>\n",
              "      <td>M</td>\n",
              "      <td>16.60</td>\n",
              "      <td>28.08</td>\n",
              "      <td>108.30</td>\n",
              "      <td>858.1</td>\n",
              "      <td>0.08455</td>\n",
              "      <td>0.10230</td>\n",
              "      <td>0.09251</td>\n",
              "      <td>0.05302</td>\n",
              "      <td>...</td>\n",
              "      <td>18.980</td>\n",
              "      <td>34.12</td>\n",
              "      <td>126.70</td>\n",
              "      <td>1124.0</td>\n",
              "      <td>0.11390</td>\n",
              "      <td>0.30940</td>\n",
              "      <td>0.3403</td>\n",
              "      <td>0.1418</td>\n",
              "      <td>0.2218</td>\n",
              "      <td>0.07820</td>\n",
              "    </tr>\n",
              "    <tr>\n",
              "      <th>567</th>\n",
              "      <td>927241</td>\n",
              "      <td>M</td>\n",
              "      <td>20.60</td>\n",
              "      <td>29.33</td>\n",
              "      <td>140.10</td>\n",
              "      <td>1265.0</td>\n",
              "      <td>0.11780</td>\n",
              "      <td>0.27700</td>\n",
              "      <td>0.35140</td>\n",
              "      <td>0.15200</td>\n",
              "      <td>...</td>\n",
              "      <td>25.740</td>\n",
              "      <td>39.42</td>\n",
              "      <td>184.60</td>\n",
              "      <td>1821.0</td>\n",
              "      <td>0.16500</td>\n",
              "      <td>0.86810</td>\n",
              "      <td>0.9387</td>\n",
              "      <td>0.2650</td>\n",
              "      <td>0.4087</td>\n",
              "      <td>0.12400</td>\n",
              "    </tr>\n",
              "    <tr>\n",
              "      <th>568</th>\n",
              "      <td>92751</td>\n",
              "      <td>B</td>\n",
              "      <td>7.76</td>\n",
              "      <td>24.54</td>\n",
              "      <td>47.92</td>\n",
              "      <td>181.0</td>\n",
              "      <td>0.05263</td>\n",
              "      <td>0.04362</td>\n",
              "      <td>0.00000</td>\n",
              "      <td>0.00000</td>\n",
              "      <td>...</td>\n",
              "      <td>9.456</td>\n",
              "      <td>30.37</td>\n",
              "      <td>59.16</td>\n",
              "      <td>268.6</td>\n",
              "      <td>0.08996</td>\n",
              "      <td>0.06444</td>\n",
              "      <td>0.0000</td>\n",
              "      <td>0.0000</td>\n",
              "      <td>0.2871</td>\n",
              "      <td>0.07039</td>\n",
              "    </tr>\n",
              "  </tbody>\n",
              "</table>\n",
              "<p>569 rows × 32 columns</p>\n",
              "</div>\n",
              "    <div class=\"colab-df-buttons\">\n",
              "\n",
              "  <div class=\"colab-df-container\">\n",
              "    <button class=\"colab-df-convert\" onclick=\"convertToInteractive('df-38427df9-2b7b-4c65-8f86-374b86f9fc5e')\"\n",
              "            title=\"Convert this dataframe to an interactive table.\"\n",
              "            style=\"display:none;\">\n",
              "\n",
              "  <svg xmlns=\"http://www.w3.org/2000/svg\" height=\"24px\" viewBox=\"0 -960 960 960\">\n",
              "    <path d=\"M120-120v-720h720v720H120Zm60-500h600v-160H180v160Zm220 220h160v-160H400v160Zm0 220h160v-160H400v160ZM180-400h160v-160H180v160Zm440 0h160v-160H620v160ZM180-180h160v-160H180v160Zm440 0h160v-160H620v160Z\"/>\n",
              "  </svg>\n",
              "    </button>\n",
              "\n",
              "  <style>\n",
              "    .colab-df-container {\n",
              "      display:flex;\n",
              "      gap: 12px;\n",
              "    }\n",
              "\n",
              "    .colab-df-convert {\n",
              "      background-color: #E8F0FE;\n",
              "      border: none;\n",
              "      border-radius: 50%;\n",
              "      cursor: pointer;\n",
              "      display: none;\n",
              "      fill: #1967D2;\n",
              "      height: 32px;\n",
              "      padding: 0 0 0 0;\n",
              "      width: 32px;\n",
              "    }\n",
              "\n",
              "    .colab-df-convert:hover {\n",
              "      background-color: #E2EBFA;\n",
              "      box-shadow: 0px 1px 2px rgba(60, 64, 67, 0.3), 0px 1px 3px 1px rgba(60, 64, 67, 0.15);\n",
              "      fill: #174EA6;\n",
              "    }\n",
              "\n",
              "    .colab-df-buttons div {\n",
              "      margin-bottom: 4px;\n",
              "    }\n",
              "\n",
              "    [theme=dark] .colab-df-convert {\n",
              "      background-color: #3B4455;\n",
              "      fill: #D2E3FC;\n",
              "    }\n",
              "\n",
              "    [theme=dark] .colab-df-convert:hover {\n",
              "      background-color: #434B5C;\n",
              "      box-shadow: 0px 1px 3px 1px rgba(0, 0, 0, 0.15);\n",
              "      filter: drop-shadow(0px 1px 2px rgba(0, 0, 0, 0.3));\n",
              "      fill: #FFFFFF;\n",
              "    }\n",
              "  </style>\n",
              "\n",
              "    <script>\n",
              "      const buttonEl =\n",
              "        document.querySelector('#df-38427df9-2b7b-4c65-8f86-374b86f9fc5e button.colab-df-convert');\n",
              "      buttonEl.style.display =\n",
              "        google.colab.kernel.accessAllowed ? 'block' : 'none';\n",
              "\n",
              "      async function convertToInteractive(key) {\n",
              "        const element = document.querySelector('#df-38427df9-2b7b-4c65-8f86-374b86f9fc5e');\n",
              "        const dataTable =\n",
              "          await google.colab.kernel.invokeFunction('convertToInteractive',\n",
              "                                                    [key], {});\n",
              "        if (!dataTable) return;\n",
              "\n",
              "        const docLinkHtml = 'Like what you see? Visit the ' +\n",
              "          '<a target=\"_blank\" href=https://colab.research.google.com/notebooks/data_table.ipynb>data table notebook</a>'\n",
              "          + ' to learn more about interactive tables.';\n",
              "        element.innerHTML = '';\n",
              "        dataTable['output_type'] = 'display_data';\n",
              "        await google.colab.output.renderOutput(dataTable, element);\n",
              "        const docLink = document.createElement('div');\n",
              "        docLink.innerHTML = docLinkHtml;\n",
              "        element.appendChild(docLink);\n",
              "      }\n",
              "    </script>\n",
              "  </div>\n",
              "\n",
              "\n",
              "<div id=\"df-eae48297-95f5-430c-a461-e9489ad16fb2\">\n",
              "  <button class=\"colab-df-quickchart\" onclick=\"quickchart('df-eae48297-95f5-430c-a461-e9489ad16fb2')\"\n",
              "            title=\"Suggest charts\"\n",
              "            style=\"display:none;\">\n",
              "\n",
              "<svg xmlns=\"http://www.w3.org/2000/svg\" height=\"24px\"viewBox=\"0 0 24 24\"\n",
              "     width=\"24px\">\n",
              "    <g>\n",
              "        <path d=\"M19 3H5c-1.1 0-2 .9-2 2v14c0 1.1.9 2 2 2h14c1.1 0 2-.9 2-2V5c0-1.1-.9-2-2-2zM9 17H7v-7h2v7zm4 0h-2V7h2v10zm4 0h-2v-4h2v4z\"/>\n",
              "    </g>\n",
              "</svg>\n",
              "  </button>\n",
              "\n",
              "<style>\n",
              "  .colab-df-quickchart {\n",
              "      --bg-color: #E8F0FE;\n",
              "      --fill-color: #1967D2;\n",
              "      --hover-bg-color: #E2EBFA;\n",
              "      --hover-fill-color: #174EA6;\n",
              "      --disabled-fill-color: #AAA;\n",
              "      --disabled-bg-color: #DDD;\n",
              "  }\n",
              "\n",
              "  [theme=dark] .colab-df-quickchart {\n",
              "      --bg-color: #3B4455;\n",
              "      --fill-color: #D2E3FC;\n",
              "      --hover-bg-color: #434B5C;\n",
              "      --hover-fill-color: #FFFFFF;\n",
              "      --disabled-bg-color: #3B4455;\n",
              "      --disabled-fill-color: #666;\n",
              "  }\n",
              "\n",
              "  .colab-df-quickchart {\n",
              "    background-color: var(--bg-color);\n",
              "    border: none;\n",
              "    border-radius: 50%;\n",
              "    cursor: pointer;\n",
              "    display: none;\n",
              "    fill: var(--fill-color);\n",
              "    height: 32px;\n",
              "    padding: 0;\n",
              "    width: 32px;\n",
              "  }\n",
              "\n",
              "  .colab-df-quickchart:hover {\n",
              "    background-color: var(--hover-bg-color);\n",
              "    box-shadow: 0 1px 2px rgba(60, 64, 67, 0.3), 0 1px 3px 1px rgba(60, 64, 67, 0.15);\n",
              "    fill: var(--button-hover-fill-color);\n",
              "  }\n",
              "\n",
              "  .colab-df-quickchart-complete:disabled,\n",
              "  .colab-df-quickchart-complete:disabled:hover {\n",
              "    background-color: var(--disabled-bg-color);\n",
              "    fill: var(--disabled-fill-color);\n",
              "    box-shadow: none;\n",
              "  }\n",
              "\n",
              "  .colab-df-spinner {\n",
              "    border: 2px solid var(--fill-color);\n",
              "    border-color: transparent;\n",
              "    border-bottom-color: var(--fill-color);\n",
              "    animation:\n",
              "      spin 1s steps(1) infinite;\n",
              "  }\n",
              "\n",
              "  @keyframes spin {\n",
              "    0% {\n",
              "      border-color: transparent;\n",
              "      border-bottom-color: var(--fill-color);\n",
              "      border-left-color: var(--fill-color);\n",
              "    }\n",
              "    20% {\n",
              "      border-color: transparent;\n",
              "      border-left-color: var(--fill-color);\n",
              "      border-top-color: var(--fill-color);\n",
              "    }\n",
              "    30% {\n",
              "      border-color: transparent;\n",
              "      border-left-color: var(--fill-color);\n",
              "      border-top-color: var(--fill-color);\n",
              "      border-right-color: var(--fill-color);\n",
              "    }\n",
              "    40% {\n",
              "      border-color: transparent;\n",
              "      border-right-color: var(--fill-color);\n",
              "      border-top-color: var(--fill-color);\n",
              "    }\n",
              "    60% {\n",
              "      border-color: transparent;\n",
              "      border-right-color: var(--fill-color);\n",
              "    }\n",
              "    80% {\n",
              "      border-color: transparent;\n",
              "      border-right-color: var(--fill-color);\n",
              "      border-bottom-color: var(--fill-color);\n",
              "    }\n",
              "    90% {\n",
              "      border-color: transparent;\n",
              "      border-bottom-color: var(--fill-color);\n",
              "    }\n",
              "  }\n",
              "</style>\n",
              "\n",
              "  <script>\n",
              "    async function quickchart(key) {\n",
              "      const quickchartButtonEl =\n",
              "        document.querySelector('#' + key + ' button');\n",
              "      quickchartButtonEl.disabled = true;  // To prevent multiple clicks.\n",
              "      quickchartButtonEl.classList.add('colab-df-spinner');\n",
              "      try {\n",
              "        const charts = await google.colab.kernel.invokeFunction(\n",
              "            'suggestCharts', [key], {});\n",
              "      } catch (error) {\n",
              "        console.error('Error during call to suggestCharts:', error);\n",
              "      }\n",
              "      quickchartButtonEl.classList.remove('colab-df-spinner');\n",
              "      quickchartButtonEl.classList.add('colab-df-quickchart-complete');\n",
              "    }\n",
              "    (() => {\n",
              "      let quickchartButtonEl =\n",
              "        document.querySelector('#df-eae48297-95f5-430c-a461-e9489ad16fb2 button');\n",
              "      quickchartButtonEl.style.display =\n",
              "        google.colab.kernel.accessAllowed ? 'block' : 'none';\n",
              "    })();\n",
              "  </script>\n",
              "</div>\n",
              "    </div>\n",
              "  </div>\n"
            ],
            "application/vnd.google.colaboratory.intrinsic+json": {
              "type": "dataframe",
              "variable_name": "df"
            }
          },
          "metadata": {},
          "execution_count": 41
        }
      ]
    },
    {
      "cell_type": "code",
      "source": [
        "df.shape"
      ],
      "metadata": {
        "colab": {
          "base_uri": "https://localhost:8080/"
        },
        "id": "d65AbajK5vUN",
        "outputId": "7d3b38eb-2004-4ab6-ce3b-12afd2b0f032"
      },
      "execution_count": null,
      "outputs": [
        {
          "output_type": "execute_result",
          "data": {
            "text/plain": [
              "(569, 32)"
            ]
          },
          "metadata": {},
          "execution_count": 29
        }
      ]
    },
    {
      "cell_type": "code",
      "source": [
        "df.dtypes"
      ],
      "metadata": {
        "colab": {
          "base_uri": "https://localhost:8080/"
        },
        "id": "nzy7j6Dj5o_S",
        "outputId": "ae852ad5-3783-4138-fa5c-7e132db65a6f"
      },
      "execution_count": null,
      "outputs": [
        {
          "output_type": "execute_result",
          "data": {
            "text/plain": [
              "id                           int64\n",
              "diagnosis                   object\n",
              "radius_mean                float64\n",
              "texture_mean               float64\n",
              "perimeter_mean             float64\n",
              "area_mean                  float64\n",
              "smoothness_mean            float64\n",
              "compactness_mean           float64\n",
              "concavity_mean             float64\n",
              "concave points_mean        float64\n",
              "symmetry_mean              float64\n",
              "fractal_dimension_mean     float64\n",
              "radius_se                  float64\n",
              "texture_se                 float64\n",
              "perimeter_se               float64\n",
              "area_se                    float64\n",
              "smoothness_se              float64\n",
              "compactness_se             float64\n",
              "concavity_se               float64\n",
              "concave points_se          float64\n",
              "symmetry_se                float64\n",
              "fractal_dimension_se       float64\n",
              "radius_worst               float64\n",
              "texture_worst              float64\n",
              "perimeter_worst            float64\n",
              "area_worst                 float64\n",
              "smoothness_worst           float64\n",
              "compactness_worst          float64\n",
              "concavity_worst            float64\n",
              "concave points_worst       float64\n",
              "symmetry_worst             float64\n",
              "fractal_dimension_worst    float64\n",
              "dtype: object"
            ]
          },
          "metadata": {},
          "execution_count": 30
        }
      ]
    },
    {
      "cell_type": "code",
      "source": [
        "df.isnull().sum()"
      ],
      "metadata": {
        "colab": {
          "base_uri": "https://localhost:8080/"
        },
        "id": "Itj2gVdr5sG8",
        "outputId": "3c412503-b2bd-4115-e6e6-decfd4b7d94c"
      },
      "execution_count": null,
      "outputs": [
        {
          "output_type": "execute_result",
          "data": {
            "text/plain": [
              "id                         0\n",
              "diagnosis                  0\n",
              "radius_mean                0\n",
              "texture_mean               0\n",
              "perimeter_mean             0\n",
              "area_mean                  0\n",
              "smoothness_mean            0\n",
              "compactness_mean           0\n",
              "concavity_mean             0\n",
              "concave points_mean        0\n",
              "symmetry_mean              0\n",
              "fractal_dimension_mean     0\n",
              "radius_se                  0\n",
              "texture_se                 0\n",
              "perimeter_se               0\n",
              "area_se                    0\n",
              "smoothness_se              0\n",
              "compactness_se             0\n",
              "concavity_se               0\n",
              "concave points_se          0\n",
              "symmetry_se                0\n",
              "fractal_dimension_se       0\n",
              "radius_worst               0\n",
              "texture_worst              0\n",
              "perimeter_worst            0\n",
              "area_worst                 0\n",
              "smoothness_worst           0\n",
              "compactness_worst          0\n",
              "concavity_worst            0\n",
              "concave points_worst       0\n",
              "symmetry_worst             0\n",
              "fractal_dimension_worst    0\n",
              "dtype: int64"
            ]
          },
          "metadata": {},
          "execution_count": 31
        }
      ]
    },
    {
      "cell_type": "markdown",
      "source": [
        "No missing values"
      ],
      "metadata": {
        "id": "CKCvXl9y6W2e"
      }
    },
    {
      "cell_type": "markdown",
      "source": [
        "Target Columns:\n",
        "\n",
        "diagnosis\n",
        "\n",
        "whether tumor is malignant or benign\n",
        "Malignant is cancerous while benign is not."
      ],
      "metadata": {
        "id": "Uy3Fp-PT8LxW"
      }
    },
    {
      "cell_type": "markdown",
      "source": [
        "Checking for unbalanced Data"
      ],
      "metadata": {
        "id": "eco2tyFH8quf"
      }
    },
    {
      "cell_type": "code",
      "source": [
        "diag = df[\"diagnosis\"].value_counts()\n",
        "plt.figure(figsize=(10, 6))\n",
        "plt.subplot(1, 2, 1)\n",
        "plt.pie(diag, labels=[\"Malignant\", \"Benign\"], autopct=\"%.2f%%\")\n",
        "plt.title(\"Cancer Counts\")\n",
        "plt.tight_layout()\n",
        "plt.show()"
      ],
      "metadata": {
        "colab": {
          "base_uri": "https://localhost:8080/",
          "height": 536
        },
        "id": "whSldqWh5wol",
        "outputId": "b433e8d5-ad2f-4f5b-c83a-517efe834f9e"
      },
      "execution_count": null,
      "outputs": [
        {
          "output_type": "display_data",
          "data": {
            "text/plain": [
              "<Figure size 1000x600 with 1 Axes>"
            ],
            "image/png": "[encoded data removed]"
          },
          "metadata": {}
        }
      ]
    },
    {
      "cell_type": "markdown",
      "source": [
        "not much imbalance is there so not needed."
      ],
      "metadata": {
        "id": "VWjlyTpR9JXt"
      }
    },
    {
      "cell_type": "code",
      "source": [
        "le = LabelEncoder()\n",
        "for column in df.columns:\n",
        "    if df[column].dtype == 'object':\n",
        "        df[column] = le.fit_transform(df[column])"
      ],
      "metadata": {
        "id": "f4AsuLHg9HKE"
      },
      "execution_count": null,
      "outputs": []
    },
    {
      "cell_type": "code",
      "source": [
        "df.dtypes"
      ],
      "metadata": {
        "colab": {
          "base_uri": "https://localhost:8080/"
        },
        "id": "ctCtPV_Z9etc",
        "outputId": "82d84efa-1257-415a-8ddd-47f5f154d047"
      },
      "execution_count": null,
      "outputs": [
        {
          "output_type": "execute_result",
          "data": {
            "text/plain": [
              "id                           int64\n",
              "diagnosis                    int64\n",
              "radius_mean                float64\n",
              "texture_mean               float64\n",
              "perimeter_mean             float64\n",
              "area_mean                  float64\n",
              "smoothness_mean            float64\n",
              "compactness_mean           float64\n",
              "concavity_mean             float64\n",
              "concave points_mean        float64\n",
              "symmetry_mean              float64\n",
              "fractal_dimension_mean     float64\n",
              "radius_se                  float64\n",
              "texture_se                 float64\n",
              "perimeter_se               float64\n",
              "area_se                    float64\n",
              "smoothness_se              float64\n",
              "compactness_se             float64\n",
              "concavity_se               float64\n",
              "concave points_se          float64\n",
              "symmetry_se                float64\n",
              "fractal_dimension_se       float64\n",
              "radius_worst               float64\n",
              "texture_worst              float64\n",
              "perimeter_worst            float64\n",
              "area_worst                 float64\n",
              "smoothness_worst           float64\n",
              "compactness_worst          float64\n",
              "concavity_worst            float64\n",
              "concave points_worst       float64\n",
              "symmetry_worst             float64\n",
              "fractal_dimension_worst    float64\n",
              "dtype: object"
            ]
          },
          "metadata": {},
          "execution_count": 34
        }
      ]
    },
    {
      "cell_type": "markdown",
      "source": [
        "Training and Testing"
      ],
      "metadata": {
        "id": "LTBE19c6-jK8"
      }
    },
    {
      "cell_type": "markdown",
      "source": [
        "ID will be uniue so not that much used so dropping it."
      ],
      "metadata": {
        "id": "A7zMbf839lQP"
      }
    },
    {
      "cell_type": "code",
      "source": [
        "X = df.drop(columns=['diagnosis', 'id'])\n",
        "y = df['diagnosis']\n",
        "\n",
        "# training and testing dataset\n",
        "X_train, X_test, y_train, y_test = train_test_split(X, y, test_size=0.2, random_state=42)"
      ],
      "metadata": {
        "id": "uBRSF3c998-p"
      },
      "execution_count": null,
      "outputs": []
    },
    {
      "cell_type": "markdown",
      "source": [
        "Scaling"
      ],
      "metadata": {
        "id": "XPbfDk_e-a7u"
      }
    },
    {
      "cell_type": "code",
      "source": [
        "scaler = StandardScaler()\n",
        "X_train = scaler.fit_transform(X_train)\n",
        "X_test = scaler.transform(X_test)"
      ],
      "metadata": {
        "id": "gIVnfntqAAKe"
      },
      "execution_count": null,
      "outputs": []
    },
    {
      "cell_type": "markdown",
      "source": [
        "Model building"
      ],
      "metadata": {
        "id": "fNOCfzMvALCO"
      }
    },
    {
      "cell_type": "code",
      "source": [
        "model = Sequential()\n",
        "model.add(Dense(128, input_dim=X_train.shape[1], activation='relu', kernel_regularizer=regularizers.l1(0.01)))\n",
        "model.add(Dense(64, activation='relu', kernel_regularizer=regularizers.l2(0.01)))\n",
        "model.add(Dense(1, activation='sigmoid'))"
      ],
      "metadata": {
        "id": "zLkSY3kyAJZY"
      },
      "execution_count": null,
      "outputs": []
    },
    {
      "cell_type": "code",
      "source": [
        "model2 = Sequential()\n",
        "model2.add(Dense(128, input_dim=X_train.shape[1], activation='relu', kernel_regularizer=regularizers.l2(0.01)))\n",
        "model2.add(Dense(64, activation='relu', kernel_regularizer=regularizers.l2(0.01)))\n",
        "model2.add(Dense(1, activation='sigmoid'))"
      ],
      "metadata": {
        "id": "TxhR9w2CEgnq"
      },
      "execution_count": null,
      "outputs": []
    },
    {
      "cell_type": "code",
      "source": [
        "model3 = Sequential()\n",
        "model3.add(Dense(128, input_dim=X_train.shape[1], activation='relu', kernel_regularizer=l1_l2(l1=0.01, l2=0.01)))\n",
        "model3.add(Dense(64, activation='relu', kernel_regularizer=l1_l2(l1=0.01, l2=0.01)))\n",
        "model3.add(Dense(1, activation='sigmoid'))"
      ],
      "metadata": {
        "id": "iUgaAcTIEpsm"
      },
      "execution_count": null,
      "outputs": []
    },
    {
      "cell_type": "code",
      "source": [
        "#Adam optimizer\n",
        "model.compile(optimizer='adam', loss='binary_crossentropy', metrics=['accuracy'])\n",
        "model2.compile(optimizer='adam', loss='binary_crossentropy', metrics=['accuracy'])\n",
        "model3.compile(optimizer='adam', loss='binary_crossentropy', metrics=['accuracy'])"
      ],
      "metadata": {
        "id": "UB9z2YrFAnUq"
      },
      "execution_count": 69,
      "outputs": []
    },
    {
      "cell_type": "code",
      "source": [
        "#model training\n",
        "mt = model.fit(X_train, y_train, epochs=100, batch_size=32, validation_split=0.2)"
      ],
      "metadata": {
        "colab": {
          "base_uri": "https://localhost:8080/"
        },
        "id": "Nr9B1DanAzeE",
        "outputId": "cd5afb78-4035-4f15-a208-b164ddf27a38"
      },
      "execution_count": null,
      "outputs": [
        {
          "output_type": "stream",
          "name": "stdout",
          "text": [
            "Epoch 1/100\n",
            "12/12 [==============================] - 0s 14ms/step - loss: 0.1389 - accuracy: 0.9835 - val_loss: 0.1845 - val_accuracy: 0.9341\n",
            "Epoch 2/100\n",
            "12/12 [==============================] - 0s 8ms/step - loss: 0.1421 - accuracy: 0.9863 - val_loss: 0.1827 - val_accuracy: 0.9451\n",
            "Epoch 3/100\n",
            "12/12 [==============================] - 0s 7ms/step - loss: 0.1362 - accuracy: 0.9835 - val_loss: 0.1823 - val_accuracy: 0.9451\n",
            "Epoch 4/100\n",
            "12/12 [==============================] - 0s 6ms/step - loss: 0.1351 - accuracy: 0.9835 - val_loss: 0.1809 - val_accuracy: 0.9341\n",
            "Epoch 5/100\n",
            "12/12 [==============================] - 0s 7ms/step - loss: 0.1340 - accuracy: 0.9863 - val_loss: 0.1818 - val_accuracy: 0.9451\n",
            "Epoch 6/100\n",
            "12/12 [==============================] - 0s 6ms/step - loss: 0.1338 - accuracy: 0.9835 - val_loss: 0.1790 - val_accuracy: 0.9451\n",
            "Epoch 7/100\n",
            "12/12 [==============================] - 0s 6ms/step - loss: 0.1331 - accuracy: 0.9835 - val_loss: 0.1822 - val_accuracy: 0.9341\n",
            "Epoch 8/100\n",
            "12/12 [==============================] - 0s 7ms/step - loss: 0.1321 - accuracy: 0.9808 - val_loss: 0.1748 - val_accuracy: 0.9451\n",
            "Epoch 9/100\n",
            "12/12 [==============================] - 0s 6ms/step - loss: 0.1307 - accuracy: 0.9890 - val_loss: 0.1783 - val_accuracy: 0.9451\n",
            "Epoch 10/100\n",
            "12/12 [==============================] - 0s 7ms/step - loss: 0.1306 - accuracy: 0.9835 - val_loss: 0.1759 - val_accuracy: 0.9451\n",
            "Epoch 11/100\n",
            "12/12 [==============================] - 0s 6ms/step - loss: 0.1298 - accuracy: 0.9890 - val_loss: 0.1735 - val_accuracy: 0.9341\n",
            "Epoch 12/100\n",
            "12/12 [==============================] - 0s 7ms/step - loss: 0.1274 - accuracy: 0.9890 - val_loss: 0.1730 - val_accuracy: 0.9341\n",
            "Epoch 13/100\n",
            "12/12 [==============================] - 0s 9ms/step - loss: 0.1270 - accuracy: 0.9890 - val_loss: 0.1745 - val_accuracy: 0.9451\n",
            "Epoch 14/100\n",
            "12/12 [==============================] - 0s 9ms/step - loss: 0.1261 - accuracy: 0.9863 - val_loss: 0.1717 - val_accuracy: 0.9341\n",
            "Epoch 15/100\n",
            "12/12 [==============================] - 0s 8ms/step - loss: 0.1263 - accuracy: 0.9835 - val_loss: 0.1714 - val_accuracy: 0.9451\n",
            "Epoch 16/100\n",
            "12/12 [==============================] - 0s 7ms/step - loss: 0.1253 - accuracy: 0.9863 - val_loss: 0.1690 - val_accuracy: 0.9451\n",
            "Epoch 17/100\n",
            "12/12 [==============================] - 0s 8ms/step - loss: 0.1250 - accuracy: 0.9890 - val_loss: 0.1694 - val_accuracy: 0.9341\n",
            "Epoch 18/100\n",
            "12/12 [==============================] - 0s 8ms/step - loss: 0.1247 - accuracy: 0.9863 - val_loss: 0.1683 - val_accuracy: 0.9341\n",
            "Epoch 19/100\n",
            "12/12 [==============================] - 0s 7ms/step - loss: 0.1243 - accuracy: 0.9835 - val_loss: 0.1715 - val_accuracy: 0.9451\n",
            "Epoch 20/100\n",
            "12/12 [==============================] - 0s 8ms/step - loss: 0.1240 - accuracy: 0.9835 - val_loss: 0.1677 - val_accuracy: 0.9341\n",
            "Epoch 21/100\n",
            "12/12 [==============================] - 0s 9ms/step - loss: 0.1255 - accuracy: 0.9863 - val_loss: 0.1720 - val_accuracy: 0.9451\n",
            "Epoch 22/100\n",
            "12/12 [==============================] - 0s 7ms/step - loss: 0.1197 - accuracy: 0.9863 - val_loss: 0.1656 - val_accuracy: 0.9451\n",
            "Epoch 23/100\n",
            "12/12 [==============================] - 0s 5ms/step - loss: 0.1218 - accuracy: 0.9890 - val_loss: 0.1682 - val_accuracy: 0.9451\n",
            "Epoch 24/100\n",
            "12/12 [==============================] - 0s 5ms/step - loss: 0.1206 - accuracy: 0.9863 - val_loss: 0.1665 - val_accuracy: 0.9341\n",
            "Epoch 25/100\n",
            "12/12 [==============================] - 0s 5ms/step - loss: 0.1195 - accuracy: 0.9863 - val_loss: 0.1667 - val_accuracy: 0.9451\n",
            "Epoch 26/100\n",
            "12/12 [==============================] - 0s 7ms/step - loss: 0.1201 - accuracy: 0.9835 - val_loss: 0.1649 - val_accuracy: 0.9341\n",
            "Epoch 27/100\n",
            "12/12 [==============================] - 0s 5ms/step - loss: 0.1193 - accuracy: 0.9863 - val_loss: 0.1664 - val_accuracy: 0.9341\n",
            "Epoch 28/100\n",
            "12/12 [==============================] - 0s 6ms/step - loss: 0.1186 - accuracy: 0.9835 - val_loss: 0.1651 - val_accuracy: 0.9341\n",
            "Epoch 29/100\n",
            "12/12 [==============================] - 0s 5ms/step - loss: 0.1167 - accuracy: 0.9890 - val_loss: 0.1621 - val_accuracy: 0.9451\n",
            "Epoch 30/100\n",
            "12/12 [==============================] - 0s 5ms/step - loss: 0.1178 - accuracy: 0.9863 - val_loss: 0.1659 - val_accuracy: 0.9341\n",
            "Epoch 31/100\n",
            "12/12 [==============================] - 0s 5ms/step - loss: 0.1183 - accuracy: 0.9835 - val_loss: 0.1638 - val_accuracy: 0.9341\n",
            "Epoch 32/100\n",
            "12/12 [==============================] - 0s 5ms/step - loss: 0.1167 - accuracy: 0.9863 - val_loss: 0.1631 - val_accuracy: 0.9341\n",
            "Epoch 33/100\n",
            "12/12 [==============================] - 0s 5ms/step - loss: 0.1150 - accuracy: 0.9890 - val_loss: 0.1634 - val_accuracy: 0.9341\n",
            "Epoch 34/100\n",
            "12/12 [==============================] - 0s 5ms/step - loss: 0.1162 - accuracy: 0.9863 - val_loss: 0.1642 - val_accuracy: 0.9341\n",
            "Epoch 35/100\n",
            "12/12 [==============================] - 0s 5ms/step - loss: 0.1147 - accuracy: 0.9890 - val_loss: 0.1650 - val_accuracy: 0.9341\n",
            "Epoch 36/100\n",
            "12/12 [==============================] - 0s 5ms/step - loss: 0.1132 - accuracy: 0.9863 - val_loss: 0.1609 - val_accuracy: 0.9341\n",
            "Epoch 37/100\n",
            "12/12 [==============================] - 0s 5ms/step - loss: 0.1130 - accuracy: 0.9835 - val_loss: 0.1608 - val_accuracy: 0.9341\n",
            "Epoch 38/100\n",
            "12/12 [==============================] - 0s 6ms/step - loss: 0.1126 - accuracy: 0.9890 - val_loss: 0.1607 - val_accuracy: 0.9341\n",
            "Epoch 39/100\n",
            "12/12 [==============================] - 0s 5ms/step - loss: 0.1139 - accuracy: 0.9890 - val_loss: 0.1614 - val_accuracy: 0.9341\n",
            "Epoch 40/100\n",
            "12/12 [==============================] - 0s 6ms/step - loss: 0.1135 - accuracy: 0.9835 - val_loss: 0.1620 - val_accuracy: 0.9341\n",
            "Epoch 41/100\n",
            "12/12 [==============================] - 0s 7ms/step - loss: 0.1112 - accuracy: 0.9890 - val_loss: 0.1585 - val_accuracy: 0.9341\n",
            "Epoch 42/100\n",
            "12/12 [==============================] - 0s 5ms/step - loss: 0.1138 - accuracy: 0.9863 - val_loss: 0.1613 - val_accuracy: 0.9341\n",
            "Epoch 43/100\n",
            "12/12 [==============================] - 0s 5ms/step - loss: 0.1109 - accuracy: 0.9835 - val_loss: 0.1590 - val_accuracy: 0.9341\n",
            "Epoch 44/100\n",
            "12/12 [==============================] - 0s 7ms/step - loss: 0.1091 - accuracy: 0.9890 - val_loss: 0.1590 - val_accuracy: 0.9341\n",
            "Epoch 45/100\n",
            "12/12 [==============================] - 0s 5ms/step - loss: 0.1094 - accuracy: 0.9890 - val_loss: 0.1599 - val_accuracy: 0.9341\n",
            "Epoch 46/100\n",
            "12/12 [==============================] - 0s 5ms/step - loss: 0.1090 - accuracy: 0.9863 - val_loss: 0.1602 - val_accuracy: 0.9451\n",
            "Epoch 47/100\n",
            "12/12 [==============================] - 0s 6ms/step - loss: 0.1081 - accuracy: 0.9863 - val_loss: 0.1622 - val_accuracy: 0.9341\n",
            "Epoch 48/100\n",
            "12/12 [==============================] - 0s 6ms/step - loss: 0.1079 - accuracy: 0.9890 - val_loss: 0.1572 - val_accuracy: 0.9341\n",
            "Epoch 49/100\n",
            "12/12 [==============================] - 0s 5ms/step - loss: 0.1082 - accuracy: 0.9863 - val_loss: 0.1568 - val_accuracy: 0.9341\n",
            "Epoch 50/100\n",
            "12/12 [==============================] - 0s 5ms/step - loss: 0.1071 - accuracy: 0.9890 - val_loss: 0.1572 - val_accuracy: 0.9341\n",
            "Epoch 51/100\n",
            "12/12 [==============================] - 0s 5ms/step - loss: 0.1074 - accuracy: 0.9890 - val_loss: 0.1567 - val_accuracy: 0.9341\n",
            "Epoch 52/100\n",
            "12/12 [==============================] - 0s 6ms/step - loss: 0.1071 - accuracy: 0.9890 - val_loss: 0.1569 - val_accuracy: 0.9341\n",
            "Epoch 53/100\n",
            "12/12 [==============================] - 0s 5ms/step - loss: 0.1060 - accuracy: 0.9890 - val_loss: 0.1560 - val_accuracy: 0.9341\n",
            "Epoch 54/100\n",
            "12/12 [==============================] - 0s 6ms/step - loss: 0.1061 - accuracy: 0.9890 - val_loss: 0.1558 - val_accuracy: 0.9341\n",
            "Epoch 55/100\n",
            "12/12 [==============================] - 0s 5ms/step - loss: 0.1068 - accuracy: 0.9835 - val_loss: 0.1617 - val_accuracy: 0.9341\n",
            "Epoch 56/100\n",
            "12/12 [==============================] - 0s 7ms/step - loss: 0.1071 - accuracy: 0.9863 - val_loss: 0.1569 - val_accuracy: 0.9341\n",
            "Epoch 57/100\n",
            "12/12 [==============================] - 0s 5ms/step - loss: 0.1051 - accuracy: 0.9890 - val_loss: 0.1559 - val_accuracy: 0.9341\n",
            "Epoch 58/100\n",
            "12/12 [==============================] - 0s 5ms/step - loss: 0.1043 - accuracy: 0.9890 - val_loss: 0.1571 - val_accuracy: 0.9341\n",
            "Epoch 59/100\n",
            "12/12 [==============================] - 0s 5ms/step - loss: 0.1042 - accuracy: 0.9890 - val_loss: 0.1601 - val_accuracy: 0.9341\n",
            "Epoch 60/100\n",
            "12/12 [==============================] - 0s 6ms/step - loss: 0.1062 - accuracy: 0.9863 - val_loss: 0.1552 - val_accuracy: 0.9341\n",
            "Epoch 61/100\n",
            "12/12 [==============================] - 0s 5ms/step - loss: 0.1048 - accuracy: 0.9863 - val_loss: 0.1585 - val_accuracy: 0.9341\n",
            "Epoch 62/100\n",
            "12/12 [==============================] - 0s 5ms/step - loss: 0.1042 - accuracy: 0.9890 - val_loss: 0.1541 - val_accuracy: 0.9670\n",
            "Epoch 63/100\n",
            "12/12 [==============================] - 0s 5ms/step - loss: 0.1038 - accuracy: 0.9890 - val_loss: 0.1592 - val_accuracy: 0.9341\n",
            "Epoch 64/100\n",
            "12/12 [==============================] - 0s 5ms/step - loss: 0.1038 - accuracy: 0.9890 - val_loss: 0.1561 - val_accuracy: 0.9341\n",
            "Epoch 65/100\n",
            "12/12 [==============================] - 0s 5ms/step - loss: 0.1043 - accuracy: 0.9890 - val_loss: 0.1544 - val_accuracy: 0.9451\n",
            "Epoch 66/100\n",
            "12/12 [==============================] - 0s 6ms/step - loss: 0.1035 - accuracy: 0.9890 - val_loss: 0.1545 - val_accuracy: 0.9341\n",
            "Epoch 67/100\n",
            "12/12 [==============================] - 0s 5ms/step - loss: 0.1048 - accuracy: 0.9890 - val_loss: 0.1555 - val_accuracy: 0.9341\n",
            "Epoch 68/100\n",
            "12/12 [==============================] - 0s 6ms/step - loss: 0.1032 - accuracy: 0.9890 - val_loss: 0.1600 - val_accuracy: 0.9341\n",
            "Epoch 69/100\n",
            "12/12 [==============================] - 0s 5ms/step - loss: 0.1037 - accuracy: 0.9890 - val_loss: 0.1535 - val_accuracy: 0.9341\n",
            "Epoch 70/100\n",
            "12/12 [==============================] - 0s 6ms/step - loss: 0.1020 - accuracy: 0.9890 - val_loss: 0.1524 - val_accuracy: 0.9341\n",
            "Epoch 71/100\n",
            "12/12 [==============================] - 0s 6ms/step - loss: 0.1027 - accuracy: 0.9890 - val_loss: 0.1517 - val_accuracy: 0.9341\n",
            "Epoch 72/100\n",
            "12/12 [==============================] - 0s 6ms/step - loss: 0.1022 - accuracy: 0.9890 - val_loss: 0.1526 - val_accuracy: 0.9341\n",
            "Epoch 73/100\n",
            "12/12 [==============================] - 0s 6ms/step - loss: 0.1038 - accuracy: 0.9890 - val_loss: 0.1538 - val_accuracy: 0.9560\n",
            "Epoch 74/100\n",
            "12/12 [==============================] - 0s 6ms/step - loss: 0.1032 - accuracy: 0.9835 - val_loss: 0.1569 - val_accuracy: 0.9341\n",
            "Epoch 75/100\n",
            "12/12 [==============================] - 0s 5ms/step - loss: 0.1017 - accuracy: 0.9890 - val_loss: 0.1522 - val_accuracy: 0.9341\n",
            "Epoch 76/100\n",
            "12/12 [==============================] - 0s 5ms/step - loss: 0.1014 - accuracy: 0.9890 - val_loss: 0.1528 - val_accuracy: 0.9341\n",
            "Epoch 77/100\n",
            "12/12 [==============================] - 0s 5ms/step - loss: 0.1011 - accuracy: 0.9918 - val_loss: 0.1517 - val_accuracy: 0.9341\n",
            "Epoch 78/100\n",
            "12/12 [==============================] - 0s 6ms/step - loss: 0.1002 - accuracy: 0.9890 - val_loss: 0.1552 - val_accuracy: 0.9341\n",
            "Epoch 79/100\n",
            "12/12 [==============================] - 0s 6ms/step - loss: 0.1006 - accuracy: 0.9890 - val_loss: 0.1534 - val_accuracy: 0.9341\n",
            "Epoch 80/100\n",
            "12/12 [==============================] - 0s 5ms/step - loss: 0.1001 - accuracy: 0.9890 - val_loss: 0.1514 - val_accuracy: 0.9560\n",
            "Epoch 81/100\n",
            "12/12 [==============================] - 0s 5ms/step - loss: 0.1002 - accuracy: 0.9918 - val_loss: 0.1540 - val_accuracy: 0.9341\n",
            "Epoch 82/100\n",
            "12/12 [==============================] - 0s 5ms/step - loss: 0.1012 - accuracy: 0.9890 - val_loss: 0.1519 - val_accuracy: 0.9341\n",
            "Epoch 83/100\n",
            "12/12 [==============================] - 0s 5ms/step - loss: 0.1039 - accuracy: 0.9890 - val_loss: 0.1560 - val_accuracy: 0.9341\n",
            "Epoch 84/100\n",
            "12/12 [==============================] - 0s 5ms/step - loss: 0.0999 - accuracy: 0.9890 - val_loss: 0.1510 - val_accuracy: 0.9670\n",
            "Epoch 85/100\n",
            "12/12 [==============================] - 0s 5ms/step - loss: 0.1037 - accuracy: 0.9835 - val_loss: 0.1524 - val_accuracy: 0.9341\n",
            "Epoch 86/100\n",
            "12/12 [==============================] - 0s 7ms/step - loss: 0.1046 - accuracy: 0.9890 - val_loss: 0.1509 - val_accuracy: 0.9670\n",
            "Epoch 87/100\n",
            "12/12 [==============================] - 0s 5ms/step - loss: 0.0995 - accuracy: 0.9890 - val_loss: 0.1613 - val_accuracy: 0.9341\n",
            "Epoch 88/100\n",
            "12/12 [==============================] - 0s 6ms/step - loss: 0.0994 - accuracy: 0.9863 - val_loss: 0.1517 - val_accuracy: 0.9670\n",
            "Epoch 89/100\n",
            "12/12 [==============================] - 0s 5ms/step - loss: 0.0993 - accuracy: 0.9918 - val_loss: 0.1528 - val_accuracy: 0.9341\n",
            "Epoch 90/100\n",
            "12/12 [==============================] - 0s 7ms/step - loss: 0.0987 - accuracy: 0.9918 - val_loss: 0.1536 - val_accuracy: 0.9341\n",
            "Epoch 91/100\n",
            "12/12 [==============================] - 0s 5ms/step - loss: 0.0987 - accuracy: 0.9918 - val_loss: 0.1510 - val_accuracy: 0.9451\n",
            "Epoch 92/100\n",
            "12/12 [==============================] - 0s 5ms/step - loss: 0.0989 - accuracy: 0.9918 - val_loss: 0.1530 - val_accuracy: 0.9341\n",
            "Epoch 93/100\n",
            "12/12 [==============================] - 0s 5ms/step - loss: 0.0981 - accuracy: 0.9890 - val_loss: 0.1523 - val_accuracy: 0.9341\n",
            "Epoch 94/100\n",
            "12/12 [==============================] - 0s 5ms/step - loss: 0.0983 - accuracy: 0.9890 - val_loss: 0.1524 - val_accuracy: 0.9341\n",
            "Epoch 95/100\n",
            "12/12 [==============================] - 0s 5ms/step - loss: 0.0977 - accuracy: 0.9918 - val_loss: 0.1520 - val_accuracy: 0.9341\n",
            "Epoch 96/100\n",
            "12/12 [==============================] - 0s 5ms/step - loss: 0.0977 - accuracy: 0.9918 - val_loss: 0.1521 - val_accuracy: 0.9341\n",
            "Epoch 97/100\n",
            "12/12 [==============================] - 0s 5ms/step - loss: 0.0971 - accuracy: 0.9918 - val_loss: 0.1504 - val_accuracy: 0.9451\n",
            "Epoch 98/100\n",
            "12/12 [==============================] - 0s 6ms/step - loss: 0.0983 - accuracy: 0.9918 - val_loss: 0.1514 - val_accuracy: 0.9341\n",
            "Epoch 99/100\n",
            "12/12 [==============================] - 0s 6ms/step - loss: 0.0980 - accuracy: 0.9918 - val_loss: 0.1521 - val_accuracy: 0.9341\n",
            "Epoch 100/100\n",
            "12/12 [==============================] - 0s 5ms/step - loss: 0.0968 - accuracy: 0.9918 - val_loss: 0.1516 - val_accuracy: 0.9341\n"
          ]
        }
      ]
    },
    {
      "cell_type": "code",
      "source": [
        "mt2 = model2.fit(X_train, y_train, epochs=100, batch_size=32, validation_split=0.2)"
      ],
      "metadata": {
        "colab": {
          "base_uri": "https://localhost:8080/"
        },
        "id": "CjrcHgmHGasT",
        "outputId": "8719e373-4aed-4ffd-a83f-10644f853e8c"
      },
      "execution_count": 70,
      "outputs": [
        {
          "output_type": "stream",
          "name": "stdout",
          "text": [
            "Epoch 1/100\n",
            "12/12 [==============================] - 2s 41ms/step - loss: 1.7803 - accuracy: 0.8297 - val_loss: 1.5126 - val_accuracy: 0.9451\n",
            "Epoch 2/100\n",
            "12/12 [==============================] - 0s 22ms/step - loss: 1.4258 - accuracy: 0.9286 - val_loss: 1.3090 - val_accuracy: 0.9560\n",
            "Epoch 3/100\n",
            "12/12 [==============================] - 0s 22ms/step - loss: 1.2382 - accuracy: 0.9451 - val_loss: 1.1609 - val_accuracy: 0.9560\n",
            "Epoch 4/100\n",
            "12/12 [==============================] - 0s 14ms/step - loss: 1.0912 - accuracy: 0.9643 - val_loss: 1.0356 - val_accuracy: 0.9670\n",
            "Epoch 5/100\n",
            "12/12 [==============================] - 0s 14ms/step - loss: 0.9669 - accuracy: 0.9753 - val_loss: 0.9251 - val_accuracy: 0.9670\n",
            "Epoch 6/100\n",
            "12/12 [==============================] - 0s 12ms/step - loss: 0.8574 - accuracy: 0.9780 - val_loss: 0.8292 - val_accuracy: 0.9670\n",
            "Epoch 7/100\n",
            "12/12 [==============================] - 0s 12ms/step - loss: 0.7605 - accuracy: 0.9835 - val_loss: 0.7437 - val_accuracy: 0.9670\n",
            "Epoch 8/100\n",
            "12/12 [==============================] - 0s 11ms/step - loss: 0.6759 - accuracy: 0.9835 - val_loss: 0.6659 - val_accuracy: 0.9670\n",
            "Epoch 9/100\n",
            "12/12 [==============================] - 0s 7ms/step - loss: 0.6016 - accuracy: 0.9863 - val_loss: 0.5986 - val_accuracy: 0.9670\n",
            "Epoch 10/100\n",
            "12/12 [==============================] - 0s 19ms/step - loss: 0.5359 - accuracy: 0.9863 - val_loss: 0.5382 - val_accuracy: 0.9670\n",
            "Epoch 11/100\n",
            "12/12 [==============================] - 0s 16ms/step - loss: 0.4796 - accuracy: 0.9863 - val_loss: 0.4884 - val_accuracy: 0.9670\n",
            "Epoch 12/100\n",
            "12/12 [==============================] - 0s 10ms/step - loss: 0.4295 - accuracy: 0.9890 - val_loss: 0.4398 - val_accuracy: 0.9670\n",
            "Epoch 13/100\n",
            "12/12 [==============================] - 0s 7ms/step - loss: 0.3850 - accuracy: 0.9890 - val_loss: 0.4050 - val_accuracy: 0.9670\n",
            "Epoch 14/100\n",
            "12/12 [==============================] - 0s 11ms/step - loss: 0.3467 - accuracy: 0.9890 - val_loss: 0.3706 - val_accuracy: 0.9670\n",
            "Epoch 15/100\n",
            "12/12 [==============================] - 0s 12ms/step - loss: 0.3138 - accuracy: 0.9890 - val_loss: 0.3390 - val_accuracy: 0.9670\n",
            "Epoch 16/100\n",
            "12/12 [==============================] - 0s 16ms/step - loss: 0.2853 - accuracy: 0.9890 - val_loss: 0.3127 - val_accuracy: 0.9670\n",
            "Epoch 17/100\n",
            "12/12 [==============================] - 0s 26ms/step - loss: 0.2592 - accuracy: 0.9890 - val_loss: 0.2894 - val_accuracy: 0.9670\n",
            "Epoch 18/100\n",
            "12/12 [==============================] - 0s 8ms/step - loss: 0.2381 - accuracy: 0.9890 - val_loss: 0.2697 - val_accuracy: 0.9670\n",
            "Epoch 19/100\n",
            "12/12 [==============================] - 0s 14ms/step - loss: 0.2190 - accuracy: 0.9890 - val_loss: 0.2537 - val_accuracy: 0.9780\n",
            "Epoch 20/100\n",
            "12/12 [==============================] - 0s 15ms/step - loss: 0.2014 - accuracy: 0.9890 - val_loss: 0.2382 - val_accuracy: 0.9670\n",
            "Epoch 21/100\n",
            "12/12 [==============================] - 0s 13ms/step - loss: 0.1904 - accuracy: 0.9918 - val_loss: 0.2249 - val_accuracy: 0.9670\n",
            "Epoch 22/100\n",
            "12/12 [==============================] - 0s 11ms/step - loss: 0.1760 - accuracy: 0.9890 - val_loss: 0.2139 - val_accuracy: 0.9780\n",
            "Epoch 23/100\n",
            "12/12 [==============================] - 0s 13ms/step - loss: 0.1637 - accuracy: 0.9890 - val_loss: 0.2039 - val_accuracy: 0.9670\n",
            "Epoch 24/100\n",
            "12/12 [==============================] - 0s 10ms/step - loss: 0.1537 - accuracy: 0.9890 - val_loss: 0.1952 - val_accuracy: 0.9780\n",
            "Epoch 25/100\n",
            "12/12 [==============================] - 0s 8ms/step - loss: 0.1451 - accuracy: 0.9890 - val_loss: 0.1857 - val_accuracy: 0.9560\n",
            "Epoch 26/100\n",
            "12/12 [==============================] - 0s 16ms/step - loss: 0.1378 - accuracy: 0.9918 - val_loss: 0.1778 - val_accuracy: 0.9670\n",
            "Epoch 27/100\n",
            "12/12 [==============================] - 0s 13ms/step - loss: 0.1309 - accuracy: 0.9918 - val_loss: 0.1733 - val_accuracy: 0.9780\n",
            "Epoch 28/100\n",
            "12/12 [==============================] - 0s 10ms/step - loss: 0.1253 - accuracy: 0.9890 - val_loss: 0.1688 - val_accuracy: 0.9560\n",
            "Epoch 29/100\n",
            "12/12 [==============================] - 0s 20ms/step - loss: 0.1197 - accuracy: 0.9890 - val_loss: 0.1632 - val_accuracy: 0.9560\n",
            "Epoch 30/100\n",
            "12/12 [==============================] - 0s 18ms/step - loss: 0.1164 - accuracy: 0.9918 - val_loss: 0.1606 - val_accuracy: 0.9560\n",
            "Epoch 31/100\n",
            "12/12 [==============================] - 0s 9ms/step - loss: 0.1105 - accuracy: 0.9890 - val_loss: 0.1586 - val_accuracy: 0.9670\n",
            "Epoch 32/100\n",
            "12/12 [==============================] - 0s 24ms/step - loss: 0.1076 - accuracy: 0.9918 - val_loss: 0.1525 - val_accuracy: 0.9560\n",
            "Epoch 33/100\n",
            "12/12 [==============================] - 0s 19ms/step - loss: 0.1045 - accuracy: 0.9890 - val_loss: 0.1518 - val_accuracy: 0.9670\n",
            "Epoch 34/100\n",
            "12/12 [==============================] - 0s 15ms/step - loss: 0.1022 - accuracy: 0.9918 - val_loss: 0.1549 - val_accuracy: 0.9560\n",
            "Epoch 35/100\n",
            "12/12 [==============================] - 0s 18ms/step - loss: 0.0985 - accuracy: 0.9945 - val_loss: 0.1519 - val_accuracy: 0.9560\n",
            "Epoch 36/100\n",
            "12/12 [==============================] - 0s 8ms/step - loss: 0.0963 - accuracy: 0.9918 - val_loss: 0.1464 - val_accuracy: 0.9670\n",
            "Epoch 37/100\n",
            "12/12 [==============================] - 0s 9ms/step - loss: 0.0937 - accuracy: 0.9918 - val_loss: 0.1442 - val_accuracy: 0.9451\n",
            "Epoch 38/100\n",
            "12/12 [==============================] - 0s 7ms/step - loss: 0.0915 - accuracy: 0.9918 - val_loss: 0.1427 - val_accuracy: 0.9560\n",
            "Epoch 39/100\n",
            "12/12 [==============================] - 0s 15ms/step - loss: 0.0897 - accuracy: 0.9890 - val_loss: 0.1435 - val_accuracy: 0.9560\n",
            "Epoch 40/100\n",
            "12/12 [==============================] - 0s 20ms/step - loss: 0.0876 - accuracy: 0.9918 - val_loss: 0.1429 - val_accuracy: 0.9451\n",
            "Epoch 41/100\n",
            "12/12 [==============================] - 0s 18ms/step - loss: 0.0873 - accuracy: 0.9945 - val_loss: 0.1355 - val_accuracy: 0.9670\n",
            "Epoch 42/100\n",
            "12/12 [==============================] - 0s 19ms/step - loss: 0.0856 - accuracy: 0.9918 - val_loss: 0.1354 - val_accuracy: 0.9560\n",
            "Epoch 43/100\n",
            "12/12 [==============================] - 0s 18ms/step - loss: 0.0852 - accuracy: 0.9918 - val_loss: 0.1394 - val_accuracy: 0.9560\n",
            "Epoch 44/100\n",
            "12/12 [==============================] - 0s 18ms/step - loss: 0.0853 - accuracy: 0.9890 - val_loss: 0.1342 - val_accuracy: 0.9451\n",
            "Epoch 45/100\n",
            "12/12 [==============================] - 0s 19ms/step - loss: 0.0832 - accuracy: 0.9918 - val_loss: 0.1387 - val_accuracy: 0.9560\n",
            "Epoch 46/100\n",
            "12/12 [==============================] - 0s 18ms/step - loss: 0.0814 - accuracy: 0.9918 - val_loss: 0.1328 - val_accuracy: 0.9670\n",
            "Epoch 47/100\n",
            "12/12 [==============================] - 0s 19ms/step - loss: 0.0802 - accuracy: 0.9918 - val_loss: 0.1302 - val_accuracy: 0.9451\n",
            "Epoch 48/100\n",
            "12/12 [==============================] - 0s 15ms/step - loss: 0.0797 - accuracy: 0.9918 - val_loss: 0.1369 - val_accuracy: 0.9451\n",
            "Epoch 49/100\n",
            "12/12 [==============================] - 0s 19ms/step - loss: 0.0788 - accuracy: 0.9945 - val_loss: 0.1319 - val_accuracy: 0.9560\n",
            "Epoch 50/100\n",
            "12/12 [==============================] - 0s 19ms/step - loss: 0.0779 - accuracy: 0.9918 - val_loss: 0.1292 - val_accuracy: 0.9451\n",
            "Epoch 51/100\n",
            "12/12 [==============================] - 0s 20ms/step - loss: 0.0793 - accuracy: 0.9918 - val_loss: 0.1339 - val_accuracy: 0.9670\n",
            "Epoch 52/100\n",
            "12/12 [==============================] - 0s 21ms/step - loss: 0.0755 - accuracy: 0.9945 - val_loss: 0.1301 - val_accuracy: 0.9451\n",
            "Epoch 53/100\n",
            "12/12 [==============================] - 0s 24ms/step - loss: 0.0767 - accuracy: 0.9890 - val_loss: 0.1314 - val_accuracy: 0.9670\n",
            "Epoch 54/100\n",
            "12/12 [==============================] - 0s 8ms/step - loss: 0.0782 - accuracy: 0.9918 - val_loss: 0.1358 - val_accuracy: 0.9560\n",
            "Epoch 55/100\n",
            "12/12 [==============================] - 0s 8ms/step - loss: 0.0764 - accuracy: 0.9890 - val_loss: 0.1290 - val_accuracy: 0.9560\n",
            "Epoch 56/100\n",
            "12/12 [==============================] - 0s 8ms/step - loss: 0.0743 - accuracy: 0.9918 - val_loss: 0.1285 - val_accuracy: 0.9451\n",
            "Epoch 57/100\n",
            "12/12 [==============================] - 0s 9ms/step - loss: 0.0752 - accuracy: 0.9918 - val_loss: 0.1321 - val_accuracy: 0.9560\n",
            "Epoch 58/100\n",
            "12/12 [==============================] - 0s 9ms/step - loss: 0.0775 - accuracy: 0.9890 - val_loss: 0.1280 - val_accuracy: 0.9560\n",
            "Epoch 59/100\n",
            "12/12 [==============================] - 0s 8ms/step - loss: 0.0726 - accuracy: 0.9918 - val_loss: 0.1316 - val_accuracy: 0.9560\n",
            "Epoch 60/100\n",
            "12/12 [==============================] - 0s 9ms/step - loss: 0.0739 - accuracy: 0.9918 - val_loss: 0.1290 - val_accuracy: 0.9670\n",
            "Epoch 61/100\n",
            "12/12 [==============================] - 0s 11ms/step - loss: 0.0727 - accuracy: 0.9945 - val_loss: 0.1290 - val_accuracy: 0.9560\n",
            "Epoch 62/100\n",
            "12/12 [==============================] - 0s 10ms/step - loss: 0.0713 - accuracy: 0.9918 - val_loss: 0.1259 - val_accuracy: 0.9670\n",
            "Epoch 63/100\n",
            "12/12 [==============================] - 0s 7ms/step - loss: 0.0718 - accuracy: 0.9918 - val_loss: 0.1252 - val_accuracy: 0.9560\n",
            "Epoch 64/100\n",
            "12/12 [==============================] - 0s 6ms/step - loss: 0.0703 - accuracy: 0.9945 - val_loss: 0.1331 - val_accuracy: 0.9451\n",
            "Epoch 65/100\n",
            "12/12 [==============================] - 0s 7ms/step - loss: 0.0697 - accuracy: 0.9945 - val_loss: 0.1305 - val_accuracy: 0.9560\n",
            "Epoch 66/100\n",
            "12/12 [==============================] - 0s 8ms/step - loss: 0.0706 - accuracy: 0.9918 - val_loss: 0.1247 - val_accuracy: 0.9560\n",
            "Epoch 67/100\n",
            "12/12 [==============================] - 0s 9ms/step - loss: 0.0698 - accuracy: 0.9918 - val_loss: 0.1307 - val_accuracy: 0.9560\n",
            "Epoch 68/100\n",
            "12/12 [==============================] - 0s 8ms/step - loss: 0.0688 - accuracy: 0.9945 - val_loss: 0.1335 - val_accuracy: 0.9560\n",
            "Epoch 69/100\n",
            "12/12 [==============================] - 0s 9ms/step - loss: 0.0689 - accuracy: 0.9918 - val_loss: 0.1252 - val_accuracy: 0.9560\n",
            "Epoch 70/100\n",
            "12/12 [==============================] - 0s 20ms/step - loss: 0.0678 - accuracy: 0.9918 - val_loss: 0.1247 - val_accuracy: 0.9670\n",
            "Epoch 71/100\n",
            "12/12 [==============================] - 0s 17ms/step - loss: 0.0662 - accuracy: 0.9918 - val_loss: 0.1411 - val_accuracy: 0.9560\n",
            "Epoch 72/100\n",
            "12/12 [==============================] - 0s 11ms/step - loss: 0.0679 - accuracy: 0.9945 - val_loss: 0.1208 - val_accuracy: 0.9670\n",
            "Epoch 73/100\n",
            "12/12 [==============================] - 0s 20ms/step - loss: 0.0718 - accuracy: 0.9890 - val_loss: 0.1218 - val_accuracy: 0.9560\n",
            "Epoch 74/100\n",
            "12/12 [==============================] - 0s 14ms/step - loss: 0.0659 - accuracy: 0.9945 - val_loss: 0.1309 - val_accuracy: 0.9560\n",
            "Epoch 75/100\n",
            "12/12 [==============================] - 0s 17ms/step - loss: 0.0669 - accuracy: 0.9918 - val_loss: 0.1262 - val_accuracy: 0.9560\n",
            "Epoch 76/100\n",
            "12/12 [==============================] - 0s 19ms/step - loss: 0.0664 - accuracy: 0.9945 - val_loss: 0.1221 - val_accuracy: 0.9560\n",
            "Epoch 77/100\n",
            "12/12 [==============================] - 0s 19ms/step - loss: 0.0663 - accuracy: 0.9918 - val_loss: 0.1268 - val_accuracy: 0.9560\n",
            "Epoch 78/100\n",
            "12/12 [==============================] - 0s 9ms/step - loss: 0.0662 - accuracy: 0.9945 - val_loss: 0.1286 - val_accuracy: 0.9451\n",
            "Epoch 79/100\n",
            "12/12 [==============================] - 0s 11ms/step - loss: 0.0652 - accuracy: 0.9945 - val_loss: 0.1208 - val_accuracy: 0.9780\n",
            "Epoch 80/100\n",
            "12/12 [==============================] - 0s 27ms/step - loss: 0.0647 - accuracy: 0.9945 - val_loss: 0.1222 - val_accuracy: 0.9670\n",
            "Epoch 81/100\n",
            "12/12 [==============================] - 0s 26ms/step - loss: 0.0639 - accuracy: 0.9945 - val_loss: 0.1244 - val_accuracy: 0.9451\n",
            "Epoch 82/100\n",
            "12/12 [==============================] - 0s 17ms/step - loss: 0.0648 - accuracy: 0.9945 - val_loss: 0.1239 - val_accuracy: 0.9451\n",
            "Epoch 83/100\n",
            "12/12 [==============================] - 0s 18ms/step - loss: 0.0652 - accuracy: 0.9945 - val_loss: 0.1264 - val_accuracy: 0.9560\n",
            "Epoch 84/100\n",
            "12/12 [==============================] - 0s 21ms/step - loss: 0.0642 - accuracy: 0.9918 - val_loss: 0.1239 - val_accuracy: 0.9670\n",
            "Epoch 85/100\n",
            "12/12 [==============================] - 0s 16ms/step - loss: 0.0640 - accuracy: 0.9918 - val_loss: 0.1198 - val_accuracy: 0.9670\n",
            "Epoch 86/100\n",
            "12/12 [==============================] - 0s 12ms/step - loss: 0.0634 - accuracy: 0.9945 - val_loss: 0.1341 - val_accuracy: 0.9451\n",
            "Epoch 87/100\n",
            "12/12 [==============================] - 0s 14ms/step - loss: 0.0637 - accuracy: 0.9918 - val_loss: 0.1203 - val_accuracy: 0.9670\n",
            "Epoch 88/100\n",
            "12/12 [==============================] - 0s 13ms/step - loss: 0.0631 - accuracy: 0.9918 - val_loss: 0.1209 - val_accuracy: 0.9560\n",
            "Epoch 89/100\n",
            "12/12 [==============================] - 0s 12ms/step - loss: 0.0619 - accuracy: 0.9945 - val_loss: 0.1277 - val_accuracy: 0.9451\n",
            "Epoch 90/100\n",
            "12/12 [==============================] - 0s 11ms/step - loss: 0.0632 - accuracy: 0.9945 - val_loss: 0.1188 - val_accuracy: 0.9670\n",
            "Epoch 91/100\n",
            "12/12 [==============================] - 0s 21ms/step - loss: 0.0623 - accuracy: 0.9918 - val_loss: 0.1191 - val_accuracy: 0.9560\n",
            "Epoch 92/100\n",
            "12/12 [==============================] - 0s 19ms/step - loss: 0.0630 - accuracy: 0.9945 - val_loss: 0.1210 - val_accuracy: 0.9670\n",
            "Epoch 93/100\n",
            "12/12 [==============================] - 0s 13ms/step - loss: 0.0614 - accuracy: 0.9945 - val_loss: 0.1207 - val_accuracy: 0.9670\n",
            "Epoch 94/100\n",
            "12/12 [==============================] - 0s 13ms/step - loss: 0.0670 - accuracy: 0.9918 - val_loss: 0.1182 - val_accuracy: 0.9670\n",
            "Epoch 95/100\n",
            "12/12 [==============================] - 0s 13ms/step - loss: 0.0614 - accuracy: 0.9918 - val_loss: 0.1161 - val_accuracy: 0.9560\n",
            "Epoch 96/100\n",
            "12/12 [==============================] - 0s 22ms/step - loss: 0.0604 - accuracy: 0.9945 - val_loss: 0.1210 - val_accuracy: 0.9780\n",
            "Epoch 97/100\n",
            "12/12 [==============================] - 0s 20ms/step - loss: 0.0607 - accuracy: 0.9945 - val_loss: 0.1324 - val_accuracy: 0.9560\n",
            "Epoch 98/100\n",
            "12/12 [==============================] - 0s 15ms/step - loss: 0.0627 - accuracy: 0.9918 - val_loss: 0.1300 - val_accuracy: 0.9560\n",
            "Epoch 99/100\n",
            "12/12 [==============================] - 0s 9ms/step - loss: 0.0634 - accuracy: 0.9918 - val_loss: 0.1164 - val_accuracy: 0.9560\n",
            "Epoch 100/100\n",
            "12/12 [==============================] - 0s 16ms/step - loss: 0.0620 - accuracy: 0.9918 - val_loss: 0.1390 - val_accuracy: 0.9451\n"
          ]
        }
      ]
    },
    {
      "cell_type": "code",
      "source": [
        "mt3 = model3.fit(X_train, y_train, epochs=100, batch_size=32, validation_split=0.2)"
      ],
      "metadata": {
        "colab": {
          "base_uri": "https://localhost:8080/"
        },
        "id": "kbsB0_-NGelk",
        "outputId": "4932cf7c-b88e-4afa-a6f0-387a165509c7"
      },
      "execution_count": 71,
      "outputs": [
        {
          "output_type": "stream",
          "name": "stdout",
          "text": [
            "Epoch 1/100\n",
            "12/12 [==============================] - 1s 44ms/step - loss: 12.3047 - accuracy: 0.7995 - val_loss: 11.3821 - val_accuracy: 0.9780\n",
            "Epoch 2/100\n",
            "12/12 [==============================] - 0s 5ms/step - loss: 10.7693 - accuracy: 0.9341 - val_loss: 9.9513 - val_accuracy: 0.9670\n",
            "Epoch 3/100\n",
            "12/12 [==============================] - 0s 6ms/step - loss: 9.3817 - accuracy: 0.9451 - val_loss: 8.6274 - val_accuracy: 0.9670\n",
            "Epoch 4/100\n",
            "12/12 [==============================] - 0s 6ms/step - loss: 8.1016 - accuracy: 0.9451 - val_loss: 7.4134 - val_accuracy: 0.9451\n",
            "Epoch 5/100\n",
            "12/12 [==============================] - 0s 6ms/step - loss: 6.9324 - accuracy: 0.9478 - val_loss: 6.3087 - val_accuracy: 0.9451\n",
            "Epoch 6/100\n",
            "12/12 [==============================] - 0s 5ms/step - loss: 5.8701 - accuracy: 0.9560 - val_loss: 5.3055 - val_accuracy: 0.9560\n",
            "Epoch 7/100\n",
            "12/12 [==============================] - 0s 4ms/step - loss: 4.9119 - accuracy: 0.9533 - val_loss: 4.4091 - val_accuracy: 0.9560\n",
            "Epoch 8/100\n",
            "12/12 [==============================] - 0s 5ms/step - loss: 4.0590 - accuracy: 0.9560 - val_loss: 3.6173 - val_accuracy: 0.9670\n",
            "Epoch 9/100\n",
            "12/12 [==============================] - 0s 6ms/step - loss: 3.3089 - accuracy: 0.9560 - val_loss: 2.9239 - val_accuracy: 0.9670\n",
            "Epoch 10/100\n",
            "12/12 [==============================] - 0s 6ms/step - loss: 2.6553 - accuracy: 0.9560 - val_loss: 2.3265 - val_accuracy: 0.9670\n",
            "Epoch 11/100\n",
            "12/12 [==============================] - 0s 6ms/step - loss: 2.0966 - accuracy: 0.9560 - val_loss: 1.8227 - val_accuracy: 0.9670\n",
            "Epoch 12/100\n",
            "12/12 [==============================] - 0s 6ms/step - loss: 1.6288 - accuracy: 0.9560 - val_loss: 1.4061 - val_accuracy: 0.9670\n",
            "Epoch 13/100\n",
            "12/12 [==============================] - 0s 5ms/step - loss: 1.2467 - accuracy: 0.9643 - val_loss: 1.0728 - val_accuracy: 0.9670\n",
            "Epoch 14/100\n",
            "12/12 [==============================] - 0s 6ms/step - loss: 0.9477 - accuracy: 0.9698 - val_loss: 0.8218 - val_accuracy: 0.9670\n",
            "Epoch 15/100\n",
            "12/12 [==============================] - 0s 5ms/step - loss: 0.7297 - accuracy: 0.9725 - val_loss: 0.6494 - val_accuracy: 0.9670\n",
            "Epoch 16/100\n",
            "12/12 [==============================] - 0s 6ms/step - loss: 0.5847 - accuracy: 0.9753 - val_loss: 0.5438 - val_accuracy: 0.9670\n",
            "Epoch 17/100\n",
            "12/12 [==============================] - 0s 6ms/step - loss: 0.4952 - accuracy: 0.9753 - val_loss: 0.4755 - val_accuracy: 0.9670\n",
            "Epoch 18/100\n",
            "12/12 [==============================] - 0s 6ms/step - loss: 0.4377 - accuracy: 0.9753 - val_loss: 0.4320 - val_accuracy: 0.9670\n",
            "Epoch 19/100\n",
            "12/12 [==============================] - 0s 5ms/step - loss: 0.4006 - accuracy: 0.9780 - val_loss: 0.4032 - val_accuracy: 0.9670\n",
            "Epoch 20/100\n",
            "12/12 [==============================] - 0s 5ms/step - loss: 0.3747 - accuracy: 0.9780 - val_loss: 0.3824 - val_accuracy: 0.9670\n",
            "Epoch 21/100\n",
            "12/12 [==============================] - 0s 6ms/step - loss: 0.3549 - accuracy: 0.9753 - val_loss: 0.3667 - val_accuracy: 0.9670\n",
            "Epoch 22/100\n",
            "12/12 [==============================] - 0s 6ms/step - loss: 0.3398 - accuracy: 0.9780 - val_loss: 0.3533 - val_accuracy: 0.9670\n",
            "Epoch 23/100\n",
            "12/12 [==============================] - 0s 6ms/step - loss: 0.3260 - accuracy: 0.9780 - val_loss: 0.3424 - val_accuracy: 0.9670\n",
            "Epoch 24/100\n",
            "12/12 [==============================] - 0s 5ms/step - loss: 0.3144 - accuracy: 0.9780 - val_loss: 0.3325 - val_accuracy: 0.9670\n",
            "Epoch 25/100\n",
            "12/12 [==============================] - 0s 5ms/step - loss: 0.3048 - accuracy: 0.9780 - val_loss: 0.3247 - val_accuracy: 0.9670\n",
            "Epoch 26/100\n",
            "12/12 [==============================] - 0s 6ms/step - loss: 0.2966 - accuracy: 0.9780 - val_loss: 0.3175 - val_accuracy: 0.9780\n",
            "Epoch 27/100\n",
            "12/12 [==============================] - 0s 5ms/step - loss: 0.2897 - accuracy: 0.9780 - val_loss: 0.3120 - val_accuracy: 0.9780\n",
            "Epoch 28/100\n",
            "12/12 [==============================] - 0s 6ms/step - loss: 0.2839 - accuracy: 0.9780 - val_loss: 0.3076 - val_accuracy: 0.9670\n",
            "Epoch 29/100\n",
            "12/12 [==============================] - 0s 6ms/step - loss: 0.2786 - accuracy: 0.9780 - val_loss: 0.3036 - val_accuracy: 0.9670\n",
            "Epoch 30/100\n",
            "12/12 [==============================] - 0s 5ms/step - loss: 0.2739 - accuracy: 0.9780 - val_loss: 0.2997 - val_accuracy: 0.9670\n",
            "Epoch 31/100\n",
            "12/12 [==============================] - 0s 6ms/step - loss: 0.2691 - accuracy: 0.9835 - val_loss: 0.2964 - val_accuracy: 0.9670\n",
            "Epoch 32/100\n",
            "12/12 [==============================] - 0s 6ms/step - loss: 0.2654 - accuracy: 0.9835 - val_loss: 0.2943 - val_accuracy: 0.9780\n",
            "Epoch 33/100\n",
            "12/12 [==============================] - 0s 5ms/step - loss: 0.2620 - accuracy: 0.9835 - val_loss: 0.2917 - val_accuracy: 0.9780\n",
            "Epoch 34/100\n",
            "12/12 [==============================] - 0s 5ms/step - loss: 0.2594 - accuracy: 0.9835 - val_loss: 0.2902 - val_accuracy: 0.9780\n",
            "Epoch 35/100\n",
            "12/12 [==============================] - 0s 4ms/step - loss: 0.2575 - accuracy: 0.9835 - val_loss: 0.2894 - val_accuracy: 0.9780\n",
            "Epoch 36/100\n",
            "12/12 [==============================] - 0s 6ms/step - loss: 0.2552 - accuracy: 0.9835 - val_loss: 0.2865 - val_accuracy: 0.9670\n",
            "Epoch 37/100\n",
            "12/12 [==============================] - 0s 6ms/step - loss: 0.2530 - accuracy: 0.9835 - val_loss: 0.2849 - val_accuracy: 0.9670\n",
            "Epoch 38/100\n",
            "12/12 [==============================] - 0s 5ms/step - loss: 0.2509 - accuracy: 0.9835 - val_loss: 0.2835 - val_accuracy: 0.9670\n",
            "Epoch 39/100\n",
            "12/12 [==============================] - 0s 6ms/step - loss: 0.2490 - accuracy: 0.9835 - val_loss: 0.2822 - val_accuracy: 0.9780\n",
            "Epoch 40/100\n",
            "12/12 [==============================] - 0s 6ms/step - loss: 0.2473 - accuracy: 0.9835 - val_loss: 0.2806 - val_accuracy: 0.9780\n",
            "Epoch 41/100\n",
            "12/12 [==============================] - 0s 7ms/step - loss: 0.2460 - accuracy: 0.9835 - val_loss: 0.2793 - val_accuracy: 0.9780\n",
            "Epoch 42/100\n",
            "12/12 [==============================] - 0s 5ms/step - loss: 0.2443 - accuracy: 0.9835 - val_loss: 0.2780 - val_accuracy: 0.9780\n",
            "Epoch 43/100\n",
            "12/12 [==============================] - 0s 6ms/step - loss: 0.2426 - accuracy: 0.9835 - val_loss: 0.2763 - val_accuracy: 0.9780\n",
            "Epoch 44/100\n",
            "12/12 [==============================] - 0s 5ms/step - loss: 0.2410 - accuracy: 0.9835 - val_loss: 0.2749 - val_accuracy: 0.9780\n",
            "Epoch 45/100\n",
            "12/12 [==============================] - 0s 4ms/step - loss: 0.2396 - accuracy: 0.9835 - val_loss: 0.2740 - val_accuracy: 0.9780\n",
            "Epoch 46/100\n",
            "12/12 [==============================] - 0s 5ms/step - loss: 0.2382 - accuracy: 0.9835 - val_loss: 0.2730 - val_accuracy: 0.9780\n",
            "Epoch 47/100\n",
            "12/12 [==============================] - 0s 4ms/step - loss: 0.2369 - accuracy: 0.9835 - val_loss: 0.2704 - val_accuracy: 0.9670\n",
            "Epoch 48/100\n",
            "12/12 [==============================] - 0s 6ms/step - loss: 0.2352 - accuracy: 0.9835 - val_loss: 0.2695 - val_accuracy: 0.9780\n",
            "Epoch 49/100\n",
            "12/12 [==============================] - 0s 5ms/step - loss: 0.2338 - accuracy: 0.9835 - val_loss: 0.2684 - val_accuracy: 0.9780\n",
            "Epoch 50/100\n",
            "12/12 [==============================] - 0s 6ms/step - loss: 0.2325 - accuracy: 0.9835 - val_loss: 0.2671 - val_accuracy: 0.9670\n",
            "Epoch 51/100\n",
            "12/12 [==============================] - 0s 5ms/step - loss: 0.2315 - accuracy: 0.9835 - val_loss: 0.2663 - val_accuracy: 0.9670\n",
            "Epoch 52/100\n",
            "12/12 [==============================] - 0s 6ms/step - loss: 0.2303 - accuracy: 0.9835 - val_loss: 0.2663 - val_accuracy: 0.9560\n",
            "Epoch 53/100\n",
            "12/12 [==============================] - 0s 7ms/step - loss: 0.2289 - accuracy: 0.9835 - val_loss: 0.2637 - val_accuracy: 0.9670\n",
            "Epoch 54/100\n",
            "12/12 [==============================] - 0s 6ms/step - loss: 0.2276 - accuracy: 0.9835 - val_loss: 0.2626 - val_accuracy: 0.9670\n",
            "Epoch 55/100\n",
            "12/12 [==============================] - 0s 5ms/step - loss: 0.2266 - accuracy: 0.9835 - val_loss: 0.2627 - val_accuracy: 0.9560\n",
            "Epoch 56/100\n",
            "12/12 [==============================] - 0s 5ms/step - loss: 0.2253 - accuracy: 0.9835 - val_loss: 0.2611 - val_accuracy: 0.9560\n",
            "Epoch 57/100\n",
            "12/12 [==============================] - 0s 5ms/step - loss: 0.2243 - accuracy: 0.9835 - val_loss: 0.2604 - val_accuracy: 0.9670\n",
            "Epoch 58/100\n",
            "12/12 [==============================] - 0s 5ms/step - loss: 0.2232 - accuracy: 0.9835 - val_loss: 0.2590 - val_accuracy: 0.9560\n",
            "Epoch 59/100\n",
            "12/12 [==============================] - 0s 5ms/step - loss: 0.2223 - accuracy: 0.9835 - val_loss: 0.2573 - val_accuracy: 0.9560\n",
            "Epoch 60/100\n",
            "12/12 [==============================] - 0s 6ms/step - loss: 0.2213 - accuracy: 0.9835 - val_loss: 0.2553 - val_accuracy: 0.9670\n",
            "Epoch 61/100\n",
            "12/12 [==============================] - 0s 6ms/step - loss: 0.2208 - accuracy: 0.9835 - val_loss: 0.2549 - val_accuracy: 0.9670\n",
            "Epoch 62/100\n",
            "12/12 [==============================] - 0s 5ms/step - loss: 0.2191 - accuracy: 0.9835 - val_loss: 0.2549 - val_accuracy: 0.9560\n",
            "Epoch 63/100\n",
            "12/12 [==============================] - 0s 5ms/step - loss: 0.2188 - accuracy: 0.9835 - val_loss: 0.2548 - val_accuracy: 0.9560\n",
            "Epoch 64/100\n",
            "12/12 [==============================] - 0s 5ms/step - loss: 0.2175 - accuracy: 0.9835 - val_loss: 0.2536 - val_accuracy: 0.9451\n",
            "Epoch 65/100\n",
            "12/12 [==============================] - 0s 5ms/step - loss: 0.2166 - accuracy: 0.9835 - val_loss: 0.2513 - val_accuracy: 0.9560\n",
            "Epoch 66/100\n",
            "12/12 [==============================] - 0s 4ms/step - loss: 0.2152 - accuracy: 0.9835 - val_loss: 0.2497 - val_accuracy: 0.9560\n",
            "Epoch 67/100\n",
            "12/12 [==============================] - 0s 5ms/step - loss: 0.2143 - accuracy: 0.9835 - val_loss: 0.2489 - val_accuracy: 0.9670\n",
            "Epoch 68/100\n",
            "12/12 [==============================] - 0s 5ms/step - loss: 0.2138 - accuracy: 0.9835 - val_loss: 0.2475 - val_accuracy: 0.9670\n",
            "Epoch 69/100\n",
            "12/12 [==============================] - 0s 5ms/step - loss: 0.2131 - accuracy: 0.9835 - val_loss: 0.2470 - val_accuracy: 0.9560\n",
            "Epoch 70/100\n",
            "12/12 [==============================] - 0s 6ms/step - loss: 0.2120 - accuracy: 0.9835 - val_loss: 0.2469 - val_accuracy: 0.9560\n",
            "Epoch 71/100\n",
            "12/12 [==============================] - 0s 5ms/step - loss: 0.2110 - accuracy: 0.9835 - val_loss: 0.2461 - val_accuracy: 0.9560\n",
            "Epoch 72/100\n",
            "12/12 [==============================] - 0s 5ms/step - loss: 0.2102 - accuracy: 0.9835 - val_loss: 0.2458 - val_accuracy: 0.9451\n",
            "Epoch 73/100\n",
            "12/12 [==============================] - 0s 5ms/step - loss: 0.2096 - accuracy: 0.9835 - val_loss: 0.2448 - val_accuracy: 0.9451\n",
            "Epoch 74/100\n",
            "12/12 [==============================] - 0s 5ms/step - loss: 0.2084 - accuracy: 0.9835 - val_loss: 0.2441 - val_accuracy: 0.9560\n",
            "Epoch 75/100\n",
            "12/12 [==============================] - 0s 5ms/step - loss: 0.2083 - accuracy: 0.9835 - val_loss: 0.2425 - val_accuracy: 0.9451\n",
            "Epoch 76/100\n",
            "12/12 [==============================] - 0s 5ms/step - loss: 0.2073 - accuracy: 0.9835 - val_loss: 0.2419 - val_accuracy: 0.9560\n",
            "Epoch 77/100\n",
            "12/12 [==============================] - 0s 6ms/step - loss: 0.2067 - accuracy: 0.9835 - val_loss: 0.2426 - val_accuracy: 0.9451\n",
            "Epoch 78/100\n",
            "12/12 [==============================] - 0s 5ms/step - loss: 0.2060 - accuracy: 0.9835 - val_loss: 0.2401 - val_accuracy: 0.9670\n",
            "Epoch 79/100\n",
            "12/12 [==============================] - 0s 6ms/step - loss: 0.2049 - accuracy: 0.9835 - val_loss: 0.2392 - val_accuracy: 0.9560\n",
            "Epoch 80/100\n",
            "12/12 [==============================] - 0s 5ms/step - loss: 0.2042 - accuracy: 0.9835 - val_loss: 0.2391 - val_accuracy: 0.9451\n",
            "Epoch 81/100\n",
            "12/12 [==============================] - 0s 5ms/step - loss: 0.2035 - accuracy: 0.9835 - val_loss: 0.2392 - val_accuracy: 0.9451\n",
            "Epoch 82/100\n",
            "12/12 [==============================] - 0s 6ms/step - loss: 0.2034 - accuracy: 0.9835 - val_loss: 0.2371 - val_accuracy: 0.9560\n",
            "Epoch 83/100\n",
            "12/12 [==============================] - 0s 5ms/step - loss: 0.2023 - accuracy: 0.9835 - val_loss: 0.2370 - val_accuracy: 0.9451\n",
            "Epoch 84/100\n",
            "12/12 [==============================] - 0s 5ms/step - loss: 0.2010 - accuracy: 0.9835 - val_loss: 0.2363 - val_accuracy: 0.9451\n",
            "Epoch 85/100\n",
            "12/12 [==============================] - 0s 5ms/step - loss: 0.2005 - accuracy: 0.9835 - val_loss: 0.2360 - val_accuracy: 0.9451\n",
            "Epoch 86/100\n",
            "12/12 [==============================] - 0s 6ms/step - loss: 0.2003 - accuracy: 0.9835 - val_loss: 0.2346 - val_accuracy: 0.9451\n",
            "Epoch 87/100\n",
            "12/12 [==============================] - 0s 5ms/step - loss: 0.1992 - accuracy: 0.9835 - val_loss: 0.2350 - val_accuracy: 0.9560\n",
            "Epoch 88/100\n",
            "12/12 [==============================] - 0s 5ms/step - loss: 0.1991 - accuracy: 0.9835 - val_loss: 0.2344 - val_accuracy: 0.9670\n",
            "Epoch 89/100\n",
            "12/12 [==============================] - 0s 5ms/step - loss: 0.1982 - accuracy: 0.9835 - val_loss: 0.2335 - val_accuracy: 0.9451\n",
            "Epoch 90/100\n",
            "12/12 [==============================] - 0s 5ms/step - loss: 0.1974 - accuracy: 0.9835 - val_loss: 0.2334 - val_accuracy: 0.9451\n",
            "Epoch 91/100\n",
            "12/12 [==============================] - 0s 5ms/step - loss: 0.1971 - accuracy: 0.9835 - val_loss: 0.2339 - val_accuracy: 0.9451\n",
            "Epoch 92/100\n",
            "12/12 [==============================] - 0s 5ms/step - loss: 0.1963 - accuracy: 0.9835 - val_loss: 0.2334 - val_accuracy: 0.9451\n",
            "Epoch 93/100\n",
            "12/12 [==============================] - 0s 5ms/step - loss: 0.1959 - accuracy: 0.9835 - val_loss: 0.2319 - val_accuracy: 0.9451\n",
            "Epoch 94/100\n",
            "12/12 [==============================] - 0s 5ms/step - loss: 0.1950 - accuracy: 0.9835 - val_loss: 0.2314 - val_accuracy: 0.9451\n",
            "Epoch 95/100\n",
            "12/12 [==============================] - 0s 5ms/step - loss: 0.1947 - accuracy: 0.9835 - val_loss: 0.2318 - val_accuracy: 0.9451\n",
            "Epoch 96/100\n",
            "12/12 [==============================] - 0s 5ms/step - loss: 0.1938 - accuracy: 0.9835 - val_loss: 0.2298 - val_accuracy: 0.9451\n",
            "Epoch 97/100\n",
            "12/12 [==============================] - 0s 5ms/step - loss: 0.1935 - accuracy: 0.9835 - val_loss: 0.2298 - val_accuracy: 0.9451\n",
            "Epoch 98/100\n",
            "12/12 [==============================] - 0s 6ms/step - loss: 0.1931 - accuracy: 0.9835 - val_loss: 0.2299 - val_accuracy: 0.9451\n",
            "Epoch 99/100\n",
            "12/12 [==============================] - 0s 6ms/step - loss: 0.1928 - accuracy: 0.9835 - val_loss: 0.2290 - val_accuracy: 0.9451\n",
            "Epoch 100/100\n",
            "12/12 [==============================] - 0s 6ms/step - loss: 0.1922 - accuracy: 0.9835 - val_loss: 0.2288 - val_accuracy: 0.9451\n"
          ]
        }
      ]
    },
    {
      "cell_type": "markdown",
      "source": [
        "Model metrics"
      ],
      "metadata": {
        "id": "-cZPQn3iBc1t"
      }
    },
    {
      "cell_type": "code",
      "source": [
        "plt.plot(mt.history['accuracy'])\n",
        "plt.plot(mt.history['val_accuracy'])\n",
        "plt.title('Model Accuracy-L1 Regularization')\n",
        "plt.xlabel('Epoch')\n",
        "plt.ylabel('Accuracy')\n",
        "plt.legend(['Train', 'Validation'], loc='upper left')\n",
        "plt.show()"
      ],
      "metadata": {
        "colab": {
          "base_uri": "https://localhost:8080/",
          "height": 472
        },
        "id": "BrrZVm5-BHPG",
        "outputId": "43735df0-5a89-42c0-fccd-8648a48e1c36"
      },
      "execution_count": 72,
      "outputs": [
        {
          "output_type": "display_data",
          "data": {
            "text/plain": [
              "<Figure size 640x480 with 1 Axes>"
            ],
            "image/png": "[encoded data removed]"
          },
          "metadata": {}
        }
      ]
    },
    {
      "cell_type": "code",
      "source": [
        "plt.plot(mt2.history['accuracy'])\n",
        "plt.plot(mt2.history['val_accuracy'])\n",
        "plt.title('Model Accuracy-L2 Regularization')\n",
        "plt.xlabel('Epoch')\n",
        "plt.ylabel('Accuracy')\n",
        "plt.legend(['Train', 'Validation'], loc='upper left')\n",
        "plt.show()"
      ],
      "metadata": {
        "colab": {
          "base_uri": "https://localhost:8080/",
          "height": 472
        },
        "id": "M1z5EoHnGthF",
        "outputId": "773d3f6f-874f-45f8-a555-83f277327f75"
      },
      "execution_count": 73,
      "outputs": [
        {
          "output_type": "display_data",
          "data": {
            "text/plain": [
              "<Figure size 640x480 with 1 Axes>"
            ],
            "image/png": "[encoded data removed]"
          },
          "metadata": {}
        }
      ]
    },
    {
      "cell_type": "code",
      "source": [
        "plt.plot(mt3.history['accuracy'])\n",
        "plt.plot(mt3.history['val_accuracy'])\n",
        "plt.title('Model Accuracy - Elastic Net')\n",
        "plt.xlabel('Epoch')\n",
        "plt.ylabel('Accuracy')\n",
        "plt.legend(['Train', 'Validation'], loc='upper left')\n",
        "plt.show()"
      ],
      "metadata": {
        "colab": {
          "base_uri": "https://localhost:8080/",
          "height": 472
        },
        "id": "bC7SW4c_Gtrw",
        "outputId": "a1c117c2-e3c5-40f3-f6fe-8639fccdf34d"
      },
      "execution_count": 74,
      "outputs": [
        {
          "output_type": "display_data",
          "data": {
            "text/plain": [
              "<Figure size 640x480 with 1 Axes>"
            ],
            "image/png": "[encoded data removed]"
          },
          "metadata": {}
        }
      ]
    },
    {
      "cell_type": "code",
      "source": [
        "#model 1\n",
        "y_probs = model.predict(X_test)\n",
        "y_pred = (y_probs > 0.5).astype(int)\n",
        "accuracy = accuracy_score(y_test, y_pred)\n",
        "precision = precision_score(y_test, y_pred)\n",
        "recall = recall_score(y_test, y_pred)\n",
        "f1 = f1_score(y_test, y_pred)\n",
        "cf = confusion_matrix(y_test, y_pred)\n",
        "fpr, tpr, thresholds = roc_curve(y_test, model.predict(X_test))\n",
        "roc_auc = auc(fpr, tpr)"
      ],
      "metadata": {
        "colab": {
          "base_uri": "https://localhost:8080/"
        },
        "id": "DZZcJFj_A-L9",
        "outputId": "45a97389-bdd2-4752-918e-91c0bbb8e743"
      },
      "execution_count": null,
      "outputs": [
        {
          "output_type": "stream",
          "name": "stdout",
          "text": [
            "4/4 [==============================] - 0s 3ms/step\n",
            "4/4 [==============================] - 0s 4ms/step\n"
          ]
        }
      ]
    },
    {
      "cell_type": "code",
      "source": [
        "#model 2\n",
        "y_probs2 = model2.predict(X_test)\n",
        "y_pred2 = (y_probs2 > 0.5).astype(int)\n",
        "accuracy2 = accuracy_score(y_test, y_pred)\n",
        "precision2 = precision_score(y_test, y_pred)\n",
        "recall2 = recall_score(y_test, y_pred)\n",
        "f12 = f1_score(y_test, y_pred)\n",
        "cf2 = confusion_matrix(y_test, y_pred)\n",
        "fpr2, tpr2, thresholds2 = roc_curve(y_test, model2.predict(X_test))\n",
        "roc_auc2 = auc(fpr2, tpr2)"
      ],
      "metadata": {
        "colab": {
          "base_uri": "https://localhost:8080/"
        },
        "id": "88YIhky2HC98",
        "outputId": "79828933-71be-4678-9f2c-f6228c8b1c63"
      },
      "execution_count": 75,
      "outputs": [
        {
          "output_type": "stream",
          "name": "stdout",
          "text": [
            "4/4 [==============================] - 0s 5ms/step\n",
            "4/4 [==============================] - 0s 4ms/step\n"
          ]
        }
      ]
    },
    {
      "cell_type": "code",
      "source": [
        "#model 3\n",
        "y_probs3 = model3.predict(X_test)\n",
        "y_pred3 = (y_probs3 > 0.5).astype(int)\n",
        "accuracy3 = accuracy_score(y_test, y_pred)\n",
        "precision3 = precision_score(y_test, y_pred)\n",
        "recall3 = recall_score(y_test, y_pred)\n",
        "f13 = f1_score(y_test, y_pred)\n",
        "cf3 = confusion_matrix(y_test, y_pred)\n",
        "fpr3, tpr3, thresholds3 = roc_curve(y_test, model3.predict(X_test))\n",
        "roc_auc3 = auc(fpr3, tpr3)"
      ],
      "metadata": {
        "colab": {
          "base_uri": "https://localhost:8080/"
        },
        "id": "ET13vbr3HKQA",
        "outputId": "ed32d41a-0c94-471b-fc21-b0dc66c33e03"
      },
      "execution_count": 76,
      "outputs": [
        {
          "output_type": "stream",
          "name": "stdout",
          "text": [
            "4/4 [==============================] - 0s 3ms/step\n",
            "4/4 [==============================] - 0s 5ms/step\n"
          ]
        }
      ]
    },
    {
      "cell_type": "code",
      "source": [
        "print(\"L1 Regularization\")\n",
        "print(\"Accuracy: \",accuracy)\n",
        "print(\"Precision: \",precision)\n",
        "print(\"Recall: \",recall)\n",
        "print(\"F1 Score: \",f1)\n",
        "\n",
        "print(\"\\nL2 Regularization\")\n",
        "print(\"Accuracy: \",accuracy2)\n",
        "print(\"Precision: \",precision2)\n",
        "print(\"Recall: \",recall2)\n",
        "print(\"F1 Score: \",f12)\n",
        "\n",
        "print(\"\\nElastic Net\")\n",
        "print(\"Accuracy: \",accuracy3)\n",
        "print(\"Precision: \",precision3)\n",
        "print(\"Recall: \",recall3)\n",
        "print(\"F1 Score: \",f13)"
      ],
      "metadata": {
        "colab": {
          "base_uri": "https://localhost:8080/"
        },
        "id": "cgkC3sNJDczh",
        "outputId": "5eb3e70d-98a8-45d0-ad58-1cac0a8f48fd"
      },
      "execution_count": 79,
      "outputs": [
        {
          "output_type": "stream",
          "name": "stdout",
          "text": [
            "L1 Regularization\n",
            "Accuracy:  0.9736842105263158\n",
            "Precision:  0.9761904761904762\n",
            "Recall:  0.9534883720930233\n",
            "F1 Score:  0.9647058823529412\n",
            "\n",
            "L2 Regularization\n",
            "Accuracy:  0.9736842105263158\n",
            "Precision:  0.9761904761904762\n",
            "Recall:  0.9534883720930233\n",
            "F1 Score:  0.9647058823529412\n",
            "\n",
            "Elastic Net\n",
            "Accuracy:  0.9736842105263158\n",
            "Precision:  0.9761904761904762\n",
            "Recall:  0.9534883720930233\n",
            "F1 Score:  0.9647058823529412\n"
          ]
        }
      ]
    },
    {
      "cell_type": "code",
      "source": [
        "fig, axes = plt.subplots(1, 3, figsize=(18, 6))\n",
        "\n",
        "# L1 Regularization\n",
        "sns.heatmap(cf, annot=True, fmt='d', cmap='Blues', linewidths=.5, annot_kws={\"size\": 16}, ax=axes[0])\n",
        "axes[0].set_title('Confusion Matrix - L1 Regularization')\n",
        "axes[0].set_xlabel('Predicted Label')\n",
        "axes[0].set_ylabel('True Label')\n",
        "\n",
        "# L2 Regularization\n",
        "sns.heatmap(cf2, annot=True, fmt='d', cmap='Blues', linewidths=.5, annot_kws={\"size\": 16}, ax=axes[1])\n",
        "axes[1].set_title('Confusion Matrix - L2 Regularization')\n",
        "axes[1].set_xlabel('Predicted Label')\n",
        "axes[1].set_ylabel('True Label')\n",
        "\n",
        "# Elastic Net\n",
        "sns.heatmap(cf3, annot=True, fmt='d', cmap='Blues', linewidths=.5, annot_kws={\"size\": 16}, ax=axes[2])\n",
        "axes[2].set_title('Confusion Matrix - Elastic Net Regularization')\n",
        "axes[2].set_xlabel('Predicted Label')\n",
        "axes[2].set_ylabel('True Label')\n",
        "\n",
        "plt.show()"
      ],
      "metadata": {
        "colab": {
          "base_uri": "https://localhost:8080/",
          "height": 394
        },
        "id": "cSWp9ouqI0nq",
        "outputId": "2578fc0e-e842-430b-fa5d-bfa45973c328"
      },
      "execution_count": 81,
      "outputs": [
        {
          "output_type": "display_data",
          "data": {
            "text/plain": [
              "<Figure size 1800x600 with 6 Axes>"
            ],
            "image/png": "[encoded data removed]"
          },
          "metadata": {}
        }
      ]
    },
    {
      "cell_type": "code",
      "source": [
        "# ROC Curve\n",
        "plt.plot(fpr, tpr, color='darkorange', lw=2, label='ROC curve (area = %0.2f)' % roc_auc)\n",
        "plt.plot([0, 1], [0, 1], color='navy', lw=2, linestyle='--')\n",
        "plt.xlabel('False Positive Rate')\n",
        "plt.ylabel('True Positive Rate')\n",
        "plt.title('Receiver Operating Characteristic (ROC) Curve')\n",
        "plt.legend(loc='lower right')\n",
        "plt.show()"
      ],
      "metadata": {
        "colab": {
          "base_uri": "https://localhost:8080/",
          "height": 472
        },
        "id": "lPdB5CzJCyhg",
        "outputId": "99794839-b879-4439-8704-8760a0deb12f"
      },
      "execution_count": null,
      "outputs": [
        {
          "output_type": "display_data",
          "data": {
            "text/plain": [
              "<Figure size 640x480 with 1 Axes>"
            ],
            "image/png": "[encoded data removed]"
          },
          "metadata": {}
        }
      ]
    },
    {
      "cell_type": "code",
      "source": [
        "plt.figure(figsize=(18, 6))\n",
        "\n",
        "# L1 Regularization\n",
        "plt.subplot(1, 3, 1)\n",
        "plt.plot(fpr, tpr, color='darkorange', lw=2, label='ROC curve (area = %0.2f)' % roc_auc)\n",
        "plt.plot([0, 1], [0, 1], color='navy', lw=2, linestyle='--')\n",
        "plt.xlabel('False Positive Rate')\n",
        "plt.ylabel('True Positive Rate')\n",
        "plt.title('ROC Curve - L1 Regularization')\n",
        "plt.legend(loc='lower right')\n",
        "\n",
        "# L2 Regularization\n",
        "plt.subplot(1, 3, 2)\n",
        "plt.plot(fpr2, tpr2, color='darkorange', lw=2, label='ROC curve (area = %0.2f)' % roc_auc2)\n",
        "plt.plot([0, 1], [0, 1], color='navy', lw=2, linestyle='--')\n",
        "plt.xlabel('False Positive Rate')\n",
        "plt.ylabel('True Positive Rate')\n",
        "plt.title('ROC Curve - L2 Regularization')\n",
        "plt.legend(loc='lower right')\n",
        "\n",
        "# Elastic Net\n",
        "plt.subplot(1, 3, 3)\n",
        "plt.plot(fpr3, tpr3, color='darkorange', lw=2, label='ROC curve (area = %0.2f)' % roc_auc3)\n",
        "plt.plot([0, 1], [0, 1], color='navy', lw=2, linestyle='--')\n",
        "plt.xlabel('False Positive Rate')\n",
        "plt.ylabel('True Positive Rate')\n",
        "plt.title('ROC Curve - Elastic Net Regularization')\n",
        "plt.legend(loc='lower right')\n",
        "\n",
        "plt.show()"
      ],
      "metadata": {
        "colab": {
          "base_uri": "https://localhost:8080/",
          "height": 389
        },
        "id": "s3vITmyvJQ03",
        "outputId": "36c72cad-3195-4ea5-ea68-ff019678ffdb"
      },
      "execution_count": 82,
      "outputs": [
        {
          "output_type": "display_data",
          "data": {
            "text/plain": [
              "<Figure size 1800x600 with 3 Axes>"
            ],
            "image/png": "[encoded data removed]"
          },
          "metadata": {}
        }
      ]
    },
    {
      "cell_type": "markdown",
      "source": [
        "Due to high Epochs(100) our all 3 models have arounf the same accuracy.\n",
        "there confusion matrix value is same."
      ],
      "metadata": {
        "id": "C_VSONJVJjmt"
      }
    },
    {
      "cell_type": "code",
      "source": [],
      "metadata": {
        "id": "VzVHgTXKDMqY"
      },
      "execution_count": null,
      "outputs": []
    }
  ]
}