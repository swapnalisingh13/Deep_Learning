{
 "cells": [
  {
   "cell_type": "code",
   "execution_count": 34,
   "id": "3b5c461f-eda3-4b78-82f1-1e86e4ae056d",
   "metadata": {
    "tags": []
   },
   "outputs": [],
   "source": [
    "import zipfile\n",
    "import numpy as np\n",
    "import pandas as pd\n",
    "import matplotlib.pyplot as plt\n",
    "import cv2\n",
    "import seaborn as sns\n",
    "import os\n",
    "import glob\n",
    "import random\n",
    "import shutil\n",
    "from sklearn.model_selection import train_test_split\n",
    "from sklearn.metrics import accuracy_score, precision_score, recall_score, f1_score, roc_auc_score, confusion_matrix\n",
    "from tensorflow.keras.layers import Input, Conv2D,Dropout, BatchNormalization, Activation, MaxPooling2D, Add, GlobalAveragePooling2D, Dense\n",
    "from tensorflow.keras.models import Model\n",
    "from tensorflow.keras.callbacks import ModelCheckpoint\n",
    "from tensorflow.keras.applications import ResNet50\n",
    "from tensorflow.keras.optimizers import  Adam\n",
    "from tensorflow.keras.models import Sequential\n",
    "from tensorflow.keras.layers import Flatten, Dense\n",
    "from tensorflow.keras.preprocessing.image import ImageDataGenerator"
   ]
  },
  {
   "cell_type": "code",
   "execution_count": 2,
   "id": "e68d1ba4-8319-40b9-b048-f1ea24cf4a28",
   "metadata": {
    "tags": []
   },
   "outputs": [],
   "source": [
    "import tensorflow"
   ]
  },
  {
   "cell_type": "code",
   "execution_count": 9,
   "id": "ceb9d2f7-769e-40c0-937f-936038ec11b3",
   "metadata": {
    "tags": []
   },
   "outputs": [
    {
     "name": "stdout",
     "output_type": "stream",
     "text": [
      "Extracted files: ['TB_Chest_Radiography_Database']\n"
     ]
    }
   ],
   "source": [
    "extract_dir = 'tb'\n",
    "\n",
    "with zipfile.ZipFile('archive(28).zip', 'r') as zip_ref:\n",
    "    zip_ref.extractall(extract_dir)\n",
    "\n",
    "extracted_files = os.listdir(extract_dir)\n",
    "print(\"Extracted files:\", extracted_files)"
   ]
  },
  {
   "cell_type": "code",
   "execution_count": 10,
   "id": "7698d08b-07d1-4aeb-975c-7c00e28e872a",
   "metadata": {
    "tags": []
   },
   "outputs": [],
   "source": [
    "normal_path = 'tb/TB_Chest_Radiography_Database/Normal'\n",
    "tb_path = 'tb/TB_Chest_Radiography_Database/Tuberculosis'"
   ]
  },
  {
   "cell_type": "code",
   "execution_count": 11,
   "id": "6e219bb3-7194-4a3d-b4f2-e58b9a8536ff",
   "metadata": {
    "tags": []
   },
   "outputs": [
    {
     "name": "stdout",
     "output_type": "stream",
     "text": [
      "Number of normal images: 3500\n",
      "Number of tuberculosis images 700\n"
     ]
    }
   ],
   "source": [
    "#Printing images\n",
    "normal_images = os.listdir(normal_path)\n",
    "tuberculosis_images = os.listdir(tb_path)\n",
    "\n",
    "print(\"Number of normal images:\",len(normal_images))\n",
    "print(\"Number of tuberculosis images\",len(tuberculosis_images))"
   ]
  },
  {
   "cell_type": "code",
   "execution_count": 16,
   "id": "143a7fc3-252d-4b99-b7b3-379da44b8ef9",
   "metadata": {
    "tags": []
   },
   "outputs": [],
   "source": [
    "#shuffling to normalize the order\n",
    "random.shuffle(normal_images)\n",
    "random.shuffle(tuberculosis_images)"
   ]
  },
  {
   "cell_type": "code",
   "execution_count": 17,
   "id": "ea14c2bc-5d54-4c2a-b720-dc6d5ce6cc90",
   "metadata": {
    "tags": []
   },
   "outputs": [
    {
     "name": "stdout",
     "output_type": "stream",
     "text": [
      "Train X-Ray Images:  2940\n",
      "Validation X-Ray Images:  630\n",
      "Test X-Ray Images:  630\n"
     ]
    }
   ],
   "source": [
    "normal = glob.glob(\"tb/TB_Chest_Radiography_Database/Normal/*\")\n",
    "tb = glob.glob(\"tb/TB_Chest_Radiography_Database/Tuberculosis/*\")\n",
    "\n",
    "# Splitting in 70:15:15 ratio \n",
    "train_path = normal[:2450] + tb[:490]\n",
    "val_path = normal[2450:2975] + tb[490:595]\n",
    "test_path = normal[2975:] + tb[595:]\n",
    "\n",
    "print(\"Train X-Ray Images: \",len(train_path))\n",
    "print(\"Validation X-Ray Images: \",len(val_path))\n",
    "print(\"Test X-Ray Images: \",len(test_path))"
   ]
  },
  {
   "cell_type": "code",
   "execution_count": 18,
   "id": "c7f48f01-a657-4bb6-8242-d7946b73ad33",
   "metadata": {
    "tags": []
   },
   "outputs": [],
   "source": [
    "source_dirs = [\"tb/TB_Chest_Radiography_Database/Normal\", \"tb/TB_Chest_Radiography_Database/Tuberculosis\"]\n",
    "dest_dirs = [\"tb/train\", \"tb/validation\", \"tb/test\"]\n",
    "\n",
    "# Create destination directories if they don't exist\n",
    "for dir_path in dest_dirs:\n",
    "    os.makedirs(dir_path, exist_ok=True)\n",
    "    os.makedirs(os.path.join(dir_path, 'Normal'), exist_ok=True)\n",
    "    os.makedirs(os.path.join(dir_path, 'Tuberculosis'), exist_ok=True)\n",
    "\n",
    "# Move images to train, validation, and test directories\n",
    "for i, paths in enumerate([train_path, val_path, test_path]):\n",
    "    for path in paths:\n",
    "        class_name = \"Normal\" if \"Normal\" in path else \"Tuberculosis\"\n",
    "        file_name = os.path.basename(path)\n",
    "        dest_dir = os.path.join(dest_dirs[i], class_name)\n",
    "        shutil.copy(path, os.path.join(dest_dir, file_name))"
   ]
  },
  {
   "cell_type": "code",
   "execution_count": 19,
   "id": "2d96a449-9697-413c-9555-9bc7a407d98e",
   "metadata": {
    "tags": []
   },
   "outputs": [],
   "source": [
    "train_datagen = ImageDataGenerator(\n",
    "    rescale=1./255,\n",
    "    rotation_range=15,\n",
    "    width_shift_range=0.1,\n",
    "    height_shift_range=0.1,\n",
    "    shear_range=0.2,\n",
    "    zoom_range=0.2,\n",
    "    horizontal_flip=True,\n",
    "    fill_mode='nearest'\n",
    ")\n",
    "\n",
    "validation_datagen = ImageDataGenerator(rescale=1./255)\n",
    "\n",
    "test_datagen = ImageDataGenerator(rescale=1./255)"
   ]
  },
  {
   "cell_type": "code",
   "execution_count": 20,
   "id": "cb549836-4715-45cc-a4ec-e56405ec1686",
   "metadata": {
    "tags": []
   },
   "outputs": [],
   "source": [
    "train_dir = 'tb/train'\n",
    "validation_dir = 'tb/validation'\n",
    "test_dir = 'tb/test'"
   ]
  },
  {
   "cell_type": "code",
   "execution_count": 24,
   "id": "9837a503-3923-4a4e-9262-a62e2eff8431",
   "metadata": {
    "tags": []
   },
   "outputs": [
    {
     "name": "stdout",
     "output_type": "stream",
     "text": [
      "Found 2940 images belonging to 2 classes.\n",
      "Found 630 images belonging to 2 classes.\n",
      "Found 631 images belonging to 2 classes.\n"
     ]
    }
   ],
   "source": [
    "img_height = 224\n",
    "img_width = 224\n",
    "batch_size = 32\n",
    "\n",
    "#Data Generators\n",
    "train_generator = train_datagen.flow_from_directory(\n",
    "    train_dir,\n",
    "    target_size = (img_height, img_width),\n",
    "    batch_size=batch_size,\n",
    "    class_mode='binary'  #for 2- binary classification\n",
    ")\n",
    "\n",
    "validation_generator = validation_datagen.flow_from_directory(\n",
    "    validation_dir,\n",
    "    target_size = (img_height, img_width),\n",
    "    batch_size=batch_size,\n",
    "    class_mode='binary'\n",
    ")\n",
    "\n",
    "test_generator = test_datagen.flow_from_directory(\n",
    "    test_dir,\n",
    "    target_size = (img_height, img_width),\n",
    "    batch_size=batch_size,\n",
    "    class_mode='binary'\n",
    ")\n"
   ]
  },
  {
   "cell_type": "code",
   "execution_count": 27,
   "id": "01143917-ad9f-4352-91d5-2ded29cc2f25",
   "metadata": {
    "tags": []
   },
   "outputs": [
    {
     "name": "stdout",
     "output_type": "stream",
     "text": [
      "Model: \"model_1\"\n",
      "__________________________________________________________________________________________________\n",
      " Layer (type)                   Output Shape         Param #     Connected to                     \n",
      "==================================================================================================\n",
      " input_2 (InputLayer)           [(None, 224, 224, 3  0           []                               \n",
      "                                )]                                                                \n",
      "                                                                                                  \n",
      " conv2d_16 (Conv2D)             (None, 112, 112, 64  9472        ['input_2[0][0]']                \n",
      "                                )                                                                 \n",
      "                                                                                                  \n",
      " max_pooling2d_1 (MaxPooling2D)  (None, 56, 56, 64)  0           ['conv2d_16[0][0]']              \n",
      "                                                                                                  \n",
      " conv2d_17 (Conv2D)             (None, 56, 56, 64)   36928       ['max_pooling2d_1[0][0]']        \n",
      "                                                                                                  \n",
      " batch_normalization_15 (BatchN  (None, 56, 56, 64)  256         ['conv2d_17[0][0]']              \n",
      " ormalization)                                                                                    \n",
      "                                                                                                  \n",
      " conv2d_18 (Conv2D)             (None, 56, 56, 64)   36928       ['batch_normalization_15[0][0]'] \n",
      "                                                                                                  \n",
      " batch_normalization_16 (BatchN  (None, 56, 56, 64)  256         ['conv2d_18[0][0]']              \n",
      " ormalization)                                                                                    \n",
      "                                                                                                  \n",
      " add_6 (Add)                    (None, 56, 56, 64)   0           ['batch_normalization_16[0][0]', \n",
      "                                                                  'max_pooling2d_1[0][0]']        \n",
      "                                                                                                  \n",
      " activation_6 (Activation)      (None, 56, 56, 64)   0           ['add_6[0][0]']                  \n",
      "                                                                                                  \n",
      " conv2d_19 (Conv2D)             (None, 56, 56, 64)   36928       ['activation_6[0][0]']           \n",
      "                                                                                                  \n",
      " batch_normalization_17 (BatchN  (None, 56, 56, 64)  256         ['conv2d_19[0][0]']              \n",
      " ormalization)                                                                                    \n",
      "                                                                                                  \n",
      " conv2d_20 (Conv2D)             (None, 56, 56, 64)   36928       ['batch_normalization_17[0][0]'] \n",
      "                                                                                                  \n",
      " batch_normalization_18 (BatchN  (None, 56, 56, 64)  256         ['conv2d_20[0][0]']              \n",
      " ormalization)                                                                                    \n",
      "                                                                                                  \n",
      " add_7 (Add)                    (None, 56, 56, 64)   0           ['batch_normalization_18[0][0]', \n",
      "                                                                  'activation_6[0][0]']           \n",
      "                                                                                                  \n",
      " activation_7 (Activation)      (None, 56, 56, 64)   0           ['add_7[0][0]']                  \n",
      "                                                                                                  \n",
      " conv2d_21 (Conv2D)             (None, 56, 56, 64)   36928       ['activation_7[0][0]']           \n",
      "                                                                                                  \n",
      " batch_normalization_19 (BatchN  (None, 56, 56, 64)  256         ['conv2d_21[0][0]']              \n",
      " ormalization)                                                                                    \n",
      "                                                                                                  \n",
      " conv2d_22 (Conv2D)             (None, 56, 56, 64)   36928       ['batch_normalization_19[0][0]'] \n",
      "                                                                                                  \n",
      " batch_normalization_20 (BatchN  (None, 56, 56, 64)  256         ['conv2d_22[0][0]']              \n",
      " ormalization)                                                                                    \n",
      "                                                                                                  \n",
      " add_8 (Add)                    (None, 56, 56, 64)   0           ['batch_normalization_20[0][0]', \n",
      "                                                                  'activation_7[0][0]']           \n",
      "                                                                                                  \n",
      " activation_8 (Activation)      (None, 56, 56, 64)   0           ['add_8[0][0]']                  \n",
      "                                                                                                  \n",
      " conv2d_23 (Conv2D)             (None, 28, 28, 128)  73856       ['activation_8[0][0]']           \n",
      "                                                                                                  \n",
      " batch_normalization_21 (BatchN  (None, 28, 28, 128)  512        ['conv2d_23[0][0]']              \n",
      " ormalization)                                                                                    \n",
      "                                                                                                  \n",
      " conv2d_24 (Conv2D)             (None, 28, 28, 128)  147584      ['batch_normalization_21[0][0]'] \n",
      "                                                                                                  \n",
      " conv2d_25 (Conv2D)             (None, 28, 28, 128)  8320        ['activation_8[0][0]']           \n",
      "                                                                                                  \n",
      " batch_normalization_22 (BatchN  (None, 28, 28, 128)  512        ['conv2d_24[0][0]']              \n",
      " ormalization)                                                                                    \n",
      "                                                                                                  \n",
      " batch_normalization_23 (BatchN  (None, 28, 28, 128)  512        ['conv2d_25[0][0]']              \n",
      " ormalization)                                                                                    \n",
      "                                                                                                  \n",
      " add_9 (Add)                    (None, 28, 28, 128)  0           ['batch_normalization_22[0][0]', \n",
      "                                                                  'batch_normalization_23[0][0]'] \n",
      "                                                                                                  \n",
      " activation_9 (Activation)      (None, 28, 28, 128)  0           ['add_9[0][0]']                  \n",
      "                                                                                                  \n",
      " conv2d_26 (Conv2D)             (None, 14, 14, 256)  295168      ['activation_9[0][0]']           \n",
      "                                                                                                  \n",
      " batch_normalization_24 (BatchN  (None, 14, 14, 256)  1024       ['conv2d_26[0][0]']              \n",
      " ormalization)                                                                                    \n",
      "                                                                                                  \n",
      " conv2d_27 (Conv2D)             (None, 14, 14, 256)  590080      ['batch_normalization_24[0][0]'] \n",
      "                                                                                                  \n",
      " conv2d_28 (Conv2D)             (None, 14, 14, 256)  33024       ['activation_9[0][0]']           \n",
      "                                                                                                  \n",
      " batch_normalization_25 (BatchN  (None, 14, 14, 256)  1024       ['conv2d_27[0][0]']              \n",
      " ormalization)                                                                                    \n",
      "                                                                                                  \n",
      " batch_normalization_26 (BatchN  (None, 14, 14, 256)  1024       ['conv2d_28[0][0]']              \n",
      " ormalization)                                                                                    \n",
      "                                                                                                  \n",
      " add_10 (Add)                   (None, 14, 14, 256)  0           ['batch_normalization_25[0][0]', \n",
      "                                                                  'batch_normalization_26[0][0]'] \n",
      "                                                                                                  \n",
      " activation_10 (Activation)     (None, 14, 14, 256)  0           ['add_10[0][0]']                 \n",
      "                                                                                                  \n",
      " conv2d_29 (Conv2D)             (None, 7, 7, 512)    1180160     ['activation_10[0][0]']          \n",
      "                                                                                                  \n",
      " batch_normalization_27 (BatchN  (None, 7, 7, 512)   2048        ['conv2d_29[0][0]']              \n",
      " ormalization)                                                                                    \n",
      "                                                                                                  \n",
      " conv2d_30 (Conv2D)             (None, 7, 7, 512)    2359808     ['batch_normalization_27[0][0]'] \n",
      "                                                                                                  \n",
      " conv2d_31 (Conv2D)             (None, 7, 7, 512)    131584      ['activation_10[0][0]']          \n",
      "                                                                                                  \n",
      " batch_normalization_28 (BatchN  (None, 7, 7, 512)   2048        ['conv2d_30[0][0]']              \n",
      " ormalization)                                                                                    \n",
      "                                                                                                  \n",
      " batch_normalization_29 (BatchN  (None, 7, 7, 512)   2048        ['conv2d_31[0][0]']              \n",
      " ormalization)                                                                                    \n",
      "                                                                                                  \n",
      " add_11 (Add)                   (None, 7, 7, 512)    0           ['batch_normalization_28[0][0]', \n",
      "                                                                  'batch_normalization_29[0][0]'] \n",
      "                                                                                                  \n",
      " activation_11 (Activation)     (None, 7, 7, 512)    0           ['add_11[0][0]']                 \n",
      "                                                                                                  \n",
      " global_average_pooling2d_1 (Gl  (None, 512)         0           ['activation_11[0][0]']          \n",
      " obalAveragePooling2D)                                                                            \n",
      "                                                                                                  \n",
      " dense_1 (Dense)                (None, 1)            513         ['global_average_pooling2d_1[0][0\n",
      "                                                                 ]']                              \n",
      "                                                                                                  \n",
      "==================================================================================================\n",
      "Total params: 5,063,425\n",
      "Trainable params: 5,057,281\n",
      "Non-trainable params: 6,144\n",
      "__________________________________________________________________________________________________\n"
     ]
    }
   ],
   "source": [
    "from tensorflow.keras import layers, Model\n",
    "\n",
    "def build_resnet(input_shape=(224, 224, 3)):\n",
    "    # Input layer\n",
    "    inputs = layers.Input(shape=input_shape)\n",
    "\n",
    "    # Initial convolutional layer\n",
    "    x = layers.Conv2D(64, (7, 7), strides=(2, 2), padding='same', activation='relu')(inputs)\n",
    "    x = layers.MaxPooling2D((3, 3), strides=(2, 2), padding='same')(x)\n",
    "\n",
    "    # Residual blocks\n",
    "    for _ in range(3):\n",
    "        x = residual_block(x, 64)\n",
    "\n",
    "    for filters in [128, 256, 512]:\n",
    "        x = residual_block(x, filters, strides=(2, 2))\n",
    "\n",
    "    # Average pooling layer\n",
    "    x = layers.GlobalAveragePooling2D()(x)\n",
    "\n",
    "    # Output layer for binary classification\n",
    "    outputs = layers.Dense(1, activation='sigmoid')(x)\n",
    "\n",
    "    # Create model\n",
    "    model = Model(inputs, outputs)\n",
    "    return model\n",
    "\n",
    "def residual_block(x, filters, strides=(1, 1)):\n",
    "    shortcut = x\n",
    "    x = layers.Conv2D(filters, (3, 3), strides=strides, padding='same', activation='relu')(x)\n",
    "    x = layers.BatchNormalization()(x)\n",
    "    x = layers.Conv2D(filters, (3, 3), padding='same', activation='relu')(x)\n",
    "    x = layers.BatchNormalization()(x)\n",
    "\n",
    "    # Adjust the dimensions of the shortcut to match the dimensions of the residual\n",
    "    if strides != (1, 1) or shortcut.shape[-1] != filters:\n",
    "        shortcut = layers.Conv2D(filters, (1, 1), strides=strides, padding='same', activation='relu')(shortcut)\n",
    "        shortcut = layers.BatchNormalization()(shortcut)\n",
    "\n",
    "    # Add the shortcut to the residual\n",
    "    x = layers.Add()([x, shortcut])\n",
    "    x = layers.Activation('relu')(x)\n",
    "    return x\n",
    "\n",
    "# Build the ResNet model\n",
    "resnet_model = build_resnet()\n",
    "\n",
    "# Print model summary\n",
    "resnet_model.summary()"
   ]
  },
  {
   "cell_type": "code",
   "execution_count": 28,
   "id": "91884dd6-17ad-443e-87ee-b799727c5a50",
   "metadata": {
    "tags": []
   },
   "outputs": [
    {
     "name": "stdout",
     "output_type": "stream",
     "text": [
      "Epoch 1/10\n",
      "92/92 [==============================] - ETA: 0s - loss: 0.2394 - accuracy: 0.9255\n",
      "Epoch 1: val_accuracy improved from -inf to 0.86984, saving model to resnet_model.h5\n",
      "92/92 [==============================] - 413s 4s/step - loss: 0.2394 - accuracy: 0.9255 - val_loss: 0.4326 - val_accuracy: 0.8698\n",
      "Epoch 2/10\n",
      "92/92 [==============================] - ETA: 0s - loss: 0.1332 - accuracy: 0.9510\n",
      "Epoch 2: val_accuracy did not improve from 0.86984\n",
      "92/92 [==============================] - 388s 4s/step - loss: 0.1332 - accuracy: 0.9510 - val_loss: 2.6994 - val_accuracy: 0.2286\n",
      "Epoch 3/10\n",
      "92/92 [==============================] - ETA: 0s - loss: 0.1188 - accuracy: 0.9588\n",
      "Epoch 3: val_accuracy did not improve from 0.86984\n",
      "92/92 [==============================] - 385s 4s/step - loss: 0.1188 - accuracy: 0.9588 - val_loss: 0.7916 - val_accuracy: 0.7619\n",
      "Epoch 4/10\n",
      "92/92 [==============================] - ETA: 0s - loss: 0.1183 - accuracy: 0.9565\n",
      "Epoch 4: val_accuracy improved from 0.86984 to 0.91746, saving model to resnet_model.h5\n",
      "92/92 [==============================] - 379s 4s/step - loss: 0.1183 - accuracy: 0.9565 - val_loss: 0.2126 - val_accuracy: 0.9175\n",
      "Epoch 5/10\n",
      "92/92 [==============================] - ETA: 0s - loss: 0.1065 - accuracy: 0.9629\n",
      "Epoch 5: val_accuracy did not improve from 0.91746\n",
      "92/92 [==============================] - 382s 4s/step - loss: 0.1065 - accuracy: 0.9629 - val_loss: 27.3848 - val_accuracy: 0.1667\n",
      "Epoch 6/10\n",
      "92/92 [==============================] - ETA: 0s - loss: 0.0986 - accuracy: 0.9667\n",
      "Epoch 6: val_accuracy did not improve from 0.91746\n",
      "92/92 [==============================] - 384s 4s/step - loss: 0.0986 - accuracy: 0.9667 - val_loss: 11.9130 - val_accuracy: 0.1667\n",
      "Epoch 7/10\n",
      "92/92 [==============================] - ETA: 0s - loss: 0.0995 - accuracy: 0.9650\n",
      "Epoch 7: val_accuracy improved from 0.91746 to 0.93651, saving model to resnet_model.h5\n",
      "92/92 [==============================] - 379s 4s/step - loss: 0.0995 - accuracy: 0.9650 - val_loss: 0.2106 - val_accuracy: 0.9365\n",
      "Epoch 8/10\n",
      "92/92 [==============================] - ETA: 0s - loss: 0.1036 - accuracy: 0.9639\n",
      "Epoch 8: val_accuracy did not improve from 0.93651\n",
      "92/92 [==============================] - 381s 4s/step - loss: 0.1036 - accuracy: 0.9639 - val_loss: 5.5017 - val_accuracy: 0.1603\n",
      "Epoch 9/10\n",
      "92/92 [==============================] - ETA: 0s - loss: 0.0800 - accuracy: 0.9718\n",
      "Epoch 9: val_accuracy did not improve from 0.93651\n",
      "92/92 [==============================] - 380s 4s/step - loss: 0.0800 - accuracy: 0.9718 - val_loss: 0.1588 - val_accuracy: 0.9222\n",
      "Epoch 10/10\n",
      "92/92 [==============================] - ETA: 0s - loss: 0.0887 - accuracy: 0.9687\n",
      "Epoch 10: val_accuracy did not improve from 0.93651\n",
      "92/92 [==============================] - 403s 4s/step - loss: 0.0887 - accuracy: 0.9687 - val_loss: 0.5446 - val_accuracy: 0.8444\n"
     ]
    }
   ],
   "source": [
    "# Compile the model\n",
    "optimizer = Adam(learning_rate=0.001)\n",
    "resnet_model.compile(optimizer=optimizer, loss='binary_crossentropy', metrics=['accuracy'])\n",
    "\n",
    "# Define number of epochs\n",
    "epochs = 10\n",
    "\n",
    "# Define model checkpoint callback\n",
    "checkpoint = ModelCheckpoint('resnet_model.h5', monitor='val_accuracy', save_best_only=True, verbose=1)\n",
    "\n",
    "# Train the model\n",
    "history = resnet_model.fit(train_generator,\n",
    "                            epochs=epochs,\n",
    "                            steps_per_epoch=len(train_generator),\n",
    "                            validation_data=validation_generator,\n",
    "                            validation_steps=len(validation_generator),\n",
    "                            callbacks=[checkpoint])"
   ]
  },
  {
   "cell_type": "code",
   "execution_count": 37,
   "id": "427f7e7b-557e-4216-8468-a0400b592193",
   "metadata": {
    "tags": []
   },
   "outputs": [
    {
     "name": "stdout",
     "output_type": "stream",
     "text": [
      "92/92 [==============================] - 146s 2s/step - loss: 0.5306 - accuracy: 0.8531\n",
      "Train loss: 0.5306048393249512\n",
      "Train accuracy: 0.8530611991882324\n"
     ]
    }
   ],
   "source": [
    "train_loss, train_accuracy = resnet_model.evaluate(train_generator)\n",
    "print('Train loss:', train_loss)\n",
    "print('Train accuracy:', train_accuracy)"
   ]
  },
  {
   "cell_type": "code",
   "execution_count": 29,
   "id": "56619543-b2cb-4848-a6ae-725cefe1c7fb",
   "metadata": {
    "tags": []
   },
   "outputs": [
    {
     "name": "stdout",
     "output_type": "stream",
     "text": [
      "20/20 [==============================] - 23s 1s/step\n",
      "Validation Classification Report:\n",
      "              precision    recall  f1-score   support\n",
      "\n",
      "           0       0.83      0.77      0.80       525\n",
      "           1       0.17      0.24      0.20       105\n",
      "\n",
      "    accuracy                           0.68       630\n",
      "   macro avg       0.50      0.50      0.50       630\n",
      "weighted avg       0.72      0.68      0.70       630\n",
      "\n",
      "20/20 [==============================] - 29s 1s/step\n",
      "Test Classification Report:\n",
      "              precision    recall  f1-score   support\n",
      "\n",
      "           0       0.83      0.75      0.78       526\n",
      "           1       0.15      0.22      0.18       105\n",
      "\n",
      "    accuracy                           0.66       631\n",
      "   macro avg       0.49      0.48      0.48       631\n",
      "weighted avg       0.71      0.66      0.68       631\n",
      "\n"
     ]
    }
   ],
   "source": [
    "# Making predictions on the validation set\n",
    "validation_predictions = resnet_model.predict(validation_generator)\n",
    "validation_predicted_labels = validation_predictions > 0.5  # Convert probabilities to binary predictions\n",
    "\n",
    "# Getting the actual labels for the validation set\n",
    "validation_actual_labels = validation_generator.labels\n",
    "\n",
    "# Comparing predicted labels with actual labels\n",
    "from sklearn.metrics import classification_report\n",
    "print(\"Validation Classification Report:\")\n",
    "print(classification_report(validation_actual_labels, validation_predicted_labels))\n",
    "\n",
    "# Make=ing predictions on the test set\n",
    "test_predictions = resnet_model.predict(test_generator)\n",
    "test_predicted_labels = test_predictions > 0.5  # Convert probabilities to binary predictions\n",
    "\n",
    "# Getting the actual labels for the test set\n",
    "test_actual_labels = test_generator.labels\n",
    "\n",
    "# Compare predicted labels with actual labels\n",
    "print(\"Test Classification Report:\")\n",
    "print(classification_report(test_actual_labels, test_predicted_labels))\n"
   ]
  },
  {
   "cell_type": "code",
   "execution_count": 30,
   "id": "6a66a95b-583f-4a43-bd45-be93daf607cc",
   "metadata": {
    "tags": []
   },
   "outputs": [
    {
     "name": "stdout",
     "output_type": "stream",
     "text": [
      "20/20 [==============================] - 20s 997ms/step - loss: 0.5446 - accuracy: 0.8444\n",
      "Validation loss: 0.5445850491523743\n",
      "Validation accuracy: 0.8444444537162781\n",
      "20/20 [==============================] - 20s 1s/step - loss: 0.3527 - accuracy: 0.9049\n",
      "Test loss: 0.35268300771713257\n",
      "Test accuracy: 0.9049128293991089\n"
     ]
    }
   ],
   "source": [
    "# Evaluate the model on the validation set\n",
    "validation_loss, validation_accuracy = resnet_model.evaluate(validation_generator)\n",
    "print('Validation loss:', validation_loss)\n",
    "print('Validation accuracy:', validation_accuracy)\n",
    "\n",
    "# Evaluate the model on the test set\n",
    "test_loss, test_accuracy = resnet_model.evaluate(test_generator)\n",
    "print('Test loss:', test_loss)\n",
    "print('Test accuracy:', test_accuracy)"
   ]
  },
  {
   "cell_type": "code",
   "execution_count": 31,
   "id": "046d95f2-0d75-466f-8a83-b035709442f8",
   "metadata": {
    "tags": []
   },
   "outputs": [
    {
     "data": {
      "image/png": "[encoded data removed]",
      "text/plain": [
       "<Figure size 640x480 with 1 Axes>"
      ]
     },
     "metadata": {},
     "output_type": "display_data"
    }
   ],
   "source": [
    "# Plot training & validation accuracy\n",
    "plt.plot(history.history['accuracy'])\n",
    "plt.plot(history.history['val_accuracy'])\n",
    "plt.title('Model accuracy')\n",
    "plt.ylabel('Accuracy')\n",
    "plt.xlabel('Epoch')\n",
    "plt.legend(['Train', 'Validation'], loc='upper left')\n",
    "plt.show()"
   ]
  },
  {
   "cell_type": "code",
   "execution_count": 32,
   "id": "3be6bbfd-b0fa-45fc-a532-55acbb3dbc23",
   "metadata": {
    "tags": []
   },
   "outputs": [
    {
     "data": {
      "image/png": "[encoded data removed]",
      "text/plain": [
       "<Figure size 640x480 with 1 Axes>"
      ]
     },
     "metadata": {},
     "output_type": "display_data"
    }
   ],
   "source": [
    "# Plot training & validation loss\n",
    "plt.plot(history.history['loss'])\n",
    "plt.plot(history.history['val_loss'])\n",
    "plt.title('Model loss')\n",
    "plt.ylabel('Loss')\n",
    "plt.xlabel('Epoch')\n",
    "plt.legend(['Train', 'Validation'], loc='upper left')\n",
    "plt.show()"
   ]
  },
  {
   "cell_type": "code",
   "execution_count": 39,
   "id": "f6303934-c016-40e0-b639-1e6581ec7d2e",
   "metadata": {
    "tags": []
   },
   "outputs": [
    {
     "name": "stdout",
     "output_type": "stream",
     "text": [
      "Model: \"sequential_2\"\n",
      "_________________________________________________________________\n",
      " Layer (type)                Output Shape              Param #   \n",
      "=================================================================\n",
      " conv2d_38 (Conv2D)          (None, 222, 222, 32)      896       \n",
      "                                                                 \n",
      " batch_normalization_36 (Bat  (None, 222, 222, 32)     128       \n",
      " chNormalization)                                                \n",
      "                                                                 \n",
      " max_pooling2d_8 (MaxPooling  (None, 111, 111, 32)     0         \n",
      " 2D)                                                             \n",
      "                                                                 \n",
      " conv2d_39 (Conv2D)          (None, 109, 109, 64)      18496     \n",
      "                                                                 \n",
      " batch_normalization_37 (Bat  (None, 109, 109, 64)     256       \n",
      " chNormalization)                                                \n",
      "                                                                 \n",
      " max_pooling2d_9 (MaxPooling  (None, 54, 54, 64)       0         \n",
      " 2D)                                                             \n",
      "                                                                 \n",
      " conv2d_40 (Conv2D)          (None, 52, 52, 128)       73856     \n",
      "                                                                 \n",
      " batch_normalization_38 (Bat  (None, 52, 52, 128)      512       \n",
      " chNormalization)                                                \n",
      "                                                                 \n",
      " max_pooling2d_10 (MaxPoolin  (None, 26, 26, 128)      0         \n",
      " g2D)                                                            \n",
      "                                                                 \n",
      " conv2d_41 (Conv2D)          (None, 24, 24, 256)       295168    \n",
      "                                                                 \n",
      " batch_normalization_39 (Bat  (None, 24, 24, 256)      1024      \n",
      " chNormalization)                                                \n",
      "                                                                 \n",
      " max_pooling2d_11 (MaxPoolin  (None, 12, 12, 256)      0         \n",
      " g2D)                                                            \n",
      "                                                                 \n",
      " flatten_2 (Flatten)         (None, 36864)             0         \n",
      "                                                                 \n",
      " dense_6 (Dense)             (None, 512)               18874880  \n",
      "                                                                 \n",
      " dropout_2 (Dropout)         (None, 512)               0         \n",
      "                                                                 \n",
      " dense_7 (Dense)             (None, 256)               131328    \n",
      "                                                                 \n",
      " dropout_3 (Dropout)         (None, 256)               0         \n",
      "                                                                 \n",
      " dense_8 (Dense)             (None, 2)                 514       \n",
      "                                                                 \n",
      "=================================================================\n",
      "Total params: 19,397,058\n",
      "Trainable params: 19,396,098\n",
      "Non-trainable params: 960\n",
      "_________________________________________________________________\n"
     ]
    }
   ],
   "source": [
    "def build_custom_cnn(input_shape=(224, 224, 3), num_classes=2):\n",
    "    model = Sequential()\n",
    "    \n",
    "    # Convolutional layers\n",
    "    model.add(Conv2D(32, (3, 3), activation='relu', input_shape=input_shape))\n",
    "    model.add(BatchNormalization())\n",
    "    model.add(MaxPooling2D((2, 2)))\n",
    "    \n",
    "    model.add(Conv2D(64, (3, 3), activation='relu'))\n",
    "    model.add(BatchNormalization())\n",
    "    model.add(MaxPooling2D((2, 2)))\n",
    "    \n",
    "    model.add(Conv2D(128, (3, 3), activation='relu'))\n",
    "    model.add(BatchNormalization())\n",
    "    model.add(MaxPooling2D((2, 2)))\n",
    "\n",
    "    # Additional Convolutional layers for increased complexity\n",
    "    model.add(Conv2D(256, (3, 3), activation='relu'))\n",
    "    model.add(BatchNormalization())\n",
    "    model.add(MaxPooling2D((2, 2)))\n",
    "    \n",
    "    # Flatten layer\n",
    "    model.add(Flatten())\n",
    "    \n",
    "    # Fully connected layers with increased units\n",
    "    model.add(Dense(512, activation='relu'))\n",
    "    model.add(Dropout(0.5))\n",
    "    \n",
    "    model.add(Dense(256, activation='relu'))\n",
    "    model.add(Dropout(0.5))\n",
    "    \n",
    "    # Output layer\n",
    "    model.add(Dense(num_classes, activation='softmax'))\n",
    "    \n",
    "    return model\n",
    "\n",
    "# Build the updated custom CNN model\n",
    "custom_cnn_model = build_custom_cnn(input_shape=(224, 224, 3), num_classes=2)\n",
    "\n",
    "# Display updated model architecture\n",
    "custom_cnn_model.summary()"
   ]
  },
  {
   "cell_type": "code",
   "execution_count": 40,
   "id": "4cffede7-0cd8-4c64-a02e-f036c1b95430",
   "metadata": {
    "tags": []
   },
   "outputs": [
    {
     "name": "stdout",
     "output_type": "stream",
     "text": [
      "Epoch 1/10\n",
      "92/92 [==============================] - ETA: 0s - loss: 3.4645 - accuracy: 0.8881\n",
      "Epoch 1: val_accuracy improved from -inf to 0.42381, saving model to custom_cnn_model.h5\n",
      "92/92 [==============================] - 340s 4s/step - loss: 3.4645 - accuracy: 0.8881 - val_loss: 7.1754 - val_accuracy: 0.4238\n",
      "Epoch 2/10\n",
      "92/92 [==============================] - ETA: 0s - loss: 2.2659 - accuracy: 0.9133\n",
      "Epoch 2: val_accuracy did not improve from 0.42381\n",
      "92/92 [==============================] - 332s 4s/step - loss: 2.2659 - accuracy: 0.9133 - val_loss: 29.3142 - val_accuracy: 0.1667\n",
      "Epoch 3/10\n",
      "92/92 [==============================] - ETA: 0s - loss: 1.2234 - accuracy: 0.9310\n",
      "Epoch 3: val_accuracy improved from 0.42381 to 0.45397, saving model to custom_cnn_model.h5\n",
      "92/92 [==============================] - 270s 3s/step - loss: 1.2234 - accuracy: 0.9310 - val_loss: 22.5958 - val_accuracy: 0.4540\n",
      "Epoch 4/10\n",
      "92/92 [==============================] - ETA: 0s - loss: 0.8945 - accuracy: 0.9272\n",
      "Epoch 4: val_accuracy did not improve from 0.45397\n",
      "92/92 [==============================] - 282s 3s/step - loss: 0.8945 - accuracy: 0.9272 - val_loss: 42.7284 - val_accuracy: 0.3048\n",
      "Epoch 5/10\n",
      "92/92 [==============================] - ETA: 0s - loss: 0.4786 - accuracy: 0.9316\n",
      "Epoch 5: val_accuracy improved from 0.45397 to 0.70000, saving model to custom_cnn_model.h5\n",
      "92/92 [==============================] - 269s 3s/step - loss: 0.4786 - accuracy: 0.9316 - val_loss: 2.4386 - val_accuracy: 0.7000\n",
      "Epoch 6/10\n",
      "92/92 [==============================] - ETA: 0s - loss: 0.2678 - accuracy: 0.9480\n",
      "Epoch 6: val_accuracy did not improve from 0.70000\n",
      "92/92 [==============================] - 297s 3s/step - loss: 0.2678 - accuracy: 0.9480 - val_loss: 3.9153 - val_accuracy: 0.6730\n",
      "Epoch 7/10\n",
      "92/92 [==============================] - ETA: 0s - loss: 0.2026 - accuracy: 0.9459\n",
      "Epoch 7: val_accuracy improved from 0.70000 to 0.85238, saving model to custom_cnn_model.h5\n",
      "92/92 [==============================] - 271s 3s/step - loss: 0.2026 - accuracy: 0.9459 - val_loss: 0.5768 - val_accuracy: 0.8524\n",
      "Epoch 8/10\n",
      "92/92 [==============================] - ETA: 0s - loss: 0.2227 - accuracy: 0.9541\n",
      "Epoch 8: val_accuracy improved from 0.85238 to 0.89206, saving model to custom_cnn_model.h5\n",
      "92/92 [==============================] - 274s 3s/step - loss: 0.2227 - accuracy: 0.9541 - val_loss: 1.2188 - val_accuracy: 0.8921\n",
      "Epoch 9/10\n",
      "92/92 [==============================] - ETA: 0s - loss: 0.2515 - accuracy: 0.9412\n",
      "Epoch 9: val_accuracy improved from 0.89206 to 0.90635, saving model to custom_cnn_model.h5\n",
      "92/92 [==============================] - 269s 3s/step - loss: 0.2515 - accuracy: 0.9412 - val_loss: 0.4349 - val_accuracy: 0.9063\n",
      "Epoch 10/10\n",
      "92/92 [==============================] - ETA: 0s - loss: 0.2083 - accuracy: 0.9446\n",
      "Epoch 10: val_accuracy did not improve from 0.90635\n",
      "92/92 [==============================] - 266s 3s/step - loss: 0.2083 - accuracy: 0.9446 - val_loss: 0.3139 - val_accuracy: 0.9063\n"
     ]
    }
   ],
   "source": [
    "# Compile the model\n",
    "custom_cnn_model.compile(optimizer=Adam(learning_rate=0.001), \n",
    "                         loss='sparse_categorical_crossentropy',  # Use 'sparse_categorical_crossentropy' for integer labels\n",
    "                         metrics=['accuracy'])\n",
    "\n",
    "# Define callbacks\n",
    "checkpoint = ModelCheckpoint('custom_cnn_model.h5', monitor='val_accuracy', save_best_only=True, verbose=1)\n",
    "\n",
    "# Train the model\n",
    "history = custom_cnn_model.fit(train_generator,\n",
    "                                epochs=epochs,\n",
    "                                steps_per_epoch=len(train_generator),\n",
    "                                validation_data=validation_generator,\n",
    "                                validation_steps=len(validation_generator),\n",
    "                                callbacks=[checkpoint])"
   ]
  },
  {
   "cell_type": "code",
   "execution_count": 41,
   "id": "2c1b5277-54fe-424e-b4b8-169386d30822",
   "metadata": {
    "tags": []
   },
   "outputs": [
    {
     "name": "stdout",
     "output_type": "stream",
     "text": [
      "92/92 [==============================] - 157s 2s/step - loss: 0.1837 - accuracy: 0.9306\n",
      "Custom Model: \n",
      "Train loss: 0.1837218552827835\n",
      "Train accuracy: 0.9306122660636902\n"
     ]
    }
   ],
   "source": [
    "train_loss1, train_accuracy1 = custom_cnn_model.evaluate(train_generator)\n",
    "print('Custom Model: ')\n",
    "print('Train loss:', train_loss1)\n",
    "print('Train accuracy:', train_accuracy1)"
   ]
  },
  {
   "cell_type": "code",
   "execution_count": 45,
   "id": "11bd6d33-f889-4e8a-bc77-e67bea9d1639",
   "metadata": {
    "tags": []
   },
   "outputs": [
    {
     "name": "stdout",
     "output_type": "stream",
     "text": [
      "Test Classification Report:\n",
      "              precision    recall  f1-score   support\n",
      "\n",
      "           0       0.83      0.93      0.88       526\n",
      "           1       0.14      0.06      0.08       105\n",
      "\n",
      "   micro avg       0.79      0.79      0.79       631\n",
      "   macro avg       0.49      0.49      0.48       631\n",
      "weighted avg       0.72      0.79      0.75       631\n",
      " samples avg       0.79      0.79      0.79       631\n",
      "\n"
     ]
    }
   ],
   "source": [
    "from keras.utils import to_categorical\n",
    "test_actual_labels_binary = to_categorical(test_actual_labels1)\n",
    "\n",
    "# Compare predicted labels with actual labels\n",
    "print(\"Test Classification Report:\")\n",
    "print(classification_report(test_actual_labels_binary, test_predicted_labels1))"
   ]
  },
  {
   "cell_type": "code",
   "execution_count": 47,
   "id": "b1446326-1264-4416-99ce-5bdec6b2b7e1",
   "metadata": {
    "tags": []
   },
   "outputs": [
    {
     "data": {
      "image/png": "[encoded data removed]",
      "text/plain": [
       "<Figure size 640x480 with 1 Axes>"
      ]
     },
     "metadata": {},
     "output_type": "display_data"
    }
   ],
   "source": [
    "plt.plot(history.history['accuracy'])\n",
    "plt.plot(history.history['val_accuracy'])\n",
    "plt.title('Custom Model accuracy')\n",
    "plt.ylabel('Accuracy')\n",
    "plt.xlabel('Epoch')\n",
    "plt.legend(['Train', 'Validation'], loc='upper left')\n",
    "plt.show()"
   ]
  },
  {
   "cell_type": "code",
   "execution_count": 48,
   "id": "99cb5802-785d-4ccb-aee4-d5ffb8de72af",
   "metadata": {
    "tags": []
   },
   "outputs": [
    {
     "data": {
      "image/png": "[encoded data removed]",
      "text/plain": [
       "<Figure size 640x480 with 1 Axes>"
      ]
     },
     "metadata": {},
     "output_type": "display_data"
    }
   ],
   "source": [
    "# Plot training & validation loss\n",
    "plt.plot(history.history['loss'])\n",
    "plt.plot(history.history['val_loss'])\n",
    "plt.title('Custom Model loss')\n",
    "plt.ylabel('Loss')\n",
    "plt.xlabel('Epoch')\n",
    "plt.legend(['Train', 'Validation'], loc='upper left')\n",
    "plt.show()"
   ]
  },
  {
   "cell_type": "code",
   "execution_count": null,
   "id": "2cb2f7a5-3d6b-45f0-b482-6f09cb73580b",
   "metadata": {},
   "outputs": [],
   "source": []
  }
 ],
 "metadata": {
  "kernelspec": {
   "display_name": "Python 3 (ipykernel)",
   "language": "python",
   "name": "python3"
  },
  "language_info": {
   "codemirror_mode": {
    "name": "ipython",
    "version": 3
   },
   "file_extension": ".py",
   "mimetype": "text/x-python",
   "name": "python",
   "nbconvert_exporter": "python",
   "pygments_lexer": "ipython3",
   "version": "3.11.1"
  }
 },
 "nbformat": 4,
 "nbformat_minor": 5
}
