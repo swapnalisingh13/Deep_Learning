{
  "nbformat": 4,
  "nbformat_minor": 0,
  "metadata": {
    "colab": {
      "provenance": [],
      "authorship_tag": "ABX9TyMgO+/Eady8PYRfSi0DkCgg",
      "include_colab_link": true
    },
    "kernelspec": {
      "name": "python3",
      "display_name": "Python 3"
    },
    "language_info": {
      "name": "python"
    }
  },
  "cells": [
    {
      "cell_type": "markdown",
      "metadata": {
        "id": "view-in-github",
        "colab_type": "text"
      },
      "source": [
        "<a href=\"https://colab.research.google.com/github/swapnalisingh13/Deep_Learning/blob/main/DL_Lab4_2348565.ipynb\" target=\"_parent\"><img src=\"https://colab.research.google.com/assets/colab-badge.svg\" alt=\"Open In Colab\"/></a>"
      ]
    },
    {
      "cell_type": "code",
      "execution_count": 104,
      "metadata": {
        "id": "m9q_OPoQMrYs"
      },
      "outputs": [],
      "source": [
        "import pandas as pd\n",
        "import numpy as np\n",
        "import seaborn as sns\n",
        "import matplotlib.pyplot as plt\n",
        "#resampling\n",
        "from sklearn.utils import resample\n",
        "from sklearn.preprocessing import LabelEncoder, StandardScaler\n",
        "#model building\n",
        "from sklearn.model_selection import train_test_split\n",
        "import tensorflow as tf\n",
        "from tensorflow.keras.models import Sequential\n",
        "from tensorflow.keras.layers import Dense, Dropout\n",
        "#metrics\n",
        "from sklearn.metrics import classification_report, precision_recall_curve, confusion_matrix, accuracy_score, precision_score, recall_score, f1_score"
      ]
    },
    {
      "cell_type": "code",
      "source": [
        "df=pd.read_csv('/content/Telco_customer_churn_status.csv')\n",
        "df"
      ],
      "metadata": {
        "colab": {
          "base_uri": "https://localhost:8080/",
          "height": 704
        },
        "id": "I-wCI_F_OQVB",
        "outputId": "8622d14d-424e-4cdb-9395-c42d40f6c44a"
      },
      "execution_count": 50,
      "outputs": [
        {
          "output_type": "execute_result",
          "data": {
            "text/plain": [
              "      CustomerID  Count        Country       State          City  Zip Code  \\\n",
              "0     3668-QPYBK      1  United States  California   Los Angeles     90003   \n",
              "1     9237-HQITU      1  United States  California   Los Angeles     90005   \n",
              "2     9305-CDSKC      1  United States  California   Los Angeles     90006   \n",
              "3     7892-POOKP      1  United States  California   Los Angeles     90010   \n",
              "4     0280-XJGEX      1  United States  California   Los Angeles     90015   \n",
              "...          ...    ...            ...         ...           ...       ...   \n",
              "7038  2569-WGERO      1  United States  California       Landers     92285   \n",
              "7039  6840-RESVB      1  United States  California      Adelanto     92301   \n",
              "7040  2234-XADUH      1  United States  California         Amboy     92304   \n",
              "7041  4801-JZAZL      1  United States  California  Angelus Oaks     92305   \n",
              "7042  3186-AJIEK      1  United States  California  Apple Valley     92308   \n",
              "\n",
              "                    Lat Long   Latitude   Longitude  Gender  ...  \\\n",
              "0     33.964131, -118.272783  33.964131 -118.272783    Male  ...   \n",
              "1      34.059281, -118.30742  34.059281 -118.307420  Female  ...   \n",
              "2     34.048013, -118.293953  34.048013 -118.293953  Female  ...   \n",
              "3     34.062125, -118.315709  34.062125 -118.315709  Female  ...   \n",
              "4     34.039224, -118.266293  34.039224 -118.266293    Male  ...   \n",
              "...                      ...        ...         ...     ...  ...   \n",
              "7038  34.341737, -116.539416  34.341737 -116.539416  Female  ...   \n",
              "7039  34.667815, -117.536183  34.667815 -117.536183    Male  ...   \n",
              "7040  34.559882, -115.637164  34.559882 -115.637164  Female  ...   \n",
              "7041     34.1678, -116.86433  34.167800 -116.864330  Female  ...   \n",
              "7042  34.424926, -117.184503  34.424926 -117.184503    Male  ...   \n",
              "\n",
              "            Contract Paperless Billing             Payment Method  \\\n",
              "0     Month-to-month               Yes               Mailed check   \n",
              "1     Month-to-month               Yes           Electronic check   \n",
              "2     Month-to-month               Yes           Electronic check   \n",
              "3     Month-to-month               Yes           Electronic check   \n",
              "4     Month-to-month               Yes  Bank transfer (automatic)   \n",
              "...              ...               ...                        ...   \n",
              "7038        Two year               Yes  Bank transfer (automatic)   \n",
              "7039        One year               Yes               Mailed check   \n",
              "7040        One year               Yes    Credit card (automatic)   \n",
              "7041  Month-to-month               Yes           Electronic check   \n",
              "7042        Two year               Yes  Bank transfer (automatic)   \n",
              "\n",
              "      Monthly Charges Total Charges Churn Label Churn Value Churn Score  CLTV  \\\n",
              "0               53.85        108.15         Yes           1          86  3239   \n",
              "1               70.70        151.65         Yes           1          67  2701   \n",
              "2               99.65         820.5         Yes           1          86  5372   \n",
              "3              104.80       3046.05         Yes           1          84  5003   \n",
              "4              103.70        5036.3         Yes           1          89  5340   \n",
              "...               ...           ...         ...         ...         ...   ...   \n",
              "7038            21.15        1419.4          No           0          45  5306   \n",
              "7039            84.80        1990.5          No           0          59  2140   \n",
              "7040           103.20        7362.9          No           0          71  5560   \n",
              "7041            29.60        346.45          No           0          59  2793   \n",
              "7042           105.65        6844.5          No           0          38  5097   \n",
              "\n",
              "                       Churn Reason  \n",
              "0      Competitor made better offer  \n",
              "1                             Moved  \n",
              "2                             Moved  \n",
              "3                             Moved  \n",
              "4     Competitor had better devices  \n",
              "...                             ...  \n",
              "7038                            NaN  \n",
              "7039                            NaN  \n",
              "7040                            NaN  \n",
              "7041                            NaN  \n",
              "7042                            NaN  \n",
              "\n",
              "[7043 rows x 33 columns]"
            ],
            "text/html": [
              "\n",
              "  <div id=\"df-49d8b72f-6d59-4548-b61e-b3b37e4dc321\" class=\"colab-df-container\">\n",
              "    <div>\n",
              "<style scoped>\n",
              "    .dataframe tbody tr th:only-of-type {\n",
              "        vertical-align: middle;\n",
              "    }\n",
              "\n",
              "    .dataframe tbody tr th {\n",
              "        vertical-align: top;\n",
              "    }\n",
              "\n",
              "    .dataframe thead th {\n",
              "        text-align: right;\n",
              "    }\n",
              "</style>\n",
              "<table border=\"1\" class=\"dataframe\">\n",
              "  <thead>\n",
              "    <tr style=\"text-align: right;\">\n",
              "      <th></th>\n",
              "      <th>CustomerID</th>\n",
              "      <th>Count</th>\n",
              "      <th>Country</th>\n",
              "      <th>State</th>\n",
              "      <th>City</th>\n",
              "      <th>Zip Code</th>\n",
              "      <th>Lat Long</th>\n",
              "      <th>Latitude</th>\n",
              "      <th>Longitude</th>\n",
              "      <th>Gender</th>\n",
              "      <th>...</th>\n",
              "      <th>Contract</th>\n",
              "      <th>Paperless Billing</th>\n",
              "      <th>Payment Method</th>\n",
              "      <th>Monthly Charges</th>\n",
              "      <th>Total Charges</th>\n",
              "      <th>Churn Label</th>\n",
              "      <th>Churn Value</th>\n",
              "      <th>Churn Score</th>\n",
              "      <th>CLTV</th>\n",
              "      <th>Churn Reason</th>\n",
              "    </tr>\n",
              "  </thead>\n",
              "  <tbody>\n",
              "    <tr>\n",
              "      <th>0</th>\n",
              "      <td>3668-QPYBK</td>\n",
              "      <td>1</td>\n",
              "      <td>United States</td>\n",
              "      <td>California</td>\n",
              "      <td>Los Angeles</td>\n",
              "      <td>90003</td>\n",
              "      <td>33.964131, -118.272783</td>\n",
              "      <td>33.964131</td>\n",
              "      <td>-118.272783</td>\n",
              "      <td>Male</td>\n",
              "      <td>...</td>\n",
              "      <td>Month-to-month</td>\n",
              "      <td>Yes</td>\n",
              "      <td>Mailed check</td>\n",
              "      <td>53.85</td>\n",
              "      <td>108.15</td>\n",
              "      <td>Yes</td>\n",
              "      <td>1</td>\n",
              "      <td>86</td>\n",
              "      <td>3239</td>\n",
              "      <td>Competitor made better offer</td>\n",
              "    </tr>\n",
              "    <tr>\n",
              "      <th>1</th>\n",
              "      <td>9237-HQITU</td>\n",
              "      <td>1</td>\n",
              "      <td>United States</td>\n",
              "      <td>California</td>\n",
              "      <td>Los Angeles</td>\n",
              "      <td>90005</td>\n",
              "      <td>34.059281, -118.30742</td>\n",
              "      <td>34.059281</td>\n",
              "      <td>-118.307420</td>\n",
              "      <td>Female</td>\n",
              "      <td>...</td>\n",
              "      <td>Month-to-month</td>\n",
              "      <td>Yes</td>\n",
              "      <td>Electronic check</td>\n",
              "      <td>70.70</td>\n",
              "      <td>151.65</td>\n",
              "      <td>Yes</td>\n",
              "      <td>1</td>\n",
              "      <td>67</td>\n",
              "      <td>2701</td>\n",
              "      <td>Moved</td>\n",
              "    </tr>\n",
              "    <tr>\n",
              "      <th>2</th>\n",
              "      <td>9305-CDSKC</td>\n",
              "      <td>1</td>\n",
              "      <td>United States</td>\n",
              "      <td>California</td>\n",
              "      <td>Los Angeles</td>\n",
              "      <td>90006</td>\n",
              "      <td>34.048013, -118.293953</td>\n",
              "      <td>34.048013</td>\n",
              "      <td>-118.293953</td>\n",
              "      <td>Female</td>\n",
              "      <td>...</td>\n",
              "      <td>Month-to-month</td>\n",
              "      <td>Yes</td>\n",
              "      <td>Electronic check</td>\n",
              "      <td>99.65</td>\n",
              "      <td>820.5</td>\n",
              "      <td>Yes</td>\n",
              "      <td>1</td>\n",
              "      <td>86</td>\n",
              "      <td>5372</td>\n",
              "      <td>Moved</td>\n",
              "    </tr>\n",
              "    <tr>\n",
              "      <th>3</th>\n",
              "      <td>7892-POOKP</td>\n",
              "      <td>1</td>\n",
              "      <td>United States</td>\n",
              "      <td>California</td>\n",
              "      <td>Los Angeles</td>\n",
              "      <td>90010</td>\n",
              "      <td>34.062125, -118.315709</td>\n",
              "      <td>34.062125</td>\n",
              "      <td>-118.315709</td>\n",
              "      <td>Female</td>\n",
              "      <td>...</td>\n",
              "      <td>Month-to-month</td>\n",
              "      <td>Yes</td>\n",
              "      <td>Electronic check</td>\n",
              "      <td>104.80</td>\n",
              "      <td>3046.05</td>\n",
              "      <td>Yes</td>\n",
              "      <td>1</td>\n",
              "      <td>84</td>\n",
              "      <td>5003</td>\n",
              "      <td>Moved</td>\n",
              "    </tr>\n",
              "    <tr>\n",
              "      <th>4</th>\n",
              "      <td>0280-XJGEX</td>\n",
              "      <td>1</td>\n",
              "      <td>United States</td>\n",
              "      <td>California</td>\n",
              "      <td>Los Angeles</td>\n",
              "      <td>90015</td>\n",
              "      <td>34.039224, -118.266293</td>\n",
              "      <td>34.039224</td>\n",
              "      <td>-118.266293</td>\n",
              "      <td>Male</td>\n",
              "      <td>...</td>\n",
              "      <td>Month-to-month</td>\n",
              "      <td>Yes</td>\n",
              "      <td>Bank transfer (automatic)</td>\n",
              "      <td>103.70</td>\n",
              "      <td>5036.3</td>\n",
              "      <td>Yes</td>\n",
              "      <td>1</td>\n",
              "      <td>89</td>\n",
              "      <td>5340</td>\n",
              "      <td>Competitor had better devices</td>\n",
              "    </tr>\n",
              "    <tr>\n",
              "      <th>...</th>\n",
              "      <td>...</td>\n",
              "      <td>...</td>\n",
              "      <td>...</td>\n",
              "      <td>...</td>\n",
              "      <td>...</td>\n",
              "      <td>...</td>\n",
              "      <td>...</td>\n",
              "      <td>...</td>\n",
              "      <td>...</td>\n",
              "      <td>...</td>\n",
              "      <td>...</td>\n",
              "      <td>...</td>\n",
              "      <td>...</td>\n",
              "      <td>...</td>\n",
              "      <td>...</td>\n",
              "      <td>...</td>\n",
              "      <td>...</td>\n",
              "      <td>...</td>\n",
              "      <td>...</td>\n",
              "      <td>...</td>\n",
              "      <td>...</td>\n",
              "    </tr>\n",
              "    <tr>\n",
              "      <th>7038</th>\n",
              "      <td>2569-WGERO</td>\n",
              "      <td>1</td>\n",
              "      <td>United States</td>\n",
              "      <td>California</td>\n",
              "      <td>Landers</td>\n",
              "      <td>92285</td>\n",
              "      <td>34.341737, -116.539416</td>\n",
              "      <td>34.341737</td>\n",
              "      <td>-116.539416</td>\n",
              "      <td>Female</td>\n",
              "      <td>...</td>\n",
              "      <td>Two year</td>\n",
              "      <td>Yes</td>\n",
              "      <td>Bank transfer (automatic)</td>\n",
              "      <td>21.15</td>\n",
              "      <td>1419.4</td>\n",
              "      <td>No</td>\n",
              "      <td>0</td>\n",
              "      <td>45</td>\n",
              "      <td>5306</td>\n",
              "      <td>NaN</td>\n",
              "    </tr>\n",
              "    <tr>\n",
              "      <th>7039</th>\n",
              "      <td>6840-RESVB</td>\n",
              "      <td>1</td>\n",
              "      <td>United States</td>\n",
              "      <td>California</td>\n",
              "      <td>Adelanto</td>\n",
              "      <td>92301</td>\n",
              "      <td>34.667815, -117.536183</td>\n",
              "      <td>34.667815</td>\n",
              "      <td>-117.536183</td>\n",
              "      <td>Male</td>\n",
              "      <td>...</td>\n",
              "      <td>One year</td>\n",
              "      <td>Yes</td>\n",
              "      <td>Mailed check</td>\n",
              "      <td>84.80</td>\n",
              "      <td>1990.5</td>\n",
              "      <td>No</td>\n",
              "      <td>0</td>\n",
              "      <td>59</td>\n",
              "      <td>2140</td>\n",
              "      <td>NaN</td>\n",
              "    </tr>\n",
              "    <tr>\n",
              "      <th>7040</th>\n",
              "      <td>2234-XADUH</td>\n",
              "      <td>1</td>\n",
              "      <td>United States</td>\n",
              "      <td>California</td>\n",
              "      <td>Amboy</td>\n",
              "      <td>92304</td>\n",
              "      <td>34.559882, -115.637164</td>\n",
              "      <td>34.559882</td>\n",
              "      <td>-115.637164</td>\n",
              "      <td>Female</td>\n",
              "      <td>...</td>\n",
              "      <td>One year</td>\n",
              "      <td>Yes</td>\n",
              "      <td>Credit card (automatic)</td>\n",
              "      <td>103.20</td>\n",
              "      <td>7362.9</td>\n",
              "      <td>No</td>\n",
              "      <td>0</td>\n",
              "      <td>71</td>\n",
              "      <td>5560</td>\n",
              "      <td>NaN</td>\n",
              "    </tr>\n",
              "    <tr>\n",
              "      <th>7041</th>\n",
              "      <td>4801-JZAZL</td>\n",
              "      <td>1</td>\n",
              "      <td>United States</td>\n",
              "      <td>California</td>\n",
              "      <td>Angelus Oaks</td>\n",
              "      <td>92305</td>\n",
              "      <td>34.1678, -116.86433</td>\n",
              "      <td>34.167800</td>\n",
              "      <td>-116.864330</td>\n",
              "      <td>Female</td>\n",
              "      <td>...</td>\n",
              "      <td>Month-to-month</td>\n",
              "      <td>Yes</td>\n",
              "      <td>Electronic check</td>\n",
              "      <td>29.60</td>\n",
              "      <td>346.45</td>\n",
              "      <td>No</td>\n",
              "      <td>0</td>\n",
              "      <td>59</td>\n",
              "      <td>2793</td>\n",
              "      <td>NaN</td>\n",
              "    </tr>\n",
              "    <tr>\n",
              "      <th>7042</th>\n",
              "      <td>3186-AJIEK</td>\n",
              "      <td>1</td>\n",
              "      <td>United States</td>\n",
              "      <td>California</td>\n",
              "      <td>Apple Valley</td>\n",
              "      <td>92308</td>\n",
              "      <td>34.424926, -117.184503</td>\n",
              "      <td>34.424926</td>\n",
              "      <td>-117.184503</td>\n",
              "      <td>Male</td>\n",
              "      <td>...</td>\n",
              "      <td>Two year</td>\n",
              "      <td>Yes</td>\n",
              "      <td>Bank transfer (automatic)</td>\n",
              "      <td>105.65</td>\n",
              "      <td>6844.5</td>\n",
              "      <td>No</td>\n",
              "      <td>0</td>\n",
              "      <td>38</td>\n",
              "      <td>5097</td>\n",
              "      <td>NaN</td>\n",
              "    </tr>\n",
              "  </tbody>\n",
              "</table>\n",
              "<p>7043 rows × 33 columns</p>\n",
              "</div>\n",
              "    <div class=\"colab-df-buttons\">\n",
              "\n",
              "  <div class=\"colab-df-container\">\n",
              "    <button class=\"colab-df-convert\" onclick=\"convertToInteractive('df-49d8b72f-6d59-4548-b61e-b3b37e4dc321')\"\n",
              "            title=\"Convert this dataframe to an interactive table.\"\n",
              "            style=\"display:none;\">\n",
              "\n",
              "  <svg xmlns=\"http://www.w3.org/2000/svg\" height=\"24px\" viewBox=\"0 -960 960 960\">\n",
              "    <path d=\"M120-120v-720h720v720H120Zm60-500h600v-160H180v160Zm220 220h160v-160H400v160Zm0 220h160v-160H400v160ZM180-400h160v-160H180v160Zm440 0h160v-160H620v160ZM180-180h160v-160H180v160Zm440 0h160v-160H620v160Z\"/>\n",
              "  </svg>\n",
              "    </button>\n",
              "\n",
              "  <style>\n",
              "    .colab-df-container {\n",
              "      display:flex;\n",
              "      gap: 12px;\n",
              "    }\n",
              "\n",
              "    .colab-df-convert {\n",
              "      background-color: #E8F0FE;\n",
              "      border: none;\n",
              "      border-radius: 50%;\n",
              "      cursor: pointer;\n",
              "      display: none;\n",
              "      fill: #1967D2;\n",
              "      height: 32px;\n",
              "      padding: 0 0 0 0;\n",
              "      width: 32px;\n",
              "    }\n",
              "\n",
              "    .colab-df-convert:hover {\n",
              "      background-color: #E2EBFA;\n",
              "      box-shadow: 0px 1px 2px rgba(60, 64, 67, 0.3), 0px 1px 3px 1px rgba(60, 64, 67, 0.15);\n",
              "      fill: #174EA6;\n",
              "    }\n",
              "\n",
              "    .colab-df-buttons div {\n",
              "      margin-bottom: 4px;\n",
              "    }\n",
              "\n",
              "    [theme=dark] .colab-df-convert {\n",
              "      background-color: #3B4455;\n",
              "      fill: #D2E3FC;\n",
              "    }\n",
              "\n",
              "    [theme=dark] .colab-df-convert:hover {\n",
              "      background-color: #434B5C;\n",
              "      box-shadow: 0px 1px 3px 1px rgba(0, 0, 0, 0.15);\n",
              "      filter: drop-shadow(0px 1px 2px rgba(0, 0, 0, 0.3));\n",
              "      fill: #FFFFFF;\n",
              "    }\n",
              "  </style>\n",
              "\n",
              "    <script>\n",
              "      const buttonEl =\n",
              "        document.querySelector('#df-49d8b72f-6d59-4548-b61e-b3b37e4dc321 button.colab-df-convert');\n",
              "      buttonEl.style.display =\n",
              "        google.colab.kernel.accessAllowed ? 'block' : 'none';\n",
              "\n",
              "      async function convertToInteractive(key) {\n",
              "        const element = document.querySelector('#df-49d8b72f-6d59-4548-b61e-b3b37e4dc321');\n",
              "        const dataTable =\n",
              "          await google.colab.kernel.invokeFunction('convertToInteractive',\n",
              "                                                    [key], {});\n",
              "        if (!dataTable) return;\n",
              "\n",
              "        const docLinkHtml = 'Like what you see? Visit the ' +\n",
              "          '<a target=\"_blank\" href=https://colab.research.google.com/notebooks/data_table.ipynb>data table notebook</a>'\n",
              "          + ' to learn more about interactive tables.';\n",
              "        element.innerHTML = '';\n",
              "        dataTable['output_type'] = 'display_data';\n",
              "        await google.colab.output.renderOutput(dataTable, element);\n",
              "        const docLink = document.createElement('div');\n",
              "        docLink.innerHTML = docLinkHtml;\n",
              "        element.appendChild(docLink);\n",
              "      }\n",
              "    </script>\n",
              "  </div>\n",
              "\n",
              "\n",
              "<div id=\"df-d3117645-d78c-460e-aa78-834a0b60cd69\">\n",
              "  <button class=\"colab-df-quickchart\" onclick=\"quickchart('df-d3117645-d78c-460e-aa78-834a0b60cd69')\"\n",
              "            title=\"Suggest charts\"\n",
              "            style=\"display:none;\">\n",
              "\n",
              "<svg xmlns=\"http://www.w3.org/2000/svg\" height=\"24px\"viewBox=\"0 0 24 24\"\n",
              "     width=\"24px\">\n",
              "    <g>\n",
              "        <path d=\"M19 3H5c-1.1 0-2 .9-2 2v14c0 1.1.9 2 2 2h14c1.1 0 2-.9 2-2V5c0-1.1-.9-2-2-2zM9 17H7v-7h2v7zm4 0h-2V7h2v10zm4 0h-2v-4h2v4z\"/>\n",
              "    </g>\n",
              "</svg>\n",
              "  </button>\n",
              "\n",
              "<style>\n",
              "  .colab-df-quickchart {\n",
              "      --bg-color: #E8F0FE;\n",
              "      --fill-color: #1967D2;\n",
              "      --hover-bg-color: #E2EBFA;\n",
              "      --hover-fill-color: #174EA6;\n",
              "      --disabled-fill-color: #AAA;\n",
              "      --disabled-bg-color: #DDD;\n",
              "  }\n",
              "\n",
              "  [theme=dark] .colab-df-quickchart {\n",
              "      --bg-color: #3B4455;\n",
              "      --fill-color: #D2E3FC;\n",
              "      --hover-bg-color: #434B5C;\n",
              "      --hover-fill-color: #FFFFFF;\n",
              "      --disabled-bg-color: #3B4455;\n",
              "      --disabled-fill-color: #666;\n",
              "  }\n",
              "\n",
              "  .colab-df-quickchart {\n",
              "    background-color: var(--bg-color);\n",
              "    border: none;\n",
              "    border-radius: 50%;\n",
              "    cursor: pointer;\n",
              "    display: none;\n",
              "    fill: var(--fill-color);\n",
              "    height: 32px;\n",
              "    padding: 0;\n",
              "    width: 32px;\n",
              "  }\n",
              "\n",
              "  .colab-df-quickchart:hover {\n",
              "    background-color: var(--hover-bg-color);\n",
              "    box-shadow: 0 1px 2px rgba(60, 64, 67, 0.3), 0 1px 3px 1px rgba(60, 64, 67, 0.15);\n",
              "    fill: var(--button-hover-fill-color);\n",
              "  }\n",
              "\n",
              "  .colab-df-quickchart-complete:disabled,\n",
              "  .colab-df-quickchart-complete:disabled:hover {\n",
              "    background-color: var(--disabled-bg-color);\n",
              "    fill: var(--disabled-fill-color);\n",
              "    box-shadow: none;\n",
              "  }\n",
              "\n",
              "  .colab-df-spinner {\n",
              "    border: 2px solid var(--fill-color);\n",
              "    border-color: transparent;\n",
              "    border-bottom-color: var(--fill-color);\n",
              "    animation:\n",
              "      spin 1s steps(1) infinite;\n",
              "  }\n",
              "\n",
              "  @keyframes spin {\n",
              "    0% {\n",
              "      border-color: transparent;\n",
              "      border-bottom-color: var(--fill-color);\n",
              "      border-left-color: var(--fill-color);\n",
              "    }\n",
              "    20% {\n",
              "      border-color: transparent;\n",
              "      border-left-color: var(--fill-color);\n",
              "      border-top-color: var(--fill-color);\n",
              "    }\n",
              "    30% {\n",
              "      border-color: transparent;\n",
              "      border-left-color: var(--fill-color);\n",
              "      border-top-color: var(--fill-color);\n",
              "      border-right-color: var(--fill-color);\n",
              "    }\n",
              "    40% {\n",
              "      border-color: transparent;\n",
              "      border-right-color: var(--fill-color);\n",
              "      border-top-color: var(--fill-color);\n",
              "    }\n",
              "    60% {\n",
              "      border-color: transparent;\n",
              "      border-right-color: var(--fill-color);\n",
              "    }\n",
              "    80% {\n",
              "      border-color: transparent;\n",
              "      border-right-color: var(--fill-color);\n",
              "      border-bottom-color: var(--fill-color);\n",
              "    }\n",
              "    90% {\n",
              "      border-color: transparent;\n",
              "      border-bottom-color: var(--fill-color);\n",
              "    }\n",
              "  }\n",
              "</style>\n",
              "\n",
              "  <script>\n",
              "    async function quickchart(key) {\n",
              "      const quickchartButtonEl =\n",
              "        document.querySelector('#' + key + ' button');\n",
              "      quickchartButtonEl.disabled = true;  // To prevent multiple clicks.\n",
              "      quickchartButtonEl.classList.add('colab-df-spinner');\n",
              "      try {\n",
              "        const charts = await google.colab.kernel.invokeFunction(\n",
              "            'suggestCharts', [key], {});\n",
              "      } catch (error) {\n",
              "        console.error('Error during call to suggestCharts:', error);\n",
              "      }\n",
              "      quickchartButtonEl.classList.remove('colab-df-spinner');\n",
              "      quickchartButtonEl.classList.add('colab-df-quickchart-complete');\n",
              "    }\n",
              "    (() => {\n",
              "      let quickchartButtonEl =\n",
              "        document.querySelector('#df-d3117645-d78c-460e-aa78-834a0b60cd69 button');\n",
              "      quickchartButtonEl.style.display =\n",
              "        google.colab.kernel.accessAllowed ? 'block' : 'none';\n",
              "    })();\n",
              "  </script>\n",
              "</div>\n",
              "    </div>\n",
              "  </div>\n"
            ],
            "application/vnd.google.colaboratory.intrinsic+json": {
              "type": "dataframe",
              "variable_name": "df"
            }
          },
          "metadata": {},
          "execution_count": 50
        }
      ]
    },
    {
      "cell_type": "code",
      "source": [
        "df.shape"
      ],
      "metadata": {
        "colab": {
          "base_uri": "https://localhost:8080/"
        },
        "id": "vhoo2YEVOXkR",
        "outputId": "47f865fe-9ea2-4381-ab17-9f1622e3336b"
      },
      "execution_count": 51,
      "outputs": [
        {
          "output_type": "execute_result",
          "data": {
            "text/plain": [
              "(7043, 33)"
            ]
          },
          "metadata": {},
          "execution_count": 51
        }
      ]
    },
    {
      "cell_type": "code",
      "source": [
        "df.head()"
      ],
      "metadata": {
        "colab": {
          "base_uri": "https://localhost:8080/",
          "height": 394
        },
        "id": "IeYNOpBvOoIW",
        "outputId": "ecd98882-3bf4-497e-dec0-f5f2c5035b64"
      },
      "execution_count": 52,
      "outputs": [
        {
          "output_type": "execute_result",
          "data": {
            "text/plain": [
              "   CustomerID  Count        Country       State         City  Zip Code  \\\n",
              "0  3668-QPYBK      1  United States  California  Los Angeles     90003   \n",
              "1  9237-HQITU      1  United States  California  Los Angeles     90005   \n",
              "2  9305-CDSKC      1  United States  California  Los Angeles     90006   \n",
              "3  7892-POOKP      1  United States  California  Los Angeles     90010   \n",
              "4  0280-XJGEX      1  United States  California  Los Angeles     90015   \n",
              "\n",
              "                 Lat Long   Latitude   Longitude  Gender  ...        Contract  \\\n",
              "0  33.964131, -118.272783  33.964131 -118.272783    Male  ...  Month-to-month   \n",
              "1   34.059281, -118.30742  34.059281 -118.307420  Female  ...  Month-to-month   \n",
              "2  34.048013, -118.293953  34.048013 -118.293953  Female  ...  Month-to-month   \n",
              "3  34.062125, -118.315709  34.062125 -118.315709  Female  ...  Month-to-month   \n",
              "4  34.039224, -118.266293  34.039224 -118.266293    Male  ...  Month-to-month   \n",
              "\n",
              "  Paperless Billing             Payment Method  Monthly Charges Total Charges  \\\n",
              "0               Yes               Mailed check            53.85        108.15   \n",
              "1               Yes           Electronic check            70.70        151.65   \n",
              "2               Yes           Electronic check            99.65         820.5   \n",
              "3               Yes           Electronic check           104.80       3046.05   \n",
              "4               Yes  Bank transfer (automatic)           103.70        5036.3   \n",
              "\n",
              "  Churn Label Churn Value Churn Score  CLTV                   Churn Reason  \n",
              "0         Yes           1          86  3239   Competitor made better offer  \n",
              "1         Yes           1          67  2701                          Moved  \n",
              "2         Yes           1          86  5372                          Moved  \n",
              "3         Yes           1          84  5003                          Moved  \n",
              "4         Yes           1          89  5340  Competitor had better devices  \n",
              "\n",
              "[5 rows x 33 columns]"
            ],
            "text/html": [
              "\n",
              "  <div id=\"df-cdc9487c-1676-44ea-bb07-46c01e9e8790\" class=\"colab-df-container\">\n",
              "    <div>\n",
              "<style scoped>\n",
              "    .dataframe tbody tr th:only-of-type {\n",
              "        vertical-align: middle;\n",
              "    }\n",
              "\n",
              "    .dataframe tbody tr th {\n",
              "        vertical-align: top;\n",
              "    }\n",
              "\n",
              "    .dataframe thead th {\n",
              "        text-align: right;\n",
              "    }\n",
              "</style>\n",
              "<table border=\"1\" class=\"dataframe\">\n",
              "  <thead>\n",
              "    <tr style=\"text-align: right;\">\n",
              "      <th></th>\n",
              "      <th>CustomerID</th>\n",
              "      <th>Count</th>\n",
              "      <th>Country</th>\n",
              "      <th>State</th>\n",
              "      <th>City</th>\n",
              "      <th>Zip Code</th>\n",
              "      <th>Lat Long</th>\n",
              "      <th>Latitude</th>\n",
              "      <th>Longitude</th>\n",
              "      <th>Gender</th>\n",
              "      <th>...</th>\n",
              "      <th>Contract</th>\n",
              "      <th>Paperless Billing</th>\n",
              "      <th>Payment Method</th>\n",
              "      <th>Monthly Charges</th>\n",
              "      <th>Total Charges</th>\n",
              "      <th>Churn Label</th>\n",
              "      <th>Churn Value</th>\n",
              "      <th>Churn Score</th>\n",
              "      <th>CLTV</th>\n",
              "      <th>Churn Reason</th>\n",
              "    </tr>\n",
              "  </thead>\n",
              "  <tbody>\n",
              "    <tr>\n",
              "      <th>0</th>\n",
              "      <td>3668-QPYBK</td>\n",
              "      <td>1</td>\n",
              "      <td>United States</td>\n",
              "      <td>California</td>\n",
              "      <td>Los Angeles</td>\n",
              "      <td>90003</td>\n",
              "      <td>33.964131, -118.272783</td>\n",
              "      <td>33.964131</td>\n",
              "      <td>-118.272783</td>\n",
              "      <td>Male</td>\n",
              "      <td>...</td>\n",
              "      <td>Month-to-month</td>\n",
              "      <td>Yes</td>\n",
              "      <td>Mailed check</td>\n",
              "      <td>53.85</td>\n",
              "      <td>108.15</td>\n",
              "      <td>Yes</td>\n",
              "      <td>1</td>\n",
              "      <td>86</td>\n",
              "      <td>3239</td>\n",
              "      <td>Competitor made better offer</td>\n",
              "    </tr>\n",
              "    <tr>\n",
              "      <th>1</th>\n",
              "      <td>9237-HQITU</td>\n",
              "      <td>1</td>\n",
              "      <td>United States</td>\n",
              "      <td>California</td>\n",
              "      <td>Los Angeles</td>\n",
              "      <td>90005</td>\n",
              "      <td>34.059281, -118.30742</td>\n",
              "      <td>34.059281</td>\n",
              "      <td>-118.307420</td>\n",
              "      <td>Female</td>\n",
              "      <td>...</td>\n",
              "      <td>Month-to-month</td>\n",
              "      <td>Yes</td>\n",
              "      <td>Electronic check</td>\n",
              "      <td>70.70</td>\n",
              "      <td>151.65</td>\n",
              "      <td>Yes</td>\n",
              "      <td>1</td>\n",
              "      <td>67</td>\n",
              "      <td>2701</td>\n",
              "      <td>Moved</td>\n",
              "    </tr>\n",
              "    <tr>\n",
              "      <th>2</th>\n",
              "      <td>9305-CDSKC</td>\n",
              "      <td>1</td>\n",
              "      <td>United States</td>\n",
              "      <td>California</td>\n",
              "      <td>Los Angeles</td>\n",
              "      <td>90006</td>\n",
              "      <td>34.048013, -118.293953</td>\n",
              "      <td>34.048013</td>\n",
              "      <td>-118.293953</td>\n",
              "      <td>Female</td>\n",
              "      <td>...</td>\n",
              "      <td>Month-to-month</td>\n",
              "      <td>Yes</td>\n",
              "      <td>Electronic check</td>\n",
              "      <td>99.65</td>\n",
              "      <td>820.5</td>\n",
              "      <td>Yes</td>\n",
              "      <td>1</td>\n",
              "      <td>86</td>\n",
              "      <td>5372</td>\n",
              "      <td>Moved</td>\n",
              "    </tr>\n",
              "    <tr>\n",
              "      <th>3</th>\n",
              "      <td>7892-POOKP</td>\n",
              "      <td>1</td>\n",
              "      <td>United States</td>\n",
              "      <td>California</td>\n",
              "      <td>Los Angeles</td>\n",
              "      <td>90010</td>\n",
              "      <td>34.062125, -118.315709</td>\n",
              "      <td>34.062125</td>\n",
              "      <td>-118.315709</td>\n",
              "      <td>Female</td>\n",
              "      <td>...</td>\n",
              "      <td>Month-to-month</td>\n",
              "      <td>Yes</td>\n",
              "      <td>Electronic check</td>\n",
              "      <td>104.80</td>\n",
              "      <td>3046.05</td>\n",
              "      <td>Yes</td>\n",
              "      <td>1</td>\n",
              "      <td>84</td>\n",
              "      <td>5003</td>\n",
              "      <td>Moved</td>\n",
              "    </tr>\n",
              "    <tr>\n",
              "      <th>4</th>\n",
              "      <td>0280-XJGEX</td>\n",
              "      <td>1</td>\n",
              "      <td>United States</td>\n",
              "      <td>California</td>\n",
              "      <td>Los Angeles</td>\n",
              "      <td>90015</td>\n",
              "      <td>34.039224, -118.266293</td>\n",
              "      <td>34.039224</td>\n",
              "      <td>-118.266293</td>\n",
              "      <td>Male</td>\n",
              "      <td>...</td>\n",
              "      <td>Month-to-month</td>\n",
              "      <td>Yes</td>\n",
              "      <td>Bank transfer (automatic)</td>\n",
              "      <td>103.70</td>\n",
              "      <td>5036.3</td>\n",
              "      <td>Yes</td>\n",
              "      <td>1</td>\n",
              "      <td>89</td>\n",
              "      <td>5340</td>\n",
              "      <td>Competitor had better devices</td>\n",
              "    </tr>\n",
              "  </tbody>\n",
              "</table>\n",
              "<p>5 rows × 33 columns</p>\n",
              "</div>\n",
              "    <div class=\"colab-df-buttons\">\n",
              "\n",
              "  <div class=\"colab-df-container\">\n",
              "    <button class=\"colab-df-convert\" onclick=\"convertToInteractive('df-cdc9487c-1676-44ea-bb07-46c01e9e8790')\"\n",
              "            title=\"Convert this dataframe to an interactive table.\"\n",
              "            style=\"display:none;\">\n",
              "\n",
              "  <svg xmlns=\"http://www.w3.org/2000/svg\" height=\"24px\" viewBox=\"0 -960 960 960\">\n",
              "    <path d=\"M120-120v-720h720v720H120Zm60-500h600v-160H180v160Zm220 220h160v-160H400v160Zm0 220h160v-160H400v160ZM180-400h160v-160H180v160Zm440 0h160v-160H620v160ZM180-180h160v-160H180v160Zm440 0h160v-160H620v160Z\"/>\n",
              "  </svg>\n",
              "    </button>\n",
              "\n",
              "  <style>\n",
              "    .colab-df-container {\n",
              "      display:flex;\n",
              "      gap: 12px;\n",
              "    }\n",
              "\n",
              "    .colab-df-convert {\n",
              "      background-color: #E8F0FE;\n",
              "      border: none;\n",
              "      border-radius: 50%;\n",
              "      cursor: pointer;\n",
              "      display: none;\n",
              "      fill: #1967D2;\n",
              "      height: 32px;\n",
              "      padding: 0 0 0 0;\n",
              "      width: 32px;\n",
              "    }\n",
              "\n",
              "    .colab-df-convert:hover {\n",
              "      background-color: #E2EBFA;\n",
              "      box-shadow: 0px 1px 2px rgba(60, 64, 67, 0.3), 0px 1px 3px 1px rgba(60, 64, 67, 0.15);\n",
              "      fill: #174EA6;\n",
              "    }\n",
              "\n",
              "    .colab-df-buttons div {\n",
              "      margin-bottom: 4px;\n",
              "    }\n",
              "\n",
              "    [theme=dark] .colab-df-convert {\n",
              "      background-color: #3B4455;\n",
              "      fill: #D2E3FC;\n",
              "    }\n",
              "\n",
              "    [theme=dark] .colab-df-convert:hover {\n",
              "      background-color: #434B5C;\n",
              "      box-shadow: 0px 1px 3px 1px rgba(0, 0, 0, 0.15);\n",
              "      filter: drop-shadow(0px 1px 2px rgba(0, 0, 0, 0.3));\n",
              "      fill: #FFFFFF;\n",
              "    }\n",
              "  </style>\n",
              "\n",
              "    <script>\n",
              "      const buttonEl =\n",
              "        document.querySelector('#df-cdc9487c-1676-44ea-bb07-46c01e9e8790 button.colab-df-convert');\n",
              "      buttonEl.style.display =\n",
              "        google.colab.kernel.accessAllowed ? 'block' : 'none';\n",
              "\n",
              "      async function convertToInteractive(key) {\n",
              "        const element = document.querySelector('#df-cdc9487c-1676-44ea-bb07-46c01e9e8790');\n",
              "        const dataTable =\n",
              "          await google.colab.kernel.invokeFunction('convertToInteractive',\n",
              "                                                    [key], {});\n",
              "        if (!dataTable) return;\n",
              "\n",
              "        const docLinkHtml = 'Like what you see? Visit the ' +\n",
              "          '<a target=\"_blank\" href=https://colab.research.google.com/notebooks/data_table.ipynb>data table notebook</a>'\n",
              "          + ' to learn more about interactive tables.';\n",
              "        element.innerHTML = '';\n",
              "        dataTable['output_type'] = 'display_data';\n",
              "        await google.colab.output.renderOutput(dataTable, element);\n",
              "        const docLink = document.createElement('div');\n",
              "        docLink.innerHTML = docLinkHtml;\n",
              "        element.appendChild(docLink);\n",
              "      }\n",
              "    </script>\n",
              "  </div>\n",
              "\n",
              "\n",
              "<div id=\"df-8e912161-0c48-42e4-b8a3-7fc8ebdb31d7\">\n",
              "  <button class=\"colab-df-quickchart\" onclick=\"quickchart('df-8e912161-0c48-42e4-b8a3-7fc8ebdb31d7')\"\n",
              "            title=\"Suggest charts\"\n",
              "            style=\"display:none;\">\n",
              "\n",
              "<svg xmlns=\"http://www.w3.org/2000/svg\" height=\"24px\"viewBox=\"0 0 24 24\"\n",
              "     width=\"24px\">\n",
              "    <g>\n",
              "        <path d=\"M19 3H5c-1.1 0-2 .9-2 2v14c0 1.1.9 2 2 2h14c1.1 0 2-.9 2-2V5c0-1.1-.9-2-2-2zM9 17H7v-7h2v7zm4 0h-2V7h2v10zm4 0h-2v-4h2v4z\"/>\n",
              "    </g>\n",
              "</svg>\n",
              "  </button>\n",
              "\n",
              "<style>\n",
              "  .colab-df-quickchart {\n",
              "      --bg-color: #E8F0FE;\n",
              "      --fill-color: #1967D2;\n",
              "      --hover-bg-color: #E2EBFA;\n",
              "      --hover-fill-color: #174EA6;\n",
              "      --disabled-fill-color: #AAA;\n",
              "      --disabled-bg-color: #DDD;\n",
              "  }\n",
              "\n",
              "  [theme=dark] .colab-df-quickchart {\n",
              "      --bg-color: #3B4455;\n",
              "      --fill-color: #D2E3FC;\n",
              "      --hover-bg-color: #434B5C;\n",
              "      --hover-fill-color: #FFFFFF;\n",
              "      --disabled-bg-color: #3B4455;\n",
              "      --disabled-fill-color: #666;\n",
              "  }\n",
              "\n",
              "  .colab-df-quickchart {\n",
              "    background-color: var(--bg-color);\n",
              "    border: none;\n",
              "    border-radius: 50%;\n",
              "    cursor: pointer;\n",
              "    display: none;\n",
              "    fill: var(--fill-color);\n",
              "    height: 32px;\n",
              "    padding: 0;\n",
              "    width: 32px;\n",
              "  }\n",
              "\n",
              "  .colab-df-quickchart:hover {\n",
              "    background-color: var(--hover-bg-color);\n",
              "    box-shadow: 0 1px 2px rgba(60, 64, 67, 0.3), 0 1px 3px 1px rgba(60, 64, 67, 0.15);\n",
              "    fill: var(--button-hover-fill-color);\n",
              "  }\n",
              "\n",
              "  .colab-df-quickchart-complete:disabled,\n",
              "  .colab-df-quickchart-complete:disabled:hover {\n",
              "    background-color: var(--disabled-bg-color);\n",
              "    fill: var(--disabled-fill-color);\n",
              "    box-shadow: none;\n",
              "  }\n",
              "\n",
              "  .colab-df-spinner {\n",
              "    border: 2px solid var(--fill-color);\n",
              "    border-color: transparent;\n",
              "    border-bottom-color: var(--fill-color);\n",
              "    animation:\n",
              "      spin 1s steps(1) infinite;\n",
              "  }\n",
              "\n",
              "  @keyframes spin {\n",
              "    0% {\n",
              "      border-color: transparent;\n",
              "      border-bottom-color: var(--fill-color);\n",
              "      border-left-color: var(--fill-color);\n",
              "    }\n",
              "    20% {\n",
              "      border-color: transparent;\n",
              "      border-left-color: var(--fill-color);\n",
              "      border-top-color: var(--fill-color);\n",
              "    }\n",
              "    30% {\n",
              "      border-color: transparent;\n",
              "      border-left-color: var(--fill-color);\n",
              "      border-top-color: var(--fill-color);\n",
              "      border-right-color: var(--fill-color);\n",
              "    }\n",
              "    40% {\n",
              "      border-color: transparent;\n",
              "      border-right-color: var(--fill-color);\n",
              "      border-top-color: var(--fill-color);\n",
              "    }\n",
              "    60% {\n",
              "      border-color: transparent;\n",
              "      border-right-color: var(--fill-color);\n",
              "    }\n",
              "    80% {\n",
              "      border-color: transparent;\n",
              "      border-right-color: var(--fill-color);\n",
              "      border-bottom-color: var(--fill-color);\n",
              "    }\n",
              "    90% {\n",
              "      border-color: transparent;\n",
              "      border-bottom-color: var(--fill-color);\n",
              "    }\n",
              "  }\n",
              "</style>\n",
              "\n",
              "  <script>\n",
              "    async function quickchart(key) {\n",
              "      const quickchartButtonEl =\n",
              "        document.querySelector('#' + key + ' button');\n",
              "      quickchartButtonEl.disabled = true;  // To prevent multiple clicks.\n",
              "      quickchartButtonEl.classList.add('colab-df-spinner');\n",
              "      try {\n",
              "        const charts = await google.colab.kernel.invokeFunction(\n",
              "            'suggestCharts', [key], {});\n",
              "      } catch (error) {\n",
              "        console.error('Error during call to suggestCharts:', error);\n",
              "      }\n",
              "      quickchartButtonEl.classList.remove('colab-df-spinner');\n",
              "      quickchartButtonEl.classList.add('colab-df-quickchart-complete');\n",
              "    }\n",
              "    (() => {\n",
              "      let quickchartButtonEl =\n",
              "        document.querySelector('#df-8e912161-0c48-42e4-b8a3-7fc8ebdb31d7 button');\n",
              "      quickchartButtonEl.style.display =\n",
              "        google.colab.kernel.accessAllowed ? 'block' : 'none';\n",
              "    })();\n",
              "  </script>\n",
              "</div>\n",
              "    </div>\n",
              "  </div>\n"
            ],
            "application/vnd.google.colaboratory.intrinsic+json": {
              "type": "dataframe",
              "variable_name": "df"
            }
          },
          "metadata": {},
          "execution_count": 52
        }
      ]
    },
    {
      "cell_type": "code",
      "source": [
        "df.describe()"
      ],
      "metadata": {
        "colab": {
          "base_uri": "https://localhost:8080/",
          "height": 300
        },
        "id": "WCu3d4ybOsJG",
        "outputId": "06d38524-2b62-423a-d0c9-db87779ea3dd"
      },
      "execution_count": 53,
      "outputs": [
        {
          "output_type": "execute_result",
          "data": {
            "text/plain": [
              "        Count      Zip Code     Latitude    Longitude  Tenure Months  \\\n",
              "count  7043.0   7043.000000  7043.000000  7043.000000    7043.000000   \n",
              "mean      1.0  93521.964646    36.282441  -119.798880      32.371149   \n",
              "std       0.0   1865.794555     2.455723     2.157889      24.559481   \n",
              "min       1.0  90001.000000    32.555828  -124.301372       0.000000   \n",
              "25%       1.0  92102.000000    34.030915  -121.815412       9.000000   \n",
              "50%       1.0  93552.000000    36.391777  -119.730885      29.000000   \n",
              "75%       1.0  95351.000000    38.224869  -118.043237      55.000000   \n",
              "max       1.0  96161.000000    41.962127  -114.192901      72.000000   \n",
              "\n",
              "       Monthly Charges  Churn Value  Churn Score         CLTV  \n",
              "count      7043.000000  7043.000000  7043.000000  7043.000000  \n",
              "mean         64.761692     0.265370    58.699418  4400.295755  \n",
              "std          30.090047     0.441561    21.525131  1183.057152  \n",
              "min          18.250000     0.000000     5.000000  2003.000000  \n",
              "25%          35.500000     0.000000    40.000000  3469.000000  \n",
              "50%          70.350000     0.000000    61.000000  4527.000000  \n",
              "75%          89.850000     1.000000    75.000000  5380.500000  \n",
              "max         118.750000     1.000000   100.000000  6500.000000  "
            ],
            "text/html": [
              "\n",
              "  <div id=\"df-447b1385-9036-47c0-b839-6ffbe0d41bad\" class=\"colab-df-container\">\n",
              "    <div>\n",
              "<style scoped>\n",
              "    .dataframe tbody tr th:only-of-type {\n",
              "        vertical-align: middle;\n",
              "    }\n",
              "\n",
              "    .dataframe tbody tr th {\n",
              "        vertical-align: top;\n",
              "    }\n",
              "\n",
              "    .dataframe thead th {\n",
              "        text-align: right;\n",
              "    }\n",
              "</style>\n",
              "<table border=\"1\" class=\"dataframe\">\n",
              "  <thead>\n",
              "    <tr style=\"text-align: right;\">\n",
              "      <th></th>\n",
              "      <th>Count</th>\n",
              "      <th>Zip Code</th>\n",
              "      <th>Latitude</th>\n",
              "      <th>Longitude</th>\n",
              "      <th>Tenure Months</th>\n",
              "      <th>Monthly Charges</th>\n",
              "      <th>Churn Value</th>\n",
              "      <th>Churn Score</th>\n",
              "      <th>CLTV</th>\n",
              "    </tr>\n",
              "  </thead>\n",
              "  <tbody>\n",
              "    <tr>\n",
              "      <th>count</th>\n",
              "      <td>7043.0</td>\n",
              "      <td>7043.000000</td>\n",
              "      <td>7043.000000</td>\n",
              "      <td>7043.000000</td>\n",
              "      <td>7043.000000</td>\n",
              "      <td>7043.000000</td>\n",
              "      <td>7043.000000</td>\n",
              "      <td>7043.000000</td>\n",
              "      <td>7043.000000</td>\n",
              "    </tr>\n",
              "    <tr>\n",
              "      <th>mean</th>\n",
              "      <td>1.0</td>\n",
              "      <td>93521.964646</td>\n",
              "      <td>36.282441</td>\n",
              "      <td>-119.798880</td>\n",
              "      <td>32.371149</td>\n",
              "      <td>64.761692</td>\n",
              "      <td>0.265370</td>\n",
              "      <td>58.699418</td>\n",
              "      <td>4400.295755</td>\n",
              "    </tr>\n",
              "    <tr>\n",
              "      <th>std</th>\n",
              "      <td>0.0</td>\n",
              "      <td>1865.794555</td>\n",
              "      <td>2.455723</td>\n",
              "      <td>2.157889</td>\n",
              "      <td>24.559481</td>\n",
              "      <td>30.090047</td>\n",
              "      <td>0.441561</td>\n",
              "      <td>21.525131</td>\n",
              "      <td>1183.057152</td>\n",
              "    </tr>\n",
              "    <tr>\n",
              "      <th>min</th>\n",
              "      <td>1.0</td>\n",
              "      <td>90001.000000</td>\n",
              "      <td>32.555828</td>\n",
              "      <td>-124.301372</td>\n",
              "      <td>0.000000</td>\n",
              "      <td>18.250000</td>\n",
              "      <td>0.000000</td>\n",
              "      <td>5.000000</td>\n",
              "      <td>2003.000000</td>\n",
              "    </tr>\n",
              "    <tr>\n",
              "      <th>25%</th>\n",
              "      <td>1.0</td>\n",
              "      <td>92102.000000</td>\n",
              "      <td>34.030915</td>\n",
              "      <td>-121.815412</td>\n",
              "      <td>9.000000</td>\n",
              "      <td>35.500000</td>\n",
              "      <td>0.000000</td>\n",
              "      <td>40.000000</td>\n",
              "      <td>3469.000000</td>\n",
              "    </tr>\n",
              "    <tr>\n",
              "      <th>50%</th>\n",
              "      <td>1.0</td>\n",
              "      <td>93552.000000</td>\n",
              "      <td>36.391777</td>\n",
              "      <td>-119.730885</td>\n",
              "      <td>29.000000</td>\n",
              "      <td>70.350000</td>\n",
              "      <td>0.000000</td>\n",
              "      <td>61.000000</td>\n",
              "      <td>4527.000000</td>\n",
              "    </tr>\n",
              "    <tr>\n",
              "      <th>75%</th>\n",
              "      <td>1.0</td>\n",
              "      <td>95351.000000</td>\n",
              "      <td>38.224869</td>\n",
              "      <td>-118.043237</td>\n",
              "      <td>55.000000</td>\n",
              "      <td>89.850000</td>\n",
              "      <td>1.000000</td>\n",
              "      <td>75.000000</td>\n",
              "      <td>5380.500000</td>\n",
              "    </tr>\n",
              "    <tr>\n",
              "      <th>max</th>\n",
              "      <td>1.0</td>\n",
              "      <td>96161.000000</td>\n",
              "      <td>41.962127</td>\n",
              "      <td>-114.192901</td>\n",
              "      <td>72.000000</td>\n",
              "      <td>118.750000</td>\n",
              "      <td>1.000000</td>\n",
              "      <td>100.000000</td>\n",
              "      <td>6500.000000</td>\n",
              "    </tr>\n",
              "  </tbody>\n",
              "</table>\n",
              "</div>\n",
              "    <div class=\"colab-df-buttons\">\n",
              "\n",
              "  <div class=\"colab-df-container\">\n",
              "    <button class=\"colab-df-convert\" onclick=\"convertToInteractive('df-447b1385-9036-47c0-b839-6ffbe0d41bad')\"\n",
              "            title=\"Convert this dataframe to an interactive table.\"\n",
              "            style=\"display:none;\">\n",
              "\n",
              "  <svg xmlns=\"http://www.w3.org/2000/svg\" height=\"24px\" viewBox=\"0 -960 960 960\">\n",
              "    <path d=\"M120-120v-720h720v720H120Zm60-500h600v-160H180v160Zm220 220h160v-160H400v160Zm0 220h160v-160H400v160ZM180-400h160v-160H180v160Zm440 0h160v-160H620v160ZM180-180h160v-160H180v160Zm440 0h160v-160H620v160Z\"/>\n",
              "  </svg>\n",
              "    </button>\n",
              "\n",
              "  <style>\n",
              "    .colab-df-container {\n",
              "      display:flex;\n",
              "      gap: 12px;\n",
              "    }\n",
              "\n",
              "    .colab-df-convert {\n",
              "      background-color: #E8F0FE;\n",
              "      border: none;\n",
              "      border-radius: 50%;\n",
              "      cursor: pointer;\n",
              "      display: none;\n",
              "      fill: #1967D2;\n",
              "      height: 32px;\n",
              "      padding: 0 0 0 0;\n",
              "      width: 32px;\n",
              "    }\n",
              "\n",
              "    .colab-df-convert:hover {\n",
              "      background-color: #E2EBFA;\n",
              "      box-shadow: 0px 1px 2px rgba(60, 64, 67, 0.3), 0px 1px 3px 1px rgba(60, 64, 67, 0.15);\n",
              "      fill: #174EA6;\n",
              "    }\n",
              "\n",
              "    .colab-df-buttons div {\n",
              "      margin-bottom: 4px;\n",
              "    }\n",
              "\n",
              "    [theme=dark] .colab-df-convert {\n",
              "      background-color: #3B4455;\n",
              "      fill: #D2E3FC;\n",
              "    }\n",
              "\n",
              "    [theme=dark] .colab-df-convert:hover {\n",
              "      background-color: #434B5C;\n",
              "      box-shadow: 0px 1px 3px 1px rgba(0, 0, 0, 0.15);\n",
              "      filter: drop-shadow(0px 1px 2px rgba(0, 0, 0, 0.3));\n",
              "      fill: #FFFFFF;\n",
              "    }\n",
              "  </style>\n",
              "\n",
              "    <script>\n",
              "      const buttonEl =\n",
              "        document.querySelector('#df-447b1385-9036-47c0-b839-6ffbe0d41bad button.colab-df-convert');\n",
              "      buttonEl.style.display =\n",
              "        google.colab.kernel.accessAllowed ? 'block' : 'none';\n",
              "\n",
              "      async function convertToInteractive(key) {\n",
              "        const element = document.querySelector('#df-447b1385-9036-47c0-b839-6ffbe0d41bad');\n",
              "        const dataTable =\n",
              "          await google.colab.kernel.invokeFunction('convertToInteractive',\n",
              "                                                    [key], {});\n",
              "        if (!dataTable) return;\n",
              "\n",
              "        const docLinkHtml = 'Like what you see? Visit the ' +\n",
              "          '<a target=\"_blank\" href=https://colab.research.google.com/notebooks/data_table.ipynb>data table notebook</a>'\n",
              "          + ' to learn more about interactive tables.';\n",
              "        element.innerHTML = '';\n",
              "        dataTable['output_type'] = 'display_data';\n",
              "        await google.colab.output.renderOutput(dataTable, element);\n",
              "        const docLink = document.createElement('div');\n",
              "        docLink.innerHTML = docLinkHtml;\n",
              "        element.appendChild(docLink);\n",
              "      }\n",
              "    </script>\n",
              "  </div>\n",
              "\n",
              "\n",
              "<div id=\"df-c3388ae8-3305-44e9-8b09-8aa40e8c1d7a\">\n",
              "  <button class=\"colab-df-quickchart\" onclick=\"quickchart('df-c3388ae8-3305-44e9-8b09-8aa40e8c1d7a')\"\n",
              "            title=\"Suggest charts\"\n",
              "            style=\"display:none;\">\n",
              "\n",
              "<svg xmlns=\"http://www.w3.org/2000/svg\" height=\"24px\"viewBox=\"0 0 24 24\"\n",
              "     width=\"24px\">\n",
              "    <g>\n",
              "        <path d=\"M19 3H5c-1.1 0-2 .9-2 2v14c0 1.1.9 2 2 2h14c1.1 0 2-.9 2-2V5c0-1.1-.9-2-2-2zM9 17H7v-7h2v7zm4 0h-2V7h2v10zm4 0h-2v-4h2v4z\"/>\n",
              "    </g>\n",
              "</svg>\n",
              "  </button>\n",
              "\n",
              "<style>\n",
              "  .colab-df-quickchart {\n",
              "      --bg-color: #E8F0FE;\n",
              "      --fill-color: #1967D2;\n",
              "      --hover-bg-color: #E2EBFA;\n",
              "      --hover-fill-color: #174EA6;\n",
              "      --disabled-fill-color: #AAA;\n",
              "      --disabled-bg-color: #DDD;\n",
              "  }\n",
              "\n",
              "  [theme=dark] .colab-df-quickchart {\n",
              "      --bg-color: #3B4455;\n",
              "      --fill-color: #D2E3FC;\n",
              "      --hover-bg-color: #434B5C;\n",
              "      --hover-fill-color: #FFFFFF;\n",
              "      --disabled-bg-color: #3B4455;\n",
              "      --disabled-fill-color: #666;\n",
              "  }\n",
              "\n",
              "  .colab-df-quickchart {\n",
              "    background-color: var(--bg-color);\n",
              "    border: none;\n",
              "    border-radius: 50%;\n",
              "    cursor: pointer;\n",
              "    display: none;\n",
              "    fill: var(--fill-color);\n",
              "    height: 32px;\n",
              "    padding: 0;\n",
              "    width: 32px;\n",
              "  }\n",
              "\n",
              "  .colab-df-quickchart:hover {\n",
              "    background-color: var(--hover-bg-color);\n",
              "    box-shadow: 0 1px 2px rgba(60, 64, 67, 0.3), 0 1px 3px 1px rgba(60, 64, 67, 0.15);\n",
              "    fill: var(--button-hover-fill-color);\n",
              "  }\n",
              "\n",
              "  .colab-df-quickchart-complete:disabled,\n",
              "  .colab-df-quickchart-complete:disabled:hover {\n",
              "    background-color: var(--disabled-bg-color);\n",
              "    fill: var(--disabled-fill-color);\n",
              "    box-shadow: none;\n",
              "  }\n",
              "\n",
              "  .colab-df-spinner {\n",
              "    border: 2px solid var(--fill-color);\n",
              "    border-color: transparent;\n",
              "    border-bottom-color: var(--fill-color);\n",
              "    animation:\n",
              "      spin 1s steps(1) infinite;\n",
              "  }\n",
              "\n",
              "  @keyframes spin {\n",
              "    0% {\n",
              "      border-color: transparent;\n",
              "      border-bottom-color: var(--fill-color);\n",
              "      border-left-color: var(--fill-color);\n",
              "    }\n",
              "    20% {\n",
              "      border-color: transparent;\n",
              "      border-left-color: var(--fill-color);\n",
              "      border-top-color: var(--fill-color);\n",
              "    }\n",
              "    30% {\n",
              "      border-color: transparent;\n",
              "      border-left-color: var(--fill-color);\n",
              "      border-top-color: var(--fill-color);\n",
              "      border-right-color: var(--fill-color);\n",
              "    }\n",
              "    40% {\n",
              "      border-color: transparent;\n",
              "      border-right-color: var(--fill-color);\n",
              "      border-top-color: var(--fill-color);\n",
              "    }\n",
              "    60% {\n",
              "      border-color: transparent;\n",
              "      border-right-color: var(--fill-color);\n",
              "    }\n",
              "    80% {\n",
              "      border-color: transparent;\n",
              "      border-right-color: var(--fill-color);\n",
              "      border-bottom-color: var(--fill-color);\n",
              "    }\n",
              "    90% {\n",
              "      border-color: transparent;\n",
              "      border-bottom-color: var(--fill-color);\n",
              "    }\n",
              "  }\n",
              "</style>\n",
              "\n",
              "  <script>\n",
              "    async function quickchart(key) {\n",
              "      const quickchartButtonEl =\n",
              "        document.querySelector('#' + key + ' button');\n",
              "      quickchartButtonEl.disabled = true;  // To prevent multiple clicks.\n",
              "      quickchartButtonEl.classList.add('colab-df-spinner');\n",
              "      try {\n",
              "        const charts = await google.colab.kernel.invokeFunction(\n",
              "            'suggestCharts', [key], {});\n",
              "      } catch (error) {\n",
              "        console.error('Error during call to suggestCharts:', error);\n",
              "      }\n",
              "      quickchartButtonEl.classList.remove('colab-df-spinner');\n",
              "      quickchartButtonEl.classList.add('colab-df-quickchart-complete');\n",
              "    }\n",
              "    (() => {\n",
              "      let quickchartButtonEl =\n",
              "        document.querySelector('#df-c3388ae8-3305-44e9-8b09-8aa40e8c1d7a button');\n",
              "      quickchartButtonEl.style.display =\n",
              "        google.colab.kernel.accessAllowed ? 'block' : 'none';\n",
              "    })();\n",
              "  </script>\n",
              "</div>\n",
              "    </div>\n",
              "  </div>\n"
            ],
            "application/vnd.google.colaboratory.intrinsic+json": {
              "type": "dataframe",
              "summary": "{\n  \"name\": \"df\",\n  \"rows\": 8,\n  \"fields\": [\n    {\n      \"column\": \"Count\",\n      \"properties\": {\n        \"dtype\": \"number\",\n        \"std\": 2489.7735087754468,\n        \"min\": 0.0,\n        \"max\": 7043.0,\n        \"num_unique_values\": 3,\n        \"samples\": [\n          7043.0,\n          1.0,\n          0.0\n        ],\n        \"semantic_type\": \"\",\n        \"description\": \"\"\n      }\n    },\n    {\n      \"column\": \"Zip Code\",\n      \"properties\": {\n        \"dtype\": \"number\",\n        \"std\": 41262.103383912574,\n        \"min\": 1865.794555396593,\n        \"max\": 96161.0,\n        \"num_unique_values\": 8,\n        \"samples\": [\n          93521.96464574755,\n          93552.0,\n          7043.0\n        ],\n        \"semantic_type\": \"\",\n        \"description\": \"\"\n      }\n    },\n    {\n      \"column\": \"Latitude\",\n      \"properties\": {\n        \"dtype\": \"number\",\n        \"std\": 2478.8990231401913,\n        \"min\": 2.4557225895721184,\n        \"max\": 7043.0,\n        \"num_unique_values\": 8,\n        \"samples\": [\n          36.28244138108761,\n          36.391777,\n          7043.0\n        ],\n        \"semantic_type\": \"\",\n        \"description\": \"\"\n      }\n    },\n    {\n      \"column\": \"Longitude\",\n      \"properties\": {\n        \"dtype\": \"number\",\n        \"std\": 2526.5872953691696,\n        \"min\": -124.301372,\n        \"max\": 7043.0,\n        \"num_unique_values\": 8,\n        \"samples\": [\n          -119.79888008121539,\n          -119.730885,\n          7043.0\n        ],\n        \"semantic_type\": \"\",\n        \"description\": \"\"\n      }\n    },\n    {\n      \"column\": \"Tenure Months\",\n      \"properties\": {\n        \"dtype\": \"number\",\n        \"std\": 2478.9752758409018,\n        \"min\": 0.0,\n        \"max\": 7043.0,\n        \"num_unique_values\": 8,\n        \"samples\": [\n          32.37114865824223,\n          29.0,\n          7043.0\n        ],\n        \"semantic_type\": \"\",\n        \"description\": \"\"\n      }\n    },\n    {\n      \"column\": \"Monthly Charges\",\n      \"properties\": {\n        \"dtype\": \"number\",\n        \"std\": 2468.7047672837775,\n        \"min\": 18.25,\n        \"max\": 7043.0,\n        \"num_unique_values\": 8,\n        \"samples\": [\n          64.76169246059918,\n          70.35,\n          7043.0\n        ],\n        \"semantic_type\": \"\",\n        \"description\": \"\"\n      }\n    },\n    {\n      \"column\": \"Churn Value\",\n      \"properties\": {\n        \"dtype\": \"number\",\n        \"std\": 2489.939844235915,\n        \"min\": 0.0,\n        \"max\": 7043.0,\n        \"num_unique_values\": 5,\n        \"samples\": [\n          0.2653698707936959,\n          1.0,\n          0.441561305121947\n        ],\n        \"semantic_type\": \"\",\n        \"description\": \"\"\n      }\n    },\n    {\n      \"column\": \"Churn Score\",\n      \"properties\": {\n        \"dtype\": \"number\",\n        \"std\": 2472.012231455447,\n        \"min\": 5.0,\n        \"max\": 7043.0,\n        \"num_unique_values\": 8,\n        \"samples\": [\n          58.69941786170666,\n          61.0,\n          7043.0\n        ],\n        \"semantic_type\": \"\",\n        \"description\": \"\"\n      }\n    },\n    {\n      \"column\": \"CLTV\",\n      \"properties\": {\n        \"dtype\": \"number\",\n        \"std\": 2044.9875864682836,\n        \"min\": 1183.0571519525197,\n        \"max\": 7043.0,\n        \"num_unique_values\": 8,\n        \"samples\": [\n          4400.295754650007,\n          4527.0,\n          7043.0\n        ],\n        \"semantic_type\": \"\",\n        \"description\": \"\"\n      }\n    }\n  ]\n}"
            }
          },
          "metadata": {},
          "execution_count": 53
        }
      ]
    },
    {
      "cell_type": "code",
      "source": [
        "df.info()"
      ],
      "metadata": {
        "colab": {
          "base_uri": "https://localhost:8080/"
        },
        "id": "mGxbXha8OuyO",
        "outputId": "5eb94056-ad0c-482a-fc69-99b271fe7264"
      },
      "execution_count": 54,
      "outputs": [
        {
          "output_type": "stream",
          "name": "stdout",
          "text": [
            "<class 'pandas.core.frame.DataFrame'>\n",
            "RangeIndex: 7043 entries, 0 to 7042\n",
            "Data columns (total 33 columns):\n",
            " #   Column             Non-Null Count  Dtype  \n",
            "---  ------             --------------  -----  \n",
            " 0   CustomerID         7043 non-null   object \n",
            " 1   Count              7043 non-null   int64  \n",
            " 2   Country            7043 non-null   object \n",
            " 3   State              7043 non-null   object \n",
            " 4   City               7043 non-null   object \n",
            " 5   Zip Code           7043 non-null   int64  \n",
            " 6   Lat Long           7043 non-null   object \n",
            " 7   Latitude           7043 non-null   float64\n",
            " 8   Longitude          7043 non-null   float64\n",
            " 9   Gender             7043 non-null   object \n",
            " 10  Senior Citizen     7043 non-null   object \n",
            " 11  Partner            7043 non-null   object \n",
            " 12  Dependents         7043 non-null   object \n",
            " 13  Tenure Months      7043 non-null   int64  \n",
            " 14  Phone Service      7043 non-null   object \n",
            " 15  Multiple Lines     7043 non-null   object \n",
            " 16  Internet Service   7043 non-null   object \n",
            " 17  Online Security    7043 non-null   object \n",
            " 18  Online Backup      7043 non-null   object \n",
            " 19  Device Protection  7043 non-null   object \n",
            " 20  Tech Support       7043 non-null   object \n",
            " 21  Streaming TV       7043 non-null   object \n",
            " 22  Streaming Movies   7043 non-null   object \n",
            " 23  Contract           7043 non-null   object \n",
            " 24  Paperless Billing  7043 non-null   object \n",
            " 25  Payment Method     7043 non-null   object \n",
            " 26  Monthly Charges    7043 non-null   float64\n",
            " 27  Total Charges      7043 non-null   object \n",
            " 28  Churn Label        7043 non-null   object \n",
            " 29  Churn Value        7043 non-null   int64  \n",
            " 30  Churn Score        7043 non-null   int64  \n",
            " 31  CLTV               7043 non-null   int64  \n",
            " 32  Churn Reason       1869 non-null   object \n",
            "dtypes: float64(3), int64(6), object(24)\n",
            "memory usage: 1.8+ MB\n"
          ]
        }
      ]
    },
    {
      "cell_type": "code",
      "source": [
        "df.dtypes"
      ],
      "metadata": {
        "colab": {
          "base_uri": "https://localhost:8080/"
        },
        "id": "7bH4-7tbQj8H",
        "outputId": "c8842d1c-a763-4569-a216-15e433b36648"
      },
      "execution_count": 55,
      "outputs": [
        {
          "output_type": "execute_result",
          "data": {
            "text/plain": [
              "CustomerID            object\n",
              "Count                  int64\n",
              "Country               object\n",
              "State                 object\n",
              "City                  object\n",
              "Zip Code               int64\n",
              "Lat Long              object\n",
              "Latitude             float64\n",
              "Longitude            float64\n",
              "Gender                object\n",
              "Senior Citizen        object\n",
              "Partner               object\n",
              "Dependents            object\n",
              "Tenure Months          int64\n",
              "Phone Service         object\n",
              "Multiple Lines        object\n",
              "Internet Service      object\n",
              "Online Security       object\n",
              "Online Backup         object\n",
              "Device Protection     object\n",
              "Tech Support          object\n",
              "Streaming TV          object\n",
              "Streaming Movies      object\n",
              "Contract              object\n",
              "Paperless Billing     object\n",
              "Payment Method        object\n",
              "Monthly Charges      float64\n",
              "Total Charges         object\n",
              "Churn Label           object\n",
              "Churn Value            int64\n",
              "Churn Score            int64\n",
              "CLTV                   int64\n",
              "Churn Reason          object\n",
              "dtype: object"
            ]
          },
          "metadata": {},
          "execution_count": 55
        }
      ]
    },
    {
      "cell_type": "code",
      "source": [
        "df.isnull().sum()"
      ],
      "metadata": {
        "colab": {
          "base_uri": "https://localhost:8080/"
        },
        "id": "rwebSV1oPTdx",
        "outputId": "a6a248d7-efbe-4a8d-9d58-bef62efe7fd4"
      },
      "execution_count": 56,
      "outputs": [
        {
          "output_type": "execute_result",
          "data": {
            "text/plain": [
              "CustomerID              0\n",
              "Count                   0\n",
              "Country                 0\n",
              "State                   0\n",
              "City                    0\n",
              "Zip Code                0\n",
              "Lat Long                0\n",
              "Latitude                0\n",
              "Longitude               0\n",
              "Gender                  0\n",
              "Senior Citizen          0\n",
              "Partner                 0\n",
              "Dependents              0\n",
              "Tenure Months           0\n",
              "Phone Service           0\n",
              "Multiple Lines          0\n",
              "Internet Service        0\n",
              "Online Security         0\n",
              "Online Backup           0\n",
              "Device Protection       0\n",
              "Tech Support            0\n",
              "Streaming TV            0\n",
              "Streaming Movies        0\n",
              "Contract                0\n",
              "Paperless Billing       0\n",
              "Payment Method          0\n",
              "Monthly Charges         0\n",
              "Total Charges           0\n",
              "Churn Label             0\n",
              "Churn Value             0\n",
              "Churn Score             0\n",
              "CLTV                    0\n",
              "Churn Reason         5174\n",
              "dtype: int64"
            ]
          },
          "metadata": {},
          "execution_count": 56
        }
      ]
    },
    {
      "cell_type": "markdown",
      "source": [
        "other than churn reason no missing value is there.\n",
        "deleting churn Reason because we don't need it."
      ],
      "metadata": {
        "id": "uLgAw_KLPbnv"
      }
    },
    {
      "cell_type": "code",
      "source": [
        "df=df.drop(columns='Churn Reason')\n",
        "df.shape"
      ],
      "metadata": {
        "colab": {
          "base_uri": "https://localhost:8080/"
        },
        "id": "MLZqtQY6PZA0",
        "outputId": "0013da46-9eb6-41f5-f84e-071e4b02259b"
      },
      "execution_count": 57,
      "outputs": [
        {
          "output_type": "execute_result",
          "data": {
            "text/plain": [
              "(7043, 32)"
            ]
          },
          "metadata": {},
          "execution_count": 57
        }
      ]
    },
    {
      "cell_type": "code",
      "source": [
        "#filling NaN values with 0\n",
        "df=df.fillna(0)"
      ],
      "metadata": {
        "id": "rqm7qGTeSMUr"
      },
      "execution_count": 58,
      "outputs": []
    },
    {
      "cell_type": "markdown",
      "source": [
        "Checking for Data Imbalancing"
      ],
      "metadata": {
        "id": "ia1qSLpkTCuT"
      }
    },
    {
      "cell_type": "code",
      "source": [
        "#pie chart to see the percentage\n",
        "diag = df['Churn Value'].value_counts()\n",
        "plt.figure(figsize=(10, 6))\n",
        "plt.subplot(1, 2, 1)\n",
        "plt.pie(diag, labels=['Yes', 'No'], autopct=\"%.2f%%\")\n",
        "plt.title('Churn Value Counts')\n",
        "plt.tight_layout()\n",
        "plt.show()"
      ],
      "metadata": {
        "colab": {
          "base_uri": "https://localhost:8080/",
          "height": 536
        },
        "id": "4ktXJzErT27D",
        "outputId": "fe755376-a067-49a0-e895-e2c522308350"
      },
      "execution_count": 59,
      "outputs": [
        {
          "output_type": "display_data",
          "data": {
            "text/plain": [
              "<Figure size 1000x600 with 1 Axes>"
            ],
            "image/png": "[encoded data removed]"
          },
          "metadata": {}
        }
      ]
    },
    {
      "cell_type": "code",
      "source": [
        "unique_labels = df['Churn Value'].unique()\n",
        "print(unique_labels)"
      ],
      "metadata": {
        "colab": {
          "base_uri": "https://localhost:8080/"
        },
        "id": "EMSCyuZHaCMI",
        "outputId": "eb15b84b-58a3-4fbc-b414-eb53e6ce939f"
      },
      "execution_count": 60,
      "outputs": [
        {
          "output_type": "stream",
          "name": "stdout",
          "text": [
            "[1 0]\n"
          ]
        }
      ]
    },
    {
      "cell_type": "code",
      "source": [
        "#resampling\n",
        "no_class = df[df['Churn Value'] == 0]\n",
        "yes_class = df[df['Churn Value'] == 1]\n",
        "\n",
        "No_Class = resample(no_class, replace=True, n_samples=len(yes_class), random_state=42)\n",
        "\n",
        "down_samples = pd.concat([yes_class, No_Class])\n",
        "print(no_class.shape)\n",
        "print(yes_class.shape)"
      ],
      "metadata": {
        "colab": {
          "base_uri": "https://localhost:8080/"
        },
        "id": "vsD4lRs2Udau",
        "outputId": "e9ee572e-3599-4428-b885-6d9bb635fc95"
      },
      "execution_count": 61,
      "outputs": [
        {
          "output_type": "stream",
          "name": "stdout",
          "text": [
            "(5174, 32)\n",
            "(1869, 32)\n"
          ]
        }
      ]
    },
    {
      "cell_type": "code",
      "source": [
        "down_samples.shape"
      ],
      "metadata": {
        "colab": {
          "base_uri": "https://localhost:8080/"
        },
        "id": "kMKOYPqxXoPR",
        "outputId": "15296d69-5670-4b4b-dea4-d13a55cf9b8b"
      },
      "execution_count": 62,
      "outputs": [
        {
          "output_type": "execute_result",
          "data": {
            "text/plain": [
              "(3738, 32)"
            ]
          },
          "metadata": {},
          "execution_count": 62
        }
      ]
    },
    {
      "cell_type": "code",
      "source": [
        "diag = down_samples['Churn Value'].value_counts()\n",
        "plt.figure(figsize=(10, 6))\n",
        "plt.subplot(1, 2, 1)\n",
        "plt.pie(diag, autopct=\"%.2f%%\")\n",
        "plt.title('Churn Value Counts(Resampled)')\n",
        "plt.tight_layout()\n",
        "plt.show()"
      ],
      "metadata": {
        "colab": {
          "base_uri": "https://localhost:8080/",
          "height": 536
        },
        "id": "mXskxTY1Va7b",
        "outputId": "e09e110c-2500-421f-dfcb-4fcc32f4b5b8"
      },
      "execution_count": 63,
      "outputs": [
        {
          "output_type": "display_data",
          "data": {
            "text/plain": [
              "<Figure size 1000x600 with 1 Axes>"
            ],
            "image/png": "[encoded data removed]"
          },
          "metadata": {}
        }
      ]
    },
    {
      "cell_type": "code",
      "source": [
        "down_samples.dtypes"
      ],
      "metadata": {
        "colab": {
          "base_uri": "https://localhost:8080/"
        },
        "id": "ogrTjo2wb3yZ",
        "outputId": "d2930306-2621-46eb-d27a-a21f10b4ea8b"
      },
      "execution_count": 64,
      "outputs": [
        {
          "output_type": "execute_result",
          "data": {
            "text/plain": [
              "CustomerID            object\n",
              "Count                  int64\n",
              "Country               object\n",
              "State                 object\n",
              "City                  object\n",
              "Zip Code               int64\n",
              "Lat Long              object\n",
              "Latitude             float64\n",
              "Longitude            float64\n",
              "Gender                object\n",
              "Senior Citizen        object\n",
              "Partner               object\n",
              "Dependents            object\n",
              "Tenure Months          int64\n",
              "Phone Service         object\n",
              "Multiple Lines        object\n",
              "Internet Service      object\n",
              "Online Security       object\n",
              "Online Backup         object\n",
              "Device Protection     object\n",
              "Tech Support          object\n",
              "Streaming TV          object\n",
              "Streaming Movies      object\n",
              "Contract              object\n",
              "Paperless Billing     object\n",
              "Payment Method        object\n",
              "Monthly Charges      float64\n",
              "Total Charges         object\n",
              "Churn Label           object\n",
              "Churn Value            int64\n",
              "Churn Score            int64\n",
              "CLTV                   int64\n",
              "dtype: object"
            ]
          },
          "metadata": {},
          "execution_count": 64
        }
      ]
    },
    {
      "cell_type": "code",
      "source": [
        "down_samples.drop(columns=['CustomerID', 'Count', 'Country', 'Zip Code', 'State', 'Lat Long', 'Latitude', 'Longitude', 'Churn Label', 'Churn Score', 'CLTV', 'Monthly Charges','Total Charges'], inplace=True)"
      ],
      "metadata": {
        "id": "VX7xuMNNV4se"
      },
      "execution_count": 65,
      "outputs": []
    },
    {
      "cell_type": "code",
      "source": [
        "down_samples.dtypes"
      ],
      "metadata": {
        "colab": {
          "base_uri": "https://localhost:8080/"
        },
        "id": "jcjXx749cLbv",
        "outputId": "bb51f8ee-9211-4a31-c7a1-d39cf4075f4c"
      },
      "execution_count": 66,
      "outputs": [
        {
          "output_type": "execute_result",
          "data": {
            "text/plain": [
              "City                 object\n",
              "Gender               object\n",
              "Senior Citizen       object\n",
              "Partner              object\n",
              "Dependents           object\n",
              "Tenure Months         int64\n",
              "Phone Service        object\n",
              "Multiple Lines       object\n",
              "Internet Service     object\n",
              "Online Security      object\n",
              "Online Backup        object\n",
              "Device Protection    object\n",
              "Tech Support         object\n",
              "Streaming TV         object\n",
              "Streaming Movies     object\n",
              "Contract             object\n",
              "Paperless Billing    object\n",
              "Payment Method       object\n",
              "Churn Value           int64\n",
              "dtype: object"
            ]
          },
          "metadata": {},
          "execution_count": 66
        }
      ]
    },
    {
      "cell_type": "markdown",
      "source": [
        "One-Hot Encoding"
      ],
      "metadata": {
        "id": "MSThOy8IgINj"
      }
    },
    {
      "cell_type": "code",
      "source": [
        "df1 = pd.get_dummies(down_samples, columns=['City', 'Gender', 'Senior Citizen', 'Partner', 'Dependents', 'Phone Service',\n",
        "                                                   'Multiple Lines', 'Internet Service', 'Online Security', 'Online Backup',\n",
        "                                                   'Device Protection', 'Tech Support', 'Streaming TV', 'Streaming Movies',\n",
        "                                                  'Contract', 'Paperless Billing', 'Payment Method'])\n"
      ],
      "metadata": {
        "id": "6OYgsiy7dQyn"
      },
      "execution_count": 67,
      "outputs": []
    },
    {
      "cell_type": "markdown",
      "source": [
        "Model Building"
      ],
      "metadata": {
        "id": "zdeNjGYmgn9N"
      }
    },
    {
      "cell_type": "code",
      "source": [
        "X = df1.drop(columns=['Churn Value'])\n",
        "y = df1['Churn Value']"
      ],
      "metadata": {
        "id": "C4913_NhgkYV"
      },
      "execution_count": 68,
      "outputs": []
    },
    {
      "cell_type": "code",
      "source": [
        "X_train, X_test, y_train, y_test = train_test_split(X, y, test_size=0.2, random_state=42)"
      ],
      "metadata": {
        "id": "CFkn5nBCgt4C"
      },
      "execution_count": 70,
      "outputs": []
    },
    {
      "cell_type": "code",
      "source": [
        "scaler = StandardScaler()\n",
        "X_train = scaler.fit_transform(X_train)\n",
        "X_test = scaler.transform(X_test)"
      ],
      "metadata": {
        "id": "aToTBPOvgw8i"
      },
      "execution_count": 71,
      "outputs": []
    },
    {
      "cell_type": "code",
      "source": [
        "#DNN model\n",
        "model = Sequential()\n",
        "model.add(Dense(units=128, activation='relu', input_dim=X_train.shape[1]))\n",
        "model.add(Dense(units=64, activation='relu'))\n",
        "model.add(Dense(units=1, activation='sigmoid'))"
      ],
      "metadata": {
        "id": "dpPgHMX3hLCA"
      },
      "execution_count": 73,
      "outputs": []
    },
    {
      "cell_type": "code",
      "source": [
        "#DNN model with dropout\n",
        "model1 = Sequential()\n",
        "model1.add(Dense(units=128, activation='relu', input_dim=X_train.shape[1]))\n",
        "model1.add(Dropout(0.5))\n",
        "model1.add(Dense(units=64, activation='relu'))\n",
        "model1.add(Dropout(0.5))\n",
        "model1.add(Dense(units=1, activation='sigmoid'))"
      ],
      "metadata": {
        "id": "P4dOg_A9l3CH"
      },
      "execution_count": 90,
      "outputs": []
    },
    {
      "cell_type": "code",
      "source": [
        "model.compile(optimizer='adam', loss='binary_crossentropy', metrics=['accuracy'])\n",
        "model1.compile(optimizer='adam', loss='binary_crossentropy', metrics=['accuracy'])"
      ],
      "metadata": {
        "id": "YjEH6oFfh2jB"
      },
      "execution_count": 91,
      "outputs": []
    },
    {
      "cell_type": "code",
      "source": [
        "model.fit(X_train, y_train, epochs=20, batch_size=32, validation_data=(X_test, y_test))"
      ],
      "metadata": {
        "colab": {
          "base_uri": "https://localhost:8080/"
        },
        "id": "8JAq7xdHh63l",
        "outputId": "9473b6f1-ba9f-4697-da1b-1440241a458b"
      },
      "execution_count": 76,
      "outputs": [
        {
          "output_type": "stream",
          "name": "stdout",
          "text": [
            "Epoch 1/20\n",
            "94/94 [==============================] - 1s 9ms/step - loss: 0.0808 - accuracy: 0.9689 - val_loss: 1.3210 - val_accuracy: 0.7219\n",
            "Epoch 2/20\n",
            "94/94 [==============================] - 0s 5ms/step - loss: 0.0656 - accuracy: 0.9753 - val_loss: 1.3642 - val_accuracy: 0.7259\n",
            "Epoch 3/20\n",
            "94/94 [==============================] - 0s 5ms/step - loss: 0.0542 - accuracy: 0.9816 - val_loss: 1.4520 - val_accuracy: 0.7259\n",
            "Epoch 4/20\n",
            "94/94 [==============================] - 0s 5ms/step - loss: 0.0451 - accuracy: 0.9863 - val_loss: 1.5560 - val_accuracy: 0.7219\n",
            "Epoch 5/20\n",
            "94/94 [==============================] - 0s 5ms/step - loss: 0.0383 - accuracy: 0.9896 - val_loss: 1.6203 - val_accuracy: 0.7072\n",
            "Epoch 6/20\n",
            "94/94 [==============================] - 0s 5ms/step - loss: 0.0365 - accuracy: 0.9883 - val_loss: 1.6780 - val_accuracy: 0.7179\n",
            "Epoch 7/20\n",
            "94/94 [==============================] - 1s 5ms/step - loss: 0.0266 - accuracy: 0.9936 - val_loss: 1.7500 - val_accuracy: 0.7219\n",
            "Epoch 8/20\n",
            "94/94 [==============================] - 1s 8ms/step - loss: 0.0228 - accuracy: 0.9933 - val_loss: 1.8154 - val_accuracy: 0.7219\n",
            "Epoch 9/20\n",
            "94/94 [==============================] - 1s 8ms/step - loss: 0.0198 - accuracy: 0.9946 - val_loss: 1.9019 - val_accuracy: 0.7139\n",
            "Epoch 10/20\n",
            "94/94 [==============================] - 1s 9ms/step - loss: 0.0180 - accuracy: 0.9957 - val_loss: 2.0143 - val_accuracy: 0.7193\n",
            "Epoch 11/20\n",
            "94/94 [==============================] - 1s 8ms/step - loss: 0.0166 - accuracy: 0.9960 - val_loss: 2.0310 - val_accuracy: 0.7286\n",
            "Epoch 12/20\n",
            "94/94 [==============================] - 0s 5ms/step - loss: 0.0158 - accuracy: 0.9957 - val_loss: 2.1020 - val_accuracy: 0.7112\n",
            "Epoch 13/20\n",
            "94/94 [==============================] - 0s 5ms/step - loss: 0.0124 - accuracy: 0.9963 - val_loss: 2.1261 - val_accuracy: 0.7179\n",
            "Epoch 14/20\n",
            "94/94 [==============================] - 0s 5ms/step - loss: 0.0111 - accuracy: 0.9970 - val_loss: 2.2318 - val_accuracy: 0.7299\n",
            "Epoch 15/20\n",
            "94/94 [==============================] - 0s 5ms/step - loss: 0.0099 - accuracy: 0.9967 - val_loss: 2.2876 - val_accuracy: 0.7219\n",
            "Epoch 16/20\n",
            "94/94 [==============================] - 0s 5ms/step - loss: 0.0085 - accuracy: 0.9977 - val_loss: 2.3635 - val_accuracy: 0.7219\n",
            "Epoch 17/20\n",
            "94/94 [==============================] - 0s 5ms/step - loss: 0.0096 - accuracy: 0.9960 - val_loss: 2.3782 - val_accuracy: 0.7152\n",
            "Epoch 18/20\n",
            "94/94 [==============================] - 0s 5ms/step - loss: 0.0069 - accuracy: 0.9973 - val_loss: 2.4492 - val_accuracy: 0.7286\n",
            "Epoch 19/20\n",
            "94/94 [==============================] - 0s 5ms/step - loss: 0.0072 - accuracy: 0.9980 - val_loss: 2.5293 - val_accuracy: 0.7259\n",
            "Epoch 20/20\n",
            "94/94 [==============================] - 1s 8ms/step - loss: 0.0116 - accuracy: 0.9957 - val_loss: 2.4804 - val_accuracy: 0.7246\n"
          ]
        },
        {
          "output_type": "execute_result",
          "data": {
            "text/plain": [
              "<keras.src.callbacks.History at 0x7d20c8f46200>"
            ]
          },
          "metadata": {},
          "execution_count": 76
        }
      ]
    },
    {
      "cell_type": "code",
      "source": [
        "model1.fit(X_train, y_train, epochs=20, batch_size=32, validation_data=(X_test, y_test))"
      ],
      "metadata": {
        "colab": {
          "base_uri": "https://localhost:8080/"
        },
        "id": "Jd4flGFgmgu7",
        "outputId": "4550957c-656f-44de-a701-e0961f6907dd"
      },
      "execution_count": 92,
      "outputs": [
        {
          "output_type": "stream",
          "name": "stdout",
          "text": [
            "Epoch 1/20\n",
            "94/94 [==============================] - 2s 7ms/step - loss: 0.8475 - accuracy: 0.5876 - val_loss: 0.5980 - val_accuracy: 0.7233\n",
            "Epoch 2/20\n",
            "94/94 [==============================] - 0s 5ms/step - loss: 0.6114 - accuracy: 0.7067 - val_loss: 0.5849 - val_accuracy: 0.7206\n",
            "Epoch 3/20\n",
            "94/94 [==============================] - 0s 5ms/step - loss: 0.5266 - accuracy: 0.7495 - val_loss: 0.5728 - val_accuracy: 0.7299\n",
            "Epoch 4/20\n",
            "94/94 [==============================] - 1s 9ms/step - loss: 0.4603 - accuracy: 0.7943 - val_loss: 0.6129 - val_accuracy: 0.7233\n",
            "Epoch 5/20\n",
            "94/94 [==============================] - 1s 9ms/step - loss: 0.4207 - accuracy: 0.8114 - val_loss: 0.6365 - val_accuracy: 0.7219\n",
            "Epoch 6/20\n",
            "94/94 [==============================] - 1s 9ms/step - loss: 0.3768 - accuracy: 0.8294 - val_loss: 0.7040 - val_accuracy: 0.7166\n",
            "Epoch 7/20\n",
            "94/94 [==============================] - 1s 9ms/step - loss: 0.3467 - accuracy: 0.8482 - val_loss: 0.7598 - val_accuracy: 0.7206\n",
            "Epoch 8/20\n",
            "94/94 [==============================] - 1s 9ms/step - loss: 0.3236 - accuracy: 0.8579 - val_loss: 0.8041 - val_accuracy: 0.7259\n",
            "Epoch 9/20\n",
            "94/94 [==============================] - 1s 10ms/step - loss: 0.3053 - accuracy: 0.8488 - val_loss: 0.8566 - val_accuracy: 0.7233\n",
            "Epoch 10/20\n",
            "94/94 [==============================] - 1s 7ms/step - loss: 0.2983 - accuracy: 0.8645 - val_loss: 0.8844 - val_accuracy: 0.7313\n",
            "Epoch 11/20\n",
            "94/94 [==============================] - 0s 5ms/step - loss: 0.2825 - accuracy: 0.8676 - val_loss: 0.9206 - val_accuracy: 0.7326\n",
            "Epoch 12/20\n",
            "94/94 [==============================] - 0s 5ms/step - loss: 0.2504 - accuracy: 0.8856 - val_loss: 1.0147 - val_accuracy: 0.7246\n",
            "Epoch 13/20\n",
            "94/94 [==============================] - 0s 5ms/step - loss: 0.2582 - accuracy: 0.8809 - val_loss: 1.0375 - val_accuracy: 0.7246\n",
            "Epoch 14/20\n",
            "94/94 [==============================] - 0s 5ms/step - loss: 0.2440 - accuracy: 0.8883 - val_loss: 1.0814 - val_accuracy: 0.7286\n",
            "Epoch 15/20\n",
            "94/94 [==============================] - 1s 5ms/step - loss: 0.2326 - accuracy: 0.8936 - val_loss: 1.1309 - val_accuracy: 0.7273\n",
            "Epoch 16/20\n",
            "94/94 [==============================] - 1s 9ms/step - loss: 0.2183 - accuracy: 0.8963 - val_loss: 1.2059 - val_accuracy: 0.7340\n",
            "Epoch 17/20\n",
            "94/94 [==============================] - 1s 6ms/step - loss: 0.2186 - accuracy: 0.8906 - val_loss: 1.2398 - val_accuracy: 0.7286\n",
            "Epoch 18/20\n",
            "94/94 [==============================] - 1s 6ms/step - loss: 0.2015 - accuracy: 0.9027 - val_loss: 1.3293 - val_accuracy: 0.7206\n",
            "Epoch 19/20\n",
            "94/94 [==============================] - 0s 5ms/step - loss: 0.1982 - accuracy: 0.9077 - val_loss: 1.3808 - val_accuracy: 0.7246\n",
            "Epoch 20/20\n",
            "94/94 [==============================] - 0s 5ms/step - loss: 0.1820 - accuracy: 0.9211 - val_loss: 1.4152 - val_accuracy: 0.7219\n"
          ]
        },
        {
          "output_type": "execute_result",
          "data": {
            "text/plain": [
              "<keras.src.callbacks.History at 0x7d20c9f399f0>"
            ]
          },
          "metadata": {},
          "execution_count": 92
        }
      ]
    },
    {
      "cell_type": "code",
      "source": [
        "pred1 = model.predict(X_test)\n",
        "dpred1 = model.predict(X_test)"
      ],
      "metadata": {
        "colab": {
          "base_uri": "https://localhost:8080/"
        },
        "id": "IADAmUQMjUPi",
        "outputId": "eaa8b918-ea25-463b-a9b1-a96873876c5a"
      },
      "execution_count": 93,
      "outputs": [
        {
          "output_type": "stream",
          "name": "stdout",
          "text": [
            "24/24 [==============================] - 0s 2ms/step\n",
            "24/24 [==============================] - 0s 2ms/step\n"
          ]
        }
      ]
    },
    {
      "cell_type": "code",
      "source": [
        "threshold = 0.5\n",
        "pred = (pred1 > threshold).astype(int)\n",
        "dpred = (dpred1 > threshold).astype(int)"
      ],
      "metadata": {
        "id": "p1hOAjeLjzYY"
      },
      "execution_count": 94,
      "outputs": []
    },
    {
      "cell_type": "code",
      "source": [
        "classification_report_output = classification_report(y_test, pred)\n",
        "loss1, accuracy1 = model.evaluate(X_test, y_test)\n",
        "print('Model accuracy Base DNN: ', accuracy1)\n",
        "print(\"Classification Report:\")\n",
        "print(classification_report_output)"
      ],
      "metadata": {
        "colab": {
          "base_uri": "https://localhost:8080/"
        },
        "id": "XkqsaW89iOpE",
        "outputId": "2ec7eab2-e147-4670-f080-86ad9d400d48"
      },
      "execution_count": 88,
      "outputs": [
        {
          "output_type": "stream",
          "name": "stdout",
          "text": [
            "24/24 [==============================] - 0s 4ms/step - loss: 2.4804 - accuracy: 0.7246\n",
            "Model accuracy Base DNN:  0.7245989441871643\n",
            "Classification Report:\n",
            "              precision    recall  f1-score   support\n",
            "\n",
            "           0       0.71      0.75      0.73       369\n",
            "           1       0.74      0.70      0.72       379\n",
            "\n",
            "    accuracy                           0.72       748\n",
            "   macro avg       0.73      0.72      0.72       748\n",
            "weighted avg       0.73      0.72      0.72       748\n",
            "\n"
          ]
        }
      ]
    },
    {
      "cell_type": "code",
      "source": [
        "classification_report_output2 = classification_report(y_test, dpred)\n",
        "loss2, accuracy2 = model1.evaluate(X_test, y_test)\n",
        "print('Model accuracy Base DNN with dropout: ', accuracy2)\n",
        "print(\"Classification Report:\")\n",
        "print(classification_report_output2)"
      ],
      "metadata": {
        "colab": {
          "base_uri": "https://localhost:8080/"
        },
        "id": "wEnxbRXQmvjC",
        "outputId": "0b7f32d2-91c5-4bcb-f5cf-8ac9da277d87"
      },
      "execution_count": 96,
      "outputs": [
        {
          "output_type": "stream",
          "name": "stdout",
          "text": [
            "24/24 [==============================] - 0s 3ms/step - loss: 1.4152 - accuracy: 0.7219\n",
            "Model accuracy Base DNN with dropout:  0.7219251394271851\n",
            "Classification Report:\n",
            "              precision    recall  f1-score   support\n",
            "\n",
            "           0       0.71      0.75      0.73       369\n",
            "           1       0.74      0.70      0.72       379\n",
            "\n",
            "    accuracy                           0.72       748\n",
            "   macro avg       0.73      0.72      0.72       748\n",
            "weighted avg       0.73      0.72      0.72       748\n",
            "\n"
          ]
        }
      ]
    },
    {
      "cell_type": "code",
      "source": [
        "precision1, recall1, thresholds1 = precision_recall_curve(y_test, pred)\n",
        "precision2, recall2, thresholds2 = precision_recall_curve(y_test, dpred)\n",
        "labels = ['DNN', 'DNN with dropout']\n",
        "plt.plot(recall1, precision1, color='black', label=labels[0])\n",
        "plt.plot(recall2, precision2, color='pink', label=labels[1])\n",
        "plt.xlabel('Recall')\n",
        "plt.ylabel('Precision')\n",
        "plt.title('Precision-Recall Curve- Adam optimizers')\n",
        "plt.legend()\n",
        "plt.show()"
      ],
      "metadata": {
        "colab": {
          "base_uri": "https://localhost:8080/",
          "height": 472
        },
        "id": "ztplLgoDjfKy",
        "outputId": "3d6e7619-8f13-4e86-d002-481ef438d382"
      },
      "execution_count": 98,
      "outputs": [
        {
          "output_type": "display_data",
          "data": {
            "text/plain": [
              "<Figure size 640x480 with 1 Axes>"
            ],
            "image/png": "[encoded data removed]"
          },
          "metadata": {}
        }
      ]
    },
    {
      "cell_type": "markdown",
      "source": [
        "Layer-wise Dropout"
      ],
      "metadata": {
        "id": "jPYOf1NGnxis"
      }
    },
    {
      "cell_type": "code",
      "source": [
        "#dropout rate-0.2\n",
        "model3 = Sequential()\n",
        "model3.add(Dense(units=128, activation='relu', input_dim=X_train.shape[1]))\n",
        "model3.add(Dropout(0.2))\n",
        "model3.add(Dense(units=64, activation='relu'))\n",
        "model3.add(Dense(units=1, activation='sigmoid'))\n",
        "\n",
        "model3.compile(optimizer='adam', loss='binary_crossentropy', metrics=['accuracy'])\n",
        "model3.fit(X_train, y_train, epochs=20, batch_size=32, validation_split=0.2)\n"
      ],
      "metadata": {
        "colab": {
          "base_uri": "https://localhost:8080/"
        },
        "id": "SV2C7nOenj2k",
        "outputId": "d9858edf-89f9-487b-c3c3-23110e6c266c"
      },
      "execution_count": 100,
      "outputs": [
        {
          "output_type": "stream",
          "name": "stdout",
          "text": [
            "Epoch 1/20\n",
            "75/75 [==============================] - 1s 7ms/step - loss: 0.6082 - accuracy: 0.6714 - val_loss: 0.5342 - val_accuracy: 0.7358\n",
            "Epoch 2/20\n",
            "75/75 [==============================] - 0s 6ms/step - loss: 0.4133 - accuracy: 0.8115 - val_loss: 0.5462 - val_accuracy: 0.7408\n",
            "Epoch 3/20\n",
            "75/75 [==============================] - 1s 9ms/step - loss: 0.3194 - accuracy: 0.8579 - val_loss: 0.6120 - val_accuracy: 0.7224\n",
            "Epoch 4/20\n",
            "75/75 [==============================] - 1s 8ms/step - loss: 0.2729 - accuracy: 0.8779 - val_loss: 0.6694 - val_accuracy: 0.7157\n",
            "Epoch 5/20\n",
            "75/75 [==============================] - 1s 9ms/step - loss: 0.2435 - accuracy: 0.8767 - val_loss: 0.7111 - val_accuracy: 0.7258\n",
            "Epoch 6/20\n",
            "75/75 [==============================] - 1s 8ms/step - loss: 0.2186 - accuracy: 0.8921 - val_loss: 0.7673 - val_accuracy: 0.7191\n",
            "Epoch 7/20\n",
            "75/75 [==============================] - 0s 5ms/step - loss: 0.2016 - accuracy: 0.9068 - val_loss: 0.8004 - val_accuracy: 0.7174\n",
            "Epoch 8/20\n",
            "75/75 [==============================] - 0s 5ms/step - loss: 0.1830 - accuracy: 0.9256 - val_loss: 0.8444 - val_accuracy: 0.7057\n",
            "Epoch 9/20\n",
            "75/75 [==============================] - 0s 5ms/step - loss: 0.1681 - accuracy: 0.9252 - val_loss: 0.8943 - val_accuracy: 0.7140\n",
            "Epoch 10/20\n",
            "75/75 [==============================] - 0s 5ms/step - loss: 0.1480 - accuracy: 0.9377 - val_loss: 0.9344 - val_accuracy: 0.7107\n",
            "Epoch 11/20\n",
            "75/75 [==============================] - 0s 5ms/step - loss: 0.1296 - accuracy: 0.9448 - val_loss: 1.0084 - val_accuracy: 0.7124\n",
            "Epoch 12/20\n",
            "75/75 [==============================] - 0s 5ms/step - loss: 0.1217 - accuracy: 0.9528 - val_loss: 1.0495 - val_accuracy: 0.7224\n",
            "Epoch 13/20\n",
            "75/75 [==============================] - 0s 5ms/step - loss: 0.1043 - accuracy: 0.9557 - val_loss: 1.1081 - val_accuracy: 0.7107\n",
            "Epoch 14/20\n",
            "75/75 [==============================] - 0s 5ms/step - loss: 0.0979 - accuracy: 0.9649 - val_loss: 1.1485 - val_accuracy: 0.7224\n",
            "Epoch 15/20\n",
            "75/75 [==============================] - 0s 6ms/step - loss: 0.0907 - accuracy: 0.9649 - val_loss: 1.2011 - val_accuracy: 0.7090\n",
            "Epoch 16/20\n",
            "75/75 [==============================] - 0s 6ms/step - loss: 0.0783 - accuracy: 0.9732 - val_loss: 1.2541 - val_accuracy: 0.7191\n",
            "Epoch 17/20\n",
            "75/75 [==============================] - 0s 5ms/step - loss: 0.0707 - accuracy: 0.9770 - val_loss: 1.3319 - val_accuracy: 0.7191\n",
            "Epoch 18/20\n",
            "75/75 [==============================] - 0s 5ms/step - loss: 0.0630 - accuracy: 0.9783 - val_loss: 1.3730 - val_accuracy: 0.7157\n",
            "Epoch 19/20\n",
            "75/75 [==============================] - 0s 5ms/step - loss: 0.0576 - accuracy: 0.9804 - val_loss: 1.4664 - val_accuracy: 0.7324\n",
            "Epoch 20/20\n",
            "75/75 [==============================] - 0s 5ms/step - loss: 0.0604 - accuracy: 0.9770 - val_loss: 1.5115 - val_accuracy: 0.7274\n"
          ]
        },
        {
          "output_type": "execute_result",
          "data": {
            "text/plain": [
              "<keras.src.callbacks.History at 0x7d20d8b65090>"
            ]
          },
          "metadata": {},
          "execution_count": 100
        }
      ]
    },
    {
      "cell_type": "code",
      "source": [
        "y_probs = model3.predict(X_test)\n",
        "y_pred3 = (y_probs > 0.5).astype(int)\n",
        "accuracy3 = accuracy_score(y_test, y_pred3)\n",
        "precision3 = precision_score(y_test, y_pred3)\n",
        "recall3 = recall_score(y_test, y_pred3)\n",
        "f13 = f1_score(y_test, y_pred3)\n",
        "cf3 = confusion_matrix(y_test, y_pred3)"
      ],
      "metadata": {
        "colab": {
          "base_uri": "https://localhost:8080/"
        },
        "id": "6RUlu3KhqQVd",
        "outputId": "6474d878-1a6c-4439-899f-e602b2bee6f2"
      },
      "execution_count": 111,
      "outputs": [
        {
          "output_type": "stream",
          "name": "stdout",
          "text": [
            "24/24 [==============================] - 0s 2ms/step\n"
          ]
        }
      ]
    },
    {
      "cell_type": "code",
      "source": [
        "#dropout rate-0.3\n",
        "model4 = Sequential()\n",
        "model4.add(Dense(units=128, activation='relu', input_dim=X_train.shape[1]))\n",
        "model4.add(Dropout(0.3))\n",
        "model4.add(Dense(units=64, activation='relu'))\n",
        "model4.add(Dense(units=1, activation='sigmoid'))\n",
        "\n",
        "model4.compile(optimizer='adam', loss='binary_crossentropy', metrics=['accuracy'])\n",
        "model4.fit(X_train, y_train, epochs=20, batch_size=32, validation_split=0.2)"
      ],
      "metadata": {
        "colab": {
          "base_uri": "https://localhost:8080/"
        },
        "id": "T801ldyCpkuJ",
        "outputId": "7e8c04fb-b173-4838-9a7a-a4f4c38ce683"
      },
      "execution_count": 102,
      "outputs": [
        {
          "output_type": "stream",
          "name": "stdout",
          "text": [
            "Epoch 1/20\n",
            "75/75 [==============================] - 2s 14ms/step - loss: 0.6339 - accuracy: 0.6651 - val_loss: 0.5316 - val_accuracy: 0.7375\n",
            "Epoch 2/20\n",
            "75/75 [==============================] - 1s 9ms/step - loss: 0.4308 - accuracy: 0.7985 - val_loss: 0.5492 - val_accuracy: 0.7375\n",
            "Epoch 3/20\n",
            "75/75 [==============================] - 1s 10ms/step - loss: 0.3505 - accuracy: 0.8378 - val_loss: 0.5901 - val_accuracy: 0.7224\n",
            "Epoch 4/20\n",
            "75/75 [==============================] - 1s 10ms/step - loss: 0.3020 - accuracy: 0.8645 - val_loss: 0.6336 - val_accuracy: 0.7274\n",
            "Epoch 5/20\n",
            "75/75 [==============================] - 1s 12ms/step - loss: 0.2702 - accuracy: 0.8750 - val_loss: 0.6872 - val_accuracy: 0.7124\n",
            "Epoch 6/20\n",
            "75/75 [==============================] - 0s 5ms/step - loss: 0.2535 - accuracy: 0.8829 - val_loss: 0.7188 - val_accuracy: 0.7324\n",
            "Epoch 7/20\n",
            "75/75 [==============================] - 0s 5ms/step - loss: 0.2196 - accuracy: 0.8992 - val_loss: 0.7662 - val_accuracy: 0.7258\n",
            "Epoch 8/20\n",
            "75/75 [==============================] - 0s 5ms/step - loss: 0.2171 - accuracy: 0.8984 - val_loss: 0.7909 - val_accuracy: 0.7207\n",
            "Epoch 9/20\n",
            "75/75 [==============================] - 0s 6ms/step - loss: 0.1933 - accuracy: 0.9130 - val_loss: 0.8219 - val_accuracy: 0.7291\n",
            "Epoch 10/20\n",
            "75/75 [==============================] - 0s 5ms/step - loss: 0.1825 - accuracy: 0.9147 - val_loss: 0.8574 - val_accuracy: 0.7391\n",
            "Epoch 11/20\n",
            "75/75 [==============================] - 0s 5ms/step - loss: 0.1609 - accuracy: 0.9352 - val_loss: 0.9238 - val_accuracy: 0.7324\n",
            "Epoch 12/20\n",
            "75/75 [==============================] - 0s 5ms/step - loss: 0.1553 - accuracy: 0.9310 - val_loss: 0.9370 - val_accuracy: 0.7375\n",
            "Epoch 13/20\n",
            "75/75 [==============================] - 0s 5ms/step - loss: 0.1433 - accuracy: 0.9419 - val_loss: 1.0106 - val_accuracy: 0.7375\n",
            "Epoch 14/20\n",
            "75/75 [==============================] - 0s 5ms/step - loss: 0.1289 - accuracy: 0.9482 - val_loss: 1.0384 - val_accuracy: 0.7391\n",
            "Epoch 15/20\n",
            "75/75 [==============================] - 0s 5ms/step - loss: 0.1203 - accuracy: 0.9523 - val_loss: 1.1325 - val_accuracy: 0.7274\n",
            "Epoch 16/20\n",
            "75/75 [==============================] - 0s 5ms/step - loss: 0.1069 - accuracy: 0.9574 - val_loss: 1.1548 - val_accuracy: 0.7391\n",
            "Epoch 17/20\n",
            "75/75 [==============================] - 0s 5ms/step - loss: 0.0990 - accuracy: 0.9594 - val_loss: 1.1853 - val_accuracy: 0.7391\n",
            "Epoch 18/20\n",
            "75/75 [==============================] - 1s 8ms/step - loss: 0.0875 - accuracy: 0.9661 - val_loss: 1.2552 - val_accuracy: 0.7375\n",
            "Epoch 19/20\n",
            "75/75 [==============================] - 1s 9ms/step - loss: 0.0950 - accuracy: 0.9620 - val_loss: 1.3143 - val_accuracy: 0.7341\n",
            "Epoch 20/20\n",
            "75/75 [==============================] - 1s 10ms/step - loss: 0.0795 - accuracy: 0.9699 - val_loss: 1.3464 - val_accuracy: 0.7358\n"
          ]
        },
        {
          "output_type": "execute_result",
          "data": {
            "text/plain": [
              "<keras.src.callbacks.History at 0x7d20c8f32950>"
            ]
          },
          "metadata": {},
          "execution_count": 102
        }
      ]
    },
    {
      "cell_type": "code",
      "source": [
        "y_probs = model4.predict(X_test)\n",
        "y_pred4 = (y_probs > 0.5).astype(int)\n",
        "accuracy4 = accuracy_score(y_test, y_pred4)\n",
        "precision4 = precision_score(y_test, y_pred4)\n",
        "recall4 = recall_score(y_test, y_pred4)\n",
        "f14 = f1_score(y_test, y_pred4)\n",
        "cf4 = confusion_matrix(y_test, y_pred4)"
      ],
      "metadata": {
        "colab": {
          "base_uri": "https://localhost:8080/"
        },
        "id": "5cPdq1mLqZSe",
        "outputId": "798bd958-3e6c-4d50-d9f0-885d3bac646a"
      },
      "execution_count": 109,
      "outputs": [
        {
          "output_type": "stream",
          "name": "stdout",
          "text": [
            "24/24 [==============================] - 0s 3ms/step\n"
          ]
        }
      ]
    },
    {
      "cell_type": "code",
      "source": [
        "#dropout rate-0.4\n",
        "model5 = Sequential()\n",
        "model5.add(Dense(units=128, activation='relu', input_dim=X_train.shape[1]))\n",
        "model5.add(Dropout(0.4))\n",
        "model5.add(Dense(units=64, activation='relu'))\n",
        "model5.add(Dense(units=1, activation='sigmoid'))\n",
        "\n",
        "model5.compile(optimizer='adam', loss='binary_crossentropy', metrics=['accuracy'])\n",
        "model5.fit(X_train, y_train, epochs=20, batch_size=32, validation_split=0.2)"
      ],
      "metadata": {
        "colab": {
          "base_uri": "https://localhost:8080/"
        },
        "id": "Ptj8TMoPo7Dh",
        "outputId": "4ca6ac40-d5f6-4368-f778-88e3e20200e2"
      },
      "execution_count": 103,
      "outputs": [
        {
          "output_type": "stream",
          "name": "stdout",
          "text": [
            "Epoch 1/20\n",
            "75/75 [==============================] - 3s 13ms/step - loss: 0.6453 - accuracy: 0.6505 - val_loss: 0.5340 - val_accuracy: 0.7358\n",
            "Epoch 2/20\n",
            "75/75 [==============================] - 1s 10ms/step - loss: 0.4695 - accuracy: 0.7834 - val_loss: 0.5142 - val_accuracy: 0.7425\n",
            "Epoch 3/20\n",
            "75/75 [==============================] - 1s 9ms/step - loss: 0.3880 - accuracy: 0.8236 - val_loss: 0.5410 - val_accuracy: 0.7358\n",
            "Epoch 4/20\n",
            "75/75 [==============================] - 1s 10ms/step - loss: 0.3258 - accuracy: 0.8457 - val_loss: 0.5844 - val_accuracy: 0.7241\n",
            "Epoch 5/20\n",
            "75/75 [==============================] - 0s 7ms/step - loss: 0.2784 - accuracy: 0.8737 - val_loss: 0.6410 - val_accuracy: 0.7391\n",
            "Epoch 6/20\n",
            "75/75 [==============================] - 0s 5ms/step - loss: 0.2662 - accuracy: 0.8779 - val_loss: 0.6685 - val_accuracy: 0.7308\n",
            "Epoch 7/20\n",
            "75/75 [==============================] - 0s 5ms/step - loss: 0.2482 - accuracy: 0.8817 - val_loss: 0.7166 - val_accuracy: 0.7258\n",
            "Epoch 8/20\n",
            "75/75 [==============================] - 0s 6ms/step - loss: 0.2186 - accuracy: 0.9072 - val_loss: 0.7651 - val_accuracy: 0.7241\n",
            "Epoch 9/20\n",
            "75/75 [==============================] - 0s 6ms/step - loss: 0.2116 - accuracy: 0.9022 - val_loss: 0.7952 - val_accuracy: 0.7258\n",
            "Epoch 10/20\n",
            "75/75 [==============================] - 0s 5ms/step - loss: 0.1883 - accuracy: 0.9185 - val_loss: 0.8280 - val_accuracy: 0.7308\n",
            "Epoch 11/20\n",
            "75/75 [==============================] - 0s 5ms/step - loss: 0.1791 - accuracy: 0.9235 - val_loss: 0.8854 - val_accuracy: 0.7258\n",
            "Epoch 12/20\n",
            "75/75 [==============================] - 0s 6ms/step - loss: 0.1699 - accuracy: 0.9239 - val_loss: 0.9065 - val_accuracy: 0.7241\n",
            "Epoch 13/20\n",
            "75/75 [==============================] - 0s 6ms/step - loss: 0.1647 - accuracy: 0.9348 - val_loss: 0.9720 - val_accuracy: 0.7090\n",
            "Epoch 14/20\n",
            "75/75 [==============================] - 0s 6ms/step - loss: 0.1502 - accuracy: 0.9352 - val_loss: 1.0031 - val_accuracy: 0.7207\n",
            "Epoch 15/20\n",
            "75/75 [==============================] - 0s 5ms/step - loss: 0.1477 - accuracy: 0.9411 - val_loss: 1.0261 - val_accuracy: 0.7291\n",
            "Epoch 16/20\n",
            "75/75 [==============================] - 0s 6ms/step - loss: 0.1450 - accuracy: 0.9390 - val_loss: 1.0368 - val_accuracy: 0.7258\n",
            "Epoch 17/20\n",
            "75/75 [==============================] - 0s 5ms/step - loss: 0.1172 - accuracy: 0.9515 - val_loss: 1.0974 - val_accuracy: 0.7157\n",
            "Epoch 18/20\n",
            "75/75 [==============================] - 0s 5ms/step - loss: 0.1095 - accuracy: 0.9582 - val_loss: 1.1640 - val_accuracy: 0.7224\n",
            "Epoch 19/20\n",
            "75/75 [==============================] - 0s 6ms/step - loss: 0.1098 - accuracy: 0.9515 - val_loss: 1.2422 - val_accuracy: 0.7157\n",
            "Epoch 20/20\n",
            "75/75 [==============================] - 1s 9ms/step - loss: 0.1008 - accuracy: 0.9603 - val_loss: 1.3074 - val_accuracy: 0.7241\n"
          ]
        },
        {
          "output_type": "execute_result",
          "data": {
            "text/plain": [
              "<keras.src.callbacks.History at 0x7d20c8f991b0>"
            ]
          },
          "metadata": {},
          "execution_count": 103
        }
      ]
    },
    {
      "cell_type": "code",
      "source": [
        "y_probs = model5.predict(X_test)\n",
        "y_pred5 = (y_probs > 0.5).astype(int)\n",
        "accuracy5 = accuracy_score(y_test, y_pred5)\n",
        "precision5 = precision_score(y_test, y_pred5)\n",
        "recall5 = recall_score(y_test, y_pred5)\n",
        "f15 = f1_score(y_test, y_pred5)\n",
        "cf5 = confusion_matrix(y_test, y_pred5)"
      ],
      "metadata": {
        "colab": {
          "base_uri": "https://localhost:8080/"
        },
        "id": "RIug8X_ip5CA",
        "outputId": "7457f010-f961-4b57-a8c9-647b696f6ab3"
      },
      "execution_count": 110,
      "outputs": [
        {
          "output_type": "stream",
          "name": "stdout",
          "text": [
            "24/24 [==============================] - 0s 2ms/step\n"
          ]
        }
      ]
    },
    {
      "cell_type": "code",
      "source": [
        "print(\"Model Metrics\")\n",
        "print(\"Dropout Rate: 0.2\")\n",
        "print(\"Accuracy: \",accuracy3)\n",
        "print(\"Precision: \",precision3)\n",
        "print(\"Recall: \",recall3)\n",
        "print(\"F1 Score: \",f13)\n",
        "\n",
        "print(\"\\nDropout Rate: 0.3\")\n",
        "print(\"Accuracy: \",accuracy4)\n",
        "print(\"Precision: \",precision4)\n",
        "print(\"Recall: \",recall4)\n",
        "print(\"F1 Score: \",f14)\n",
        "\n",
        "print(\"\\nDropout Rate: 0.4\")\n",
        "print(\"Accuracy: \",accuracy5)\n",
        "print(\"Precision: \",precision5)\n",
        "print(\"Recall: \",recall5)\n",
        "print(\"F1 Score: \",f15)"
      ],
      "metadata": {
        "colab": {
          "base_uri": "https://localhost:8080/"
        },
        "id": "PFnDa0LUq99B",
        "outputId": "ccb0a8b2-f798-418c-ee18-71605fd0bd23"
      },
      "execution_count": 112,
      "outputs": [
        {
          "output_type": "stream",
          "name": "stdout",
          "text": [
            "Model Metrics\n",
            "Dropout Rate: 0.2\n",
            "Accuracy:  0.7152406417112299\n",
            "Precision:  0.7195767195767195\n",
            "Recall:  0.7176781002638523\n",
            "F1 Score:  0.7186261558784677\n",
            "\n",
            "Dropout Rate: 0.3\n",
            "Accuracy:  0.7179144385026738\n",
            "Precision:  0.71875\n",
            "Recall:  0.7282321899736148\n",
            "F1 Score:  0.7234600262123199\n",
            "\n",
            "Dropout Rate: 0.4\n",
            "Accuracy:  0.7179144385026738\n",
            "Precision:  0.7295081967213115\n",
            "Recall:  0.7044854881266491\n",
            "F1 Score:  0.7167785234899329\n"
          ]
        }
      ]
    },
    {
      "cell_type": "markdown",
      "source": [
        "Monte Carlo Dropout"
      ],
      "metadata": {
        "id": "vtgG05TZsZQs"
      }
    },
    {
      "cell_type": "code",
      "source": [
        "#monte Carlo\n",
        "dropout_rate = 0.5\n",
        "model6 = Sequential()\n",
        "model6.add(Dense(units=128, activation='relu', input_dim=X_train.shape[1]))\n",
        "model6.add(Dropout(dropout_rate))\n",
        "model6.add(Dense(units=64, activation='relu'))\n",
        "model6.add(Dropout(dropout_rate))\n",
        "model6.add(Dense(units=1, activation='sigmoid'))\n",
        "\n",
        "model6.compile(optimizer='adam', loss='binary_crossentropy', metrics=['accuracy'])\n",
        "model6.fit(X_train, y_train, epochs=20, batch_size=32, validation_split=0.2)"
      ],
      "metadata": {
        "colab": {
          "base_uri": "https://localhost:8080/"
        },
        "id": "lOt-gAHFr0Nj",
        "outputId": "00253c5a-999f-4359-8c5b-53e233d392eb"
      },
      "execution_count": 116,
      "outputs": [
        {
          "output_type": "stream",
          "name": "stdout",
          "text": [
            "Epoch 1/20\n",
            "75/75 [==============================] - 1s 8ms/step - loss: 0.8340 - accuracy: 0.5886 - val_loss: 0.5813 - val_accuracy: 0.7207\n",
            "Epoch 2/20\n",
            "75/75 [==============================] - 0s 5ms/step - loss: 0.6298 - accuracy: 0.6952 - val_loss: 0.5501 - val_accuracy: 0.7274\n",
            "Epoch 3/20\n",
            "75/75 [==============================] - 0s 6ms/step - loss: 0.5414 - accuracy: 0.7567 - val_loss: 0.5329 - val_accuracy: 0.7308\n",
            "Epoch 4/20\n",
            "75/75 [==============================] - 0s 6ms/step - loss: 0.4815 - accuracy: 0.7839 - val_loss: 0.5307 - val_accuracy: 0.7308\n",
            "Epoch 5/20\n",
            "75/75 [==============================] - 0s 5ms/step - loss: 0.4033 - accuracy: 0.8181 - val_loss: 0.5415 - val_accuracy: 0.7291\n",
            "Epoch 6/20\n",
            "75/75 [==============================] - 0s 5ms/step - loss: 0.3758 - accuracy: 0.8336 - val_loss: 0.5631 - val_accuracy: 0.7274\n",
            "Epoch 7/20\n",
            "75/75 [==============================] - 0s 5ms/step - loss: 0.3312 - accuracy: 0.8482 - val_loss: 0.5991 - val_accuracy: 0.7207\n",
            "Epoch 8/20\n",
            "75/75 [==============================] - 0s 5ms/step - loss: 0.3127 - accuracy: 0.8604 - val_loss: 0.6338 - val_accuracy: 0.7258\n",
            "Epoch 9/20\n",
            "75/75 [==============================] - 0s 5ms/step - loss: 0.2866 - accuracy: 0.8758 - val_loss: 0.6596 - val_accuracy: 0.7375\n",
            "Epoch 10/20\n",
            "75/75 [==============================] - 0s 5ms/step - loss: 0.2748 - accuracy: 0.8691 - val_loss: 0.6830 - val_accuracy: 0.7341\n",
            "Epoch 11/20\n",
            "75/75 [==============================] - 0s 5ms/step - loss: 0.2689 - accuracy: 0.8742 - val_loss: 0.7013 - val_accuracy: 0.7241\n",
            "Epoch 12/20\n",
            "75/75 [==============================] - 0s 5ms/step - loss: 0.2597 - accuracy: 0.8846 - val_loss: 0.7297 - val_accuracy: 0.7291\n",
            "Epoch 13/20\n",
            "75/75 [==============================] - 0s 5ms/step - loss: 0.2291 - accuracy: 0.8938 - val_loss: 0.7713 - val_accuracy: 0.7341\n",
            "Epoch 14/20\n",
            "75/75 [==============================] - 0s 6ms/step - loss: 0.2308 - accuracy: 0.8942 - val_loss: 0.7888 - val_accuracy: 0.7291\n",
            "Epoch 15/20\n",
            "75/75 [==============================] - 1s 7ms/step - loss: 0.2272 - accuracy: 0.8967 - val_loss: 0.8101 - val_accuracy: 0.7358\n",
            "Epoch 16/20\n",
            "75/75 [==============================] - 1s 9ms/step - loss: 0.2076 - accuracy: 0.9034 - val_loss: 0.8511 - val_accuracy: 0.7308\n",
            "Epoch 17/20\n",
            "75/75 [==============================] - 1s 9ms/step - loss: 0.2040 - accuracy: 0.9089 - val_loss: 0.8650 - val_accuracy: 0.7341\n",
            "Epoch 18/20\n",
            "75/75 [==============================] - 1s 10ms/step - loss: 0.1988 - accuracy: 0.9126 - val_loss: 0.8938 - val_accuracy: 0.7291\n",
            "Epoch 19/20\n",
            "75/75 [==============================] - 1s 8ms/step - loss: 0.1840 - accuracy: 0.9189 - val_loss: 0.9369 - val_accuracy: 0.7391\n",
            "Epoch 20/20\n",
            "75/75 [==============================] - 0s 6ms/step - loss: 0.1809 - accuracy: 0.9172 - val_loss: 0.9717 - val_accuracy: 0.7274\n"
          ]
        },
        {
          "output_type": "execute_result",
          "data": {
            "text/plain": [
              "<keras.src.callbacks.History at 0x7d20c93de380>"
            ]
          },
          "metadata": {},
          "execution_count": 116
        }
      ]
    },
    {
      "cell_type": "code",
      "source": [
        "mc_samples = 50\n",
        "pred1_mc = np.zeros((mc_samples, len(X_test)))"
      ],
      "metadata": {
        "id": "Lqo0Q7lBs5fr"
      },
      "execution_count": 123,
      "outputs": []
    },
    {
      "cell_type": "code",
      "source": [
        "for i in range(mc_samples):\n",
        "    pred1_mc[i] = model6.predict(X_test, batch_size=32).flatten()"
      ],
      "metadata": {
        "colab": {
          "base_uri": "https://localhost:8080/"
        },
        "id": "JFenYxbBtsaJ",
        "outputId": "bc0488ef-d8ff-4ea1-8ee9-86c3729dc988"
      },
      "execution_count": 124,
      "outputs": [
        {
          "output_type": "stream",
          "name": "stdout",
          "text": [
            "24/24 [==============================] - 0s 2ms/step\n",
            "24/24 [==============================] - 0s 2ms/step\n",
            "24/24 [==============================] - 0s 2ms/step\n",
            "24/24 [==============================] - 0s 2ms/step\n",
            "24/24 [==============================] - 0s 2ms/step\n",
            "24/24 [==============================] - 0s 2ms/step\n",
            "24/24 [==============================] - 0s 2ms/step\n",
            "24/24 [==============================] - 0s 2ms/step\n",
            "24/24 [==============================] - 0s 2ms/step\n",
            "24/24 [==============================] - 0s 2ms/step\n",
            "24/24 [==============================] - 0s 2ms/step\n",
            "24/24 [==============================] - 0s 2ms/step\n",
            "24/24 [==============================] - 0s 2ms/step\n",
            "24/24 [==============================] - 0s 2ms/step\n",
            "24/24 [==============================] - 0s 2ms/step\n",
            "24/24 [==============================] - 0s 2ms/step\n",
            "24/24 [==============================] - 0s 2ms/step\n",
            "24/24 [==============================] - 0s 2ms/step\n",
            "24/24 [==============================] - 0s 2ms/step\n",
            "24/24 [==============================] - 0s 2ms/step\n",
            "24/24 [==============================] - 0s 2ms/step\n",
            "24/24 [==============================] - 0s 2ms/step\n",
            "24/24 [==============================] - 0s 2ms/step\n",
            "24/24 [==============================] - 0s 2ms/step\n",
            "24/24 [==============================] - 0s 2ms/step\n",
            "24/24 [==============================] - 0s 2ms/step\n",
            "24/24 [==============================] - 0s 2ms/step\n",
            "24/24 [==============================] - 0s 2ms/step\n",
            "24/24 [==============================] - 0s 2ms/step\n",
            "24/24 [==============================] - 0s 2ms/step\n",
            "24/24 [==============================] - 0s 2ms/step\n",
            "24/24 [==============================] - 0s 3ms/step\n",
            "24/24 [==============================] - 0s 3ms/step\n",
            "24/24 [==============================] - 0s 3ms/step\n",
            "24/24 [==============================] - 0s 3ms/step\n",
            "24/24 [==============================] - 0s 3ms/step\n",
            "24/24 [==============================] - 0s 3ms/step\n",
            "24/24 [==============================] - 0s 3ms/step\n",
            "24/24 [==============================] - 0s 3ms/step\n",
            "24/24 [==============================] - 0s 3ms/step\n",
            "24/24 [==============================] - 0s 3ms/step\n",
            "24/24 [==============================] - 0s 2ms/step\n",
            "24/24 [==============================] - 0s 2ms/step\n",
            "24/24 [==============================] - 0s 2ms/step\n",
            "24/24 [==============================] - 0s 2ms/step\n",
            "24/24 [==============================] - 0s 2ms/step\n",
            "24/24 [==============================] - 0s 2ms/step\n",
            "24/24 [==============================] - 0s 2ms/step\n",
            "24/24 [==============================] - 0s 2ms/step\n",
            "24/24 [==============================] - 0s 2ms/step\n"
          ]
        }
      ]
    },
    {
      "cell_type": "code",
      "source": [
        "mean_mc = np.mean(pred1_mc, axis=0)\n",
        "std_mc = np.std(pred1_mc, axis=0)"
      ],
      "metadata": {
        "id": "ceNK_WPbuFPy"
      },
      "execution_count": 125,
      "outputs": []
    },
    {
      "cell_type": "code",
      "source": [
        "print(\"Shape of y_test:\", y_test.shape)\n",
        "print(\"Shape of pred1_mc:\", pred1_mc.shape)\n"
      ],
      "metadata": {
        "colab": {
          "base_uri": "https://localhost:8080/"
        },
        "id": "yzlg_6iOvX5R",
        "outputId": "d6b46364-8c00-4f60-a53a-341f44c18dbd"
      },
      "execution_count": 128,
      "outputs": [
        {
          "output_type": "stream",
          "name": "stdout",
          "text": [
            "Shape of y_test: (748,)\n",
            "Shape of pred1_mc: (50, 748)\n"
          ]
        }
      ]
    },
    {
      "cell_type": "code",
      "source": [
        "threshold = 0.5\n",
        "pred_mc = (mean_mc > threshold).astype(int)\n",
        "cf_mc_dropout = classification_report(y_test, pred_mc)\n",
        "print(\"Classification Report (Monte Carlo Dropout):\")\n",
        "print(cf_mc_dropout)"
      ],
      "metadata": {
        "colab": {
          "base_uri": "https://localhost:8080/"
        },
        "id": "BLxWAW-_ua6U",
        "outputId": "408b384c-1a3f-41a9-b6b6-7f91fba2b093"
      },
      "execution_count": 129,
      "outputs": [
        {
          "output_type": "stream",
          "name": "stdout",
          "text": [
            "Classification Report (Monte Carlo Dropout):\n",
            "              precision    recall  f1-score   support\n",
            "\n",
            "           0       0.73      0.75      0.74       369\n",
            "           1       0.75      0.73      0.74       379\n",
            "\n",
            "    accuracy                           0.74       748\n",
            "   macro avg       0.74      0.74      0.74       748\n",
            "weighted avg       0.74      0.74      0.74       748\n",
            "\n"
          ]
        }
      ]
    },
    {
      "cell_type": "code",
      "source": [
        "accuracy6 = accuracy_score(y_test, pred_mc)\n",
        "precision6 = precision_score(y_test, pred_mc)\n",
        "recall6 = recall_score(y_test, pred_mc)\n",
        "f16 = f1_score(y_test, pred_mc)\n",
        "cf6 = confusion_matrix(y_test, pred_mc)"
      ],
      "metadata": {
        "id": "IRTrUXghu0G9"
      },
      "execution_count": 130,
      "outputs": []
    },
    {
      "cell_type": "code",
      "source": [
        "print(\"Monte Carlo Regularization-\")\n",
        "print(\"Accuracy: \",accuracy6)\n",
        "print(\"Precision: \",precision6)\n",
        "print(\"Recall: \",recall6)\n",
        "print(\"F1 Score: \",f16)"
      ],
      "metadata": {
        "colab": {
          "base_uri": "https://localhost:8080/"
        },
        "id": "GK-mK7TDv_Bd",
        "outputId": "61bc6b61-be51-4d2c-887f-13dee35c6b82"
      },
      "execution_count": 133,
      "outputs": [
        {
          "output_type": "stream",
          "name": "stdout",
          "text": [
            "Monte Carlo Regularization-\n",
            "Accuracy:  0.7393048128342246\n",
            "Precision:  0.7486486486486487\n",
            "Recall:  0.7308707124010554\n",
            "F1 Score:  0.7396528704939919\n"
          ]
        }
      ]
    },
    {
      "cell_type": "code",
      "source": [
        "precision2, recall2, thresholds2 = precision_recall_curve(y_test, dpred)\n",
        "precision3, recall3, thresholds3 = precision_recall_curve(y_test, y_pred3)\n",
        "precision4, recall4, thresholds4 = precision_recall_curve(y_test, y_pred4)\n",
        "precision5, recall5, thresholds5 = precision_recall_curve(y_test, y_pred5)\n",
        "precision6, recall6, thresholds6 = precision_recall_curve(y_test, pred_mc)\n",
        "labels = ['DNN with dropout','LWD- 0.2','LWD- 0.3','LWD- 0.4','Monte Carlo']\n",
        "plt.plot(recall2, precision2, color='pink', label=labels[0])\n",
        "plt.plot(recall3, precision3, color='red', label=labels[1])\n",
        "plt.plot(recall4, precision4, color='orange', label=labels[2])\n",
        "plt.plot(recall5, precision5, color='green', label=labels[3])\n",
        "plt.plot(recall6, precision6, color='cyan', label=labels[4])\n",
        "plt.xlabel('Recall')\n",
        "plt.ylabel('Precision')\n",
        "plt.title('Precision-Recall Curve- Dropout Regularization')\n",
        "plt.legend()\n",
        "plt.show()"
      ],
      "metadata": {
        "colab": {
          "base_uri": "https://localhost:8080/",
          "height": 472
        },
        "id": "Ylea98PywSwq",
        "outputId": "8a2fced4-fa73-4fe8-db46-d2967efb242d"
      },
      "execution_count": 136,
      "outputs": [
        {
          "output_type": "display_data",
          "data": {
            "text/plain": [
              "<Figure size 640x480 with 1 Axes>"
            ],
            "image/png": "[encoded data removed]"
          },
          "metadata": {}
        }
      ]
    },
    {
      "cell_type": "markdown",
      "source": [
        " Conclusion-\n",
        "\n",
        "1. Similar Accuracy: All the models have approximately the same accuracy, around 0.71, based on the Precision-Recall Curve.\n",
        "2. With the help of MonteCarlo the accuracy of the model is getting increased to 73%."
      ],
      "metadata": {
        "id": "aa8T-kpazpmQ"
      }
    }
  ]
}